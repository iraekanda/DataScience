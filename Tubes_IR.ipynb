{
  "nbformat": 4,
  "nbformat_minor": 0,
  "metadata": {
    "colab": {
      "name": "Tubes IR.ipynb",
      "provenance": [],
      "collapsed_sections": []
    },
    "kernelspec": {
      "name": "python3",
      "display_name": "Python 3"
    }
  },
  "cells": [
    {
      "cell_type": "code",
      "metadata": {
        "colab": {
          "base_uri": "https://localhost:8080/"
        },
        "id": "D-5AIG4h61ew",
        "outputId": "c4dde288-f212-40ef-ffa5-9ccac1d6fd64"
      },
      "source": [
        "pip install newspaper3k"
      ],
      "execution_count": null,
      "outputs": [
        {
          "output_type": "stream",
          "text": [
            "Collecting newspaper3k\n",
            "\u001b[?25l  Downloading https://files.pythonhosted.org/packages/d7/b9/51afecb35bb61b188a4b44868001de348a0e8134b4dfa00ffc191567c4b9/newspaper3k-0.2.8-py3-none-any.whl (211kB)\n",
            "\r\u001b[K     |█▌                              | 10kB 15.8MB/s eta 0:00:01\r\u001b[K     |███                             | 20kB 21.8MB/s eta 0:00:01\r\u001b[K     |████▋                           | 30kB 13.6MB/s eta 0:00:01\r\u001b[K     |██████▏                         | 40kB 9.8MB/s eta 0:00:01\r\u001b[K     |███████▊                        | 51kB 5.5MB/s eta 0:00:01\r\u001b[K     |█████████▎                      | 61kB 6.0MB/s eta 0:00:01\r\u001b[K     |██████████▉                     | 71kB 6.4MB/s eta 0:00:01\r\u001b[K     |████████████▍                   | 81kB 6.7MB/s eta 0:00:01\r\u001b[K     |██████████████                  | 92kB 6.4MB/s eta 0:00:01\r\u001b[K     |███████████████▌                | 102kB 7.0MB/s eta 0:00:01\r\u001b[K     |█████████████████               | 112kB 7.0MB/s eta 0:00:01\r\u001b[K     |██████████████████▋             | 122kB 7.0MB/s eta 0:00:01\r\u001b[K     |████████████████████▏           | 133kB 7.0MB/s eta 0:00:01\r\u001b[K     |█████████████████████▊          | 143kB 7.0MB/s eta 0:00:01\r\u001b[K     |███████████████████████▎        | 153kB 7.0MB/s eta 0:00:01\r\u001b[K     |████████████████████████▉       | 163kB 7.0MB/s eta 0:00:01\r\u001b[K     |██████████████████████████▍     | 174kB 7.0MB/s eta 0:00:01\r\u001b[K     |████████████████████████████    | 184kB 7.0MB/s eta 0:00:01\r\u001b[K     |█████████████████████████████▌  | 194kB 7.0MB/s eta 0:00:01\r\u001b[K     |███████████████████████████████ | 204kB 7.0MB/s eta 0:00:01\r\u001b[K     |████████████████████████████████| 215kB 7.0MB/s \n",
            "\u001b[?25hRequirement already satisfied: beautifulsoup4>=4.4.1 in /usr/local/lib/python3.6/dist-packages (from newspaper3k) (4.6.3)\n",
            "Collecting tldextract>=2.0.1\n",
            "\u001b[?25l  Downloading https://files.pythonhosted.org/packages/7e/62/b6acd3129c5615b9860e670df07fd55b76175b63e6b7f68282c7cad38e9e/tldextract-3.1.0-py2.py3-none-any.whl (87kB)\n",
            "\u001b[K     |████████████████████████████████| 92kB 7.6MB/s \n",
            "\u001b[?25hCollecting cssselect>=0.9.2\n",
            "  Downloading https://files.pythonhosted.org/packages/3b/d4/3b5c17f00cce85b9a1e6f91096e1cc8e8ede2e1be8e96b87ce1ed09e92c5/cssselect-1.1.0-py2.py3-none-any.whl\n",
            "Collecting feedfinder2>=0.0.4\n",
            "  Downloading https://files.pythonhosted.org/packages/35/82/1251fefec3bb4b03fd966c7e7f7a41c9fc2bb00d823a34c13f847fd61406/feedfinder2-0.0.4.tar.gz\n",
            "Requirement already satisfied: lxml>=3.6.0 in /usr/local/lib/python3.6/dist-packages (from newspaper3k) (4.2.6)\n",
            "Requirement already satisfied: PyYAML>=3.11 in /usr/local/lib/python3.6/dist-packages (from newspaper3k) (3.13)\n",
            "Requirement already satisfied: nltk>=3.2.1 in /usr/local/lib/python3.6/dist-packages (from newspaper3k) (3.2.5)\n",
            "Requirement already satisfied: python-dateutil>=2.5.3 in /usr/local/lib/python3.6/dist-packages (from newspaper3k) (2.8.1)\n",
            "Collecting tinysegmenter==0.3\n",
            "  Downloading https://files.pythonhosted.org/packages/17/82/86982e4b6d16e4febc79c2a1d68ee3b707e8a020c5d2bc4af8052d0f136a/tinysegmenter-0.3.tar.gz\n",
            "Requirement already satisfied: Pillow>=3.3.0 in /usr/local/lib/python3.6/dist-packages (from newspaper3k) (7.0.0)\n",
            "Collecting feedparser>=5.2.1\n",
            "\u001b[?25l  Downloading https://files.pythonhosted.org/packages/1c/21/faf1bac028662cc8adb2b5ef7a6f3999a765baa2835331df365289b0ca56/feedparser-6.0.2-py3-none-any.whl (80kB)\n",
            "\u001b[K     |████████████████████████████████| 81kB 8.6MB/s \n",
            "\u001b[?25hRequirement already satisfied: requests>=2.10.0 in /usr/local/lib/python3.6/dist-packages (from newspaper3k) (2.23.0)\n",
            "Collecting jieba3k>=0.35.1\n",
            "\u001b[?25l  Downloading https://files.pythonhosted.org/packages/a9/cb/2c8332bcdc14d33b0bedd18ae0a4981a069c3513e445120da3c3f23a8aaa/jieba3k-0.35.1.zip (7.4MB)\n",
            "\u001b[K     |████████████████████████████████| 7.4MB 32.8MB/s \n",
            "\u001b[?25hRequirement already satisfied: idna in /usr/local/lib/python3.6/dist-packages (from tldextract>=2.0.1->newspaper3k) (2.10)\n",
            "Requirement already satisfied: filelock>=3.0.8 in /usr/local/lib/python3.6/dist-packages (from tldextract>=2.0.1->newspaper3k) (3.0.12)\n",
            "Collecting requests-file>=1.4\n",
            "  Downloading https://files.pythonhosted.org/packages/77/86/cdb5e8eaed90796aa83a6d9f75cfbd37af553c47a291cd47bc410ef9bdb2/requests_file-1.5.1-py2.py3-none-any.whl\n",
            "Requirement already satisfied: six in /usr/local/lib/python3.6/dist-packages (from feedfinder2>=0.0.4->newspaper3k) (1.15.0)\n",
            "Collecting sgmllib3k\n",
            "  Downloading https://files.pythonhosted.org/packages/9e/bd/3704a8c3e0942d711c1299ebf7b9091930adae6675d7c8f476a7ce48653c/sgmllib3k-1.0.0.tar.gz\n",
            "Requirement already satisfied: chardet<4,>=3.0.2 in /usr/local/lib/python3.6/dist-packages (from requests>=2.10.0->newspaper3k) (3.0.4)\n",
            "Requirement already satisfied: certifi>=2017.4.17 in /usr/local/lib/python3.6/dist-packages (from requests>=2.10.0->newspaper3k) (2020.12.5)\n",
            "Requirement already satisfied: urllib3!=1.25.0,!=1.25.1,<1.26,>=1.21.1 in /usr/local/lib/python3.6/dist-packages (from requests>=2.10.0->newspaper3k) (1.24.3)\n",
            "Building wheels for collected packages: feedfinder2, tinysegmenter, jieba3k, sgmllib3k\n",
            "  Building wheel for feedfinder2 (setup.py) ... \u001b[?25l\u001b[?25hdone\n",
            "  Created wheel for feedfinder2: filename=feedfinder2-0.0.4-cp36-none-any.whl size=3358 sha256=d6fed33533d90aaa68af4623756351a51ccd541a19a440c645a6aa6be64f257e\n",
            "  Stored in directory: /root/.cache/pip/wheels/de/03/ca/778e3a7a627e3d98836cc890e7cb40c7575424cfd3340f40ed\n",
            "  Building wheel for tinysegmenter (setup.py) ... \u001b[?25l\u001b[?25hdone\n",
            "  Created wheel for tinysegmenter: filename=tinysegmenter-0.3-cp36-none-any.whl size=13538 sha256=84b7e73f6b69b8a26ab2201c683e05c7bf36a8d7df491168be65068eece9e5c2\n",
            "  Stored in directory: /root/.cache/pip/wheels/81/2b/43/a02ede72324dd40cdd7ca53aad718c7710628e91b8b0dc0f02\n",
            "  Building wheel for jieba3k (setup.py) ... \u001b[?25l\u001b[?25hdone\n",
            "  Created wheel for jieba3k: filename=jieba3k-0.35.1-cp36-none-any.whl size=7398406 sha256=600b5043742ff664f369041cdb3067a188a613c606bdb55e5fe5e88d3212e686\n",
            "  Stored in directory: /root/.cache/pip/wheels/83/15/9c/a3f1f67e7f7181170ad37d32e503c35da20627c013f438ed34\n",
            "  Building wheel for sgmllib3k (setup.py) ... \u001b[?25l\u001b[?25hdone\n",
            "  Created wheel for sgmllib3k: filename=sgmllib3k-1.0.0-cp36-none-any.whl size=6066 sha256=e0d70b39a57b1c4abfa19c5ad898bd53936ce8cd6ebafc0939b91966bf54e469\n",
            "  Stored in directory: /root/.cache/pip/wheels/f1/80/5a/444ba08a550cdd241bd9baf8bae44be750efe370adb944506a\n",
            "Successfully built feedfinder2 tinysegmenter jieba3k sgmllib3k\n",
            "Installing collected packages: requests-file, tldextract, cssselect, feedfinder2, tinysegmenter, sgmllib3k, feedparser, jieba3k, newspaper3k\n",
            "Successfully installed cssselect-1.1.0 feedfinder2-0.0.4 feedparser-6.0.2 jieba3k-0.35.1 newspaper3k-0.2.8 requests-file-1.5.1 sgmllib3k-1.0.0 tinysegmenter-0.3 tldextract-3.1.0\n"
          ],
          "name": "stdout"
        }
      ]
    },
    {
      "cell_type": "code",
      "metadata": {
        "colab": {
          "base_uri": "https://localhost:8080/"
        },
        "id": "7jR9KJh559Tz",
        "outputId": "b3fc18df-944d-4393-bcc8-14a3d713e3ae"
      },
      "source": [
        "from newspaper import Article\n",
        "import newspaper\n",
        "import nltk\n",
        "nltk.download('punkt')\n",
        "kompas_paper = newspaper.build('https://kompas.com/')\n",
        "\n",
        "for article in kompas_paper.articles:\n",
        "    print(article.url) \n",
        "    for category in kompas_paper.category_urls():\n",
        "          print(category)\n",
        "          kompas_article = kompas_paper.articles[0]\n",
        "          kompas_article.download()\n",
        "          kompas_article.parse()\n",
        "          kompas_article.nlp()"
      ],
      "execution_count": null,
      "outputs": [
        {
          "output_type": "stream",
          "text": [
            "[nltk_data] Downloading package punkt to /root/nltk_data...\n",
            "[nltk_data]   Unzipping tokenizers/punkt.zip.\n",
            "https://tekno.kompas.com/read/2020/12/28/20061677/miliarder-pengembang-game-asal-china-meninggal-akibat-diracun\n",
            "https://kompas.com/\n",
            "https://money.kompas.com\n",
            "https://indeks.kompas.com\n",
            "https://foto.kompas.com\n",
            "https://inside.kompas.com\n",
            "https://internasional.kompas.com\n",
            "https://kilasbadannegara.kompas.com\n",
            "https://sains.kompas.com\n",
            "https://www.kompas.id\n",
            "https://sorotpolitik.kompas.com\n",
            "https://bola.kompas.com\n",
            "https://health.kompas.com\n",
            "https://lifestyle.kompas.com\n",
            "https://balikpapan.kompas.com\n",
            "https://www.kompas.com\n",
            "https://palembang.kompas.com\n",
            "https://kilasbumn.kompas.com\n",
            "https://regional.kompas.com\n",
            "https://sorot.kompas.com\n",
            "https://inspirasli.kompas.com\n",
            "http://kolom.kompas.com\n",
            "http://www.kompas.tv\n",
            "https://jeo.kompas.com\n",
            "https://properti.kompas.com\n",
            "https://superapps.kompas.com\n",
            "http://indeks.kompas.com\n",
            "https://nasional.kompas.com\n",
            "https://surabaya.kompas.com\n",
            "https://travel.kompas.com\n",
            "https://kilastransportasi.kompas.com\n",
            "https://megapolitan.kompas.com\n",
            "https://makassar.kompas.com\n",
            "https://kilaskorporasi.kompas.com\n",
            "https://kilaspendidikan.kompas.com\n",
            "https://otomotif.kompas.com\n",
            "https://medan.kompas.com\n",
            "https://kilasfintech.kompas.com\n",
            "https://ohayojepang.kompas.com\n",
            "https://kilasparlemen.kompas.com\n",
            "https://kilasdaerah.kompas.com\n",
            "https://sbmptn.kompas.com\n",
            "https://vik.kompas.com\n",
            "https://kolom.kompas.com\n",
            "https://kilaskementerian.kompas.com\n",
            "https://edukasi.kompas.com\n",
            "https://tekno.kompas.com\n",
            "https://biz.kompas.com\n",
            "http://kompas.id\n",
            "https://genbest.kompas.com\n",
            "https://news.kompas.com\n",
            "https://samarinda.kompas.com\n",
            "https://kilasbadan.kompas.com\n",
            "https://entertainment.kompas.com\n",
            "https://health.kompas.com/read/2020/12/28/200600468/15-cara-mengatasi-insomnia-yang-baik-dilakukan\n",
            "https://kompas.com/\n",
            "https://money.kompas.com\n",
            "https://indeks.kompas.com\n",
            "https://foto.kompas.com\n",
            "https://inside.kompas.com\n",
            "https://internasional.kompas.com\n",
            "https://kilasbadannegara.kompas.com\n",
            "https://sains.kompas.com\n",
            "https://www.kompas.id\n",
            "https://sorotpolitik.kompas.com\n",
            "https://bola.kompas.com\n",
            "https://health.kompas.com\n",
            "https://lifestyle.kompas.com\n",
            "https://balikpapan.kompas.com\n",
            "https://www.kompas.com\n",
            "https://palembang.kompas.com\n",
            "https://kilasbumn.kompas.com\n",
            "https://regional.kompas.com\n",
            "https://sorot.kompas.com\n",
            "https://inspirasli.kompas.com\n",
            "http://kolom.kompas.com\n",
            "http://www.kompas.tv\n",
            "https://jeo.kompas.com\n",
            "https://properti.kompas.com\n",
            "https://superapps.kompas.com\n",
            "http://indeks.kompas.com\n",
            "https://nasional.kompas.com\n",
            "https://surabaya.kompas.com\n",
            "https://travel.kompas.com\n",
            "https://kilastransportasi.kompas.com\n",
            "https://megapolitan.kompas.com\n",
            "https://makassar.kompas.com\n",
            "https://kilaskorporasi.kompas.com\n",
            "https://kilaspendidikan.kompas.com\n",
            "https://otomotif.kompas.com\n",
            "https://medan.kompas.com\n",
            "https://kilasfintech.kompas.com\n",
            "https://ohayojepang.kompas.com\n",
            "https://kilasparlemen.kompas.com\n",
            "https://kilasdaerah.kompas.com\n",
            "https://sbmptn.kompas.com\n",
            "https://vik.kompas.com\n",
            "https://kolom.kompas.com\n",
            "https://kilaskementerian.kompas.com\n",
            "https://edukasi.kompas.com\n",
            "https://tekno.kompas.com\n",
            "https://biz.kompas.com\n",
            "http://kompas.id\n",
            "https://genbest.kompas.com\n",
            "https://news.kompas.com\n",
            "https://samarinda.kompas.com\n",
            "https://kilasbadan.kompas.com\n",
            "https://entertainment.kompas.com\n"
          ],
          "name": "stdout"
        }
      ]
    },
    {
      "cell_type": "code",
      "metadata": {
        "id": "87aJGGSmnRX0"
      },
      "source": [
        "import re\n",
        "import string\n",
        "import requests\n",
        "import numpy as np\n",
        "import pandas as pd\n",
        "from bs4 import BeautifulSoup\n",
        "from sklearn.feature_extraction.text import TfidfVectorizer\n",
        "\n",
        "def retrieve_docs_and_clean():\n",
        "  # Untuk mendapatkan link berita populer\n",
        "  r = requests.get('https://bola.kompas.com/')\n",
        "  soup = BeautifulSoup(r.content, 'html.parser')\n",
        "\n",
        "  link = []\n",
        "  for i in soup.find('div', {'class':'most__wrap clearfix'}).find_all('a'):\n",
        "      i['href'] = i['href'] + '?page=all'\n",
        "      link.append(i['href'])\n",
        "\n",
        "  # Retrieve Paragraphs\n",
        "  documents = []\n",
        "  for i in link:\n",
        "      r = requests.get(i)\n",
        "      soup = BeautifulSoup(r.content, 'html.parser')\n",
        "\n",
        "      sen = []\n",
        "      for i in soup.find('div', {'class':'read__content'}).find_all('p'):\n",
        "          sen.append(i.text)\n",
        "      documents.append(' '.join(sen))\n",
        "\n",
        "  # Clean Paragraphs\n",
        "  documents_clean = []\n",
        "  for d in documents:\n",
        "      document_test = re.sub(r'[^\\x00-\\x7F]+', ' ', d)\n",
        "      document_test = re.sub(r'@\\w+', '', document_test)\n",
        "      document_test = document_test.lower()\n",
        "      document_test = re.sub(r'[%s]' % re.escape(string.punctuation), ' ', document_test)\n",
        "      document_test = re.sub(r'[0-9]', '', document_test)\n",
        "      document_test = re.sub(r'\\s{2,}', ' ', document_test)\n",
        "      documents_clean.append(document_test)\n",
        "\n",
        "  return documents_clean"
      ],
      "execution_count": null,
      "outputs": []
    },
    {
      "cell_type": "code",
      "metadata": {
        "colab": {
          "base_uri": "https://localhost:8080/",
          "height": 204
        },
        "id": "H1OiFhZangLK",
        "outputId": "a3e29645-9ccb-45b6-899e-3dd1ee61f889"
      },
      "source": [
        "docs = retrieve_docs_and_clean()\n",
        "# Create Term-Document Matrix with TF-IDF weighting\n",
        "vectorizer = TfidfVectorizer()\n",
        "X = vectorizer.fit_transform(docs)\n",
        "\n",
        "# Create a DataFrame\n",
        "df = pd.DataFrame(X.T.toarray(), index=vectorizer.get_feature_names())\n",
        "df.head()"
      ],
      "execution_count": null,
      "outputs": [
        {
          "output_type": "execute_result",
          "data": {
            "text/html": [
              "<div>\n",
              "<style scoped>\n",
              "    .dataframe tbody tr th:only-of-type {\n",
              "        vertical-align: middle;\n",
              "    }\n",
              "\n",
              "    .dataframe tbody tr th {\n",
              "        vertical-align: top;\n",
              "    }\n",
              "\n",
              "    .dataframe thead th {\n",
              "        text-align: right;\n",
              "    }\n",
              "</style>\n",
              "<table border=\"1\" class=\"dataframe\">\n",
              "  <thead>\n",
              "    <tr style=\"text-align: right;\">\n",
              "      <th></th>\n",
              "      <th>0</th>\n",
              "      <th>1</th>\n",
              "      <th>2</th>\n",
              "      <th>3</th>\n",
              "      <th>4</th>\n",
              "      <th>5</th>\n",
              "      <th>6</th>\n",
              "      <th>7</th>\n",
              "      <th>8</th>\n",
              "      <th>9</th>\n",
              "    </tr>\n",
              "  </thead>\n",
              "  <tbody>\n",
              "    <tr>\n",
              "      <th>abad</th>\n",
              "      <td>0.000000</td>\n",
              "      <td>0.000000</td>\n",
              "      <td>0.000000</td>\n",
              "      <td>0.000000</td>\n",
              "      <td>0.000000</td>\n",
              "      <td>0.000000</td>\n",
              "      <td>0.000000</td>\n",
              "      <td>0.185876</td>\n",
              "      <td>0.000000</td>\n",
              "      <td>0.000000</td>\n",
              "    </tr>\n",
              "    <tr>\n",
              "      <th>about</th>\n",
              "      <td>0.000000</td>\n",
              "      <td>0.000000</td>\n",
              "      <td>0.000000</td>\n",
              "      <td>0.000000</td>\n",
              "      <td>0.000000</td>\n",
              "      <td>0.000000</td>\n",
              "      <td>0.000000</td>\n",
              "      <td>0.046469</td>\n",
              "      <td>0.000000</td>\n",
              "      <td>0.000000</td>\n",
              "    </tr>\n",
              "    <tr>\n",
              "      <th>acara</th>\n",
              "      <td>0.000000</td>\n",
              "      <td>0.000000</td>\n",
              "      <td>0.000000</td>\n",
              "      <td>0.000000</td>\n",
              "      <td>0.000000</td>\n",
              "      <td>0.000000</td>\n",
              "      <td>0.000000</td>\n",
              "      <td>0.046469</td>\n",
              "      <td>0.000000</td>\n",
              "      <td>0.000000</td>\n",
              "    </tr>\n",
              "    <tr>\n",
              "      <th>ada</th>\n",
              "      <td>0.000000</td>\n",
              "      <td>0.027549</td>\n",
              "      <td>0.027518</td>\n",
              "      <td>0.078508</td>\n",
              "      <td>0.000000</td>\n",
              "      <td>0.000000</td>\n",
              "      <td>0.000000</td>\n",
              "      <td>0.000000</td>\n",
              "      <td>0.000000</td>\n",
              "      <td>0.038908</td>\n",
              "    </tr>\n",
              "    <tr>\n",
              "      <th>adalah</th>\n",
              "      <td>0.053494</td>\n",
              "      <td>0.036990</td>\n",
              "      <td>0.073898</td>\n",
              "      <td>0.000000</td>\n",
              "      <td>0.016539</td>\n",
              "      <td>0.019458</td>\n",
              "      <td>0.011828</td>\n",
              "      <td>0.020628</td>\n",
              "      <td>0.045877</td>\n",
              "      <td>0.000000</td>\n",
              "    </tr>\n",
              "  </tbody>\n",
              "</table>\n",
              "</div>"
            ],
            "text/plain": [
              "               0         1         2  ...         7         8         9\n",
              "abad    0.000000  0.000000  0.000000  ...  0.185876  0.000000  0.000000\n",
              "about   0.000000  0.000000  0.000000  ...  0.046469  0.000000  0.000000\n",
              "acara   0.000000  0.000000  0.000000  ...  0.046469  0.000000  0.000000\n",
              "ada     0.000000  0.027549  0.027518  ...  0.000000  0.000000  0.038908\n",
              "adalah  0.053494  0.036990  0.073898  ...  0.020628  0.045877  0.000000\n",
              "\n",
              "[5 rows x 10 columns]"
            ]
          },
          "metadata": {
            "tags": []
          },
          "execution_count": 7
        }
      ]
    },
    {
      "cell_type": "code",
      "metadata": {
        "colab": {
          "base_uri": "https://localhost:8080/"
        },
        "id": "8UvkiRgbnnAm",
        "outputId": "bfbb7404-e08d-496b-bb74-501b00a5bcf6"
      },
      "source": [
        "def get_similar_articles(q, df):\n",
        "  print(\"query:\", q)\n",
        "  print(\"Berikut artikel dengan nilai cosine similarity tertinggi: \")\n",
        "  q = [q]\n",
        "  q_vec = vectorizer.transform(q).toarray().reshape(df.shape[0],)\n",
        "  sim = {}\n",
        "  for i in range(10):\n",
        "    sim[i] = np.dot(df.loc[:, i].values, q_vec) / np.linalg.norm(df.loc[:, i]) * np.linalg.norm(q_vec)\n",
        "  \n",
        "  sim_sorted = sorted(sim.items(), key=lambda x: x[1], reverse=True)\n",
        "  \n",
        "  for k, v in sim_sorted:\n",
        "    if v != 0.0:\n",
        "      print(\"Nilai Similaritas:\", v)\n",
        "      print(docs[k])\n",
        "      print()\n",
        "\n",
        "\n",
        "q1 = 'barcelona'\n",
        "q2 = 'gareth bale'\n",
        "q3 = 'shin tae yong'\n",
        "q4 = 'indonesia'\n",
        "q5 = 'real madrid'\n",
        "q6 = 'liga inggris'\n",
        "q7 = 'liga indondesia'\n",
        "q8 = 'messi'\n",
        "q9 = 'moh salah'\n",
        "q10 = 'pemain terbaik'\n",
        "\n",
        "get_similar_articles(q1, df)\n",
        "print('-'*100)\n",
        "get_similar_articles(q2, df)\n",
        "print('-'*100)\n",
        "get_similar_articles(q3, df)\n",
        "get_similar_articles(q4, df)\n",
        "print('-'*100)\n",
        "get_similar_articles(q5, df)\n",
        "print('-'*100)\n",
        "get_similar_articles(q6, df)\n",
        "get_similar_articles(q7, df)\n",
        "print('-'*100)\n",
        "get_similar_articles(q8, df)\n",
        "print('-'*100)\n",
        "get_similar_articles(q9, df)\n",
        "print('-'*100)\n",
        "get_similar_articles(q10, df)\n",
        "print('-'*100)\n"
      ],
      "execution_count": null,
      "outputs": [
        {
          "output_type": "stream",
          "text": [
            "query: barcelona\n",
            "Berikut artikel dengan nilai cosine similarity tertinggi: \n",
            "Nilai Similaritas: 0.3164450276599631\n",
            " barcelona kompas com kapten barcelona lionel messi masih sakit hati saat mengingat transfer luis suarez ke atletico madrid awal musim ini secara spesifik lionel messi mengkritik cara barcelona memperlakukan luis suarez luis suarez terpaksa pindah ke atletico madrid setelah dirinya tidak masuk ke dalam rencana pelatih anyar barcelona ronald koeman pada awal kedatangannya ronald koeman secara terbuka memang sudah menyatakan ingin melakukan peremajaan skuad di barcelona tidak main main ronald koeman yang terkenal tegas langsung mendepak beberapa pemain senior barcelona beberapa hari setelah diresmikan baca juga luis suarez ungkap hal yang bisa bikin lionel messi bertahan di barcelona luis suarez yang menjadi salah satu korban perombakan skuad ala ronald koeman bisa dikatakan didepak barcelona secara tidak hormat sebab luis suarez yang masih memiliki sisa kontrak satu tahun di barcelona disingkirkan oleh ronald koeman melalui telepon luis suarez yang tidak terima dikabarkan sempat ingin membawa perselisihannya dengan ronald koeman ke jalur hukum perang dingin itu kemudian membuat luis suarez dicoret dari skuad pramusim barcelona dan harus berlatih sendiri ketika dirinya sedang mencari tim baru drama tersebut pada akhirnya selesai dengan keputusan luis suarez menerima kontrak dua tahun dari atletico madrid mengingat transfer luis suarez lionel messi mengaku masih sakit hati hingga saat ini baca juga gol lionel messi lampaui rekor pele santos tak terima lionel messi geram karena luis suarez yang merupakan sahabatnya dan juga legenda barcelona didepak secara tidak hormat messi juga heran karena barcelona melepas luis suarez ke tim rival saya sudah berencana meninggalkan barcelona sebelum luis suarez didepak kata lionel messi yang juga pernah ingin hengkang pada awal musim ini namun apa yang terjadi dengan luis suarez itu sangat gila ucap lionel messi menambahkan saya tidak suka dengan cara luis suarez meninggalkan barcelona saya pikir dia tidak pantas pergi dengan cara seperti itu tutur lionel messi tidak hanya itu barcelona juga melepas luis suarez secara cuma cuma ke tim pesaing kata lionel messi menambahkan baca juga curhat lionel messi kadang saya ingin menjadi orang yang tak dikenal dalam wawancara dengan la sexta lionel messi juga menjelaskan perihal terkait masa depannya lionel messi memastikan akan bertahan di barcelona sampai kontraknya berakhir pada juni meski demikian lionel messi tidak bisa menjamin dirinya akan tetap berseragam barcelona musim depan lionel messi mengaku baru akan menentukan masa depannya akhir musim ini setelah berbicara dengan presiden terpilih barcelona sebagai informasi barcelona akan menggelar pemilu presiden klub pada januari untuk mencari pengganti josep maria bartomeu yang mengundurkan diri akhir oktober terkini paris saint germain psg dikabarkan sedang memantau situasi lionel messi di barcelona rumor itu semakin kuat setelah mauricio pochettino dikabarkan akan menjadi pelatih anyar psg menggantikan thomas tuchel yang dipecat sebelumnya pemain termahal dunia milik psg yang juga merupakan sahabat lionel messi neymar jr juga sudah melempar kode neymar jr secara terbuka menyatakan ingin bermain bersama lionel messi sekali lagi banyak kalangan menilai pernyataan neymar jr itu adalah cerminan dari rencana transfer psg musim depan \n",
            "\n",
            "Nilai Similaritas: 0.2863151652328595\n",
            "kompas com lionel messi mengaku belum memikirkan apa yang akan ia lakukan pada akhir tahun ini kapten barcelona itu mengatakan bahwa ia lebih memilih untuk menunggu hingga kompetisi musim ini selesai saat ini messi sedang melakoni periode terakhir dalam kontraknya bersama barcelona kontrak megabintang asal argentina itu bakal habis pada juni jika messi tak meneken kontrak baru di barcelona penyerang berusia tahun itu akan berstatus bebas transfer pada bursa transfer musim panas tahun depan selain itu karena kontraknya habis akhir juni messi bebas melakukan negosiasi dengan klub lain pada januari mendatang terkait situasi tersebut lionel messi yang pulang ke argentina untuk merayakan natal bersama keluarga mengungkapkan bahwa saat ini fokusnya masih tertuju kepada barcelona baca juga selain messi the next iniesta juga bakal berstatus free transfer saya belum memikirkan secara jelas sampai akhir tahun ini saya akan menunggu hingga akhir musim ungkap messi dalam wawancara dengan jurnalis spanyol jordi evole sebagaimana dilansir mundo deportivo senin saya tidak ingin melanggar apa yang saya katakan sekarang yang terpenting adalah memikirkan tim menyelesaikan musim imbuh messi pemilik enam trofi ballon d or itu menambahkan ia juga tidak ingin terganggu oleh hal hal di luar kepentingan tim termasuk negosiasi dengan klub lain saya berpikir untuk mencoba mendapatkan gelar dan tidak terganggu oleh hal lain tandasnya baca juga klub milik david beckham pantau situasi messi di barcelona lionel messi memang masih memiliki tugas berat untuk mengangkat performa barcelona yang belum stabil di pentas laliga kompetisi teratas liga spanyol hingga liga spanyol bergulir pekan barcelona masih tertahan di peringkat kelima dengan koleksi poin dari pertandingan messi pun mengakui bahwa musim ini sangatlah sulit baginya ini sulit bagi saya karena saya tidak berada di tempat yang saya inginkan sulit bagi saya untuk beradaptasi di ruang ganti karena banyak orang baru ujarnya kami berasal dari budaya yang berbeda dan ini membuat kami lebih sulit bersatu di ruang ganti namun sedikit demi sedikit kami coba mengatasi itu kata messi baca juga jelang barcelona vs eibar messi dapat bonus libur barcelona dijadwalkan menjamu eibar pada pertandingan terakhir tahun laga barcelona vs eibar pada jornada ke liga spanyol bakal digelar di stadion camp nou selasa malam waktu setempat atau rabu dini hari wib messi dikabarkan tidak akan tampil pada laga melawan eibar karena mendapatkan libur tambahan dari barcelona \n",
            "\n",
            "Nilai Similaritas: 0.21151496438114872\n",
            "kompas com keberadaan pelatih mauricio pochettino menggantikan thomas tuchel di paris saint germain psg memberi harapan baru kedatangan pochettino menyeret nama megabintang barcelona lionel messi ke dalam daftar perekrutan anyar psg laporan le parisien menyebutkan messi menjadi incaran utama ketika jendela bursa transfer mulai terbuka pada januari mendatang status la pulga julukan messi akan berubah menjadi free transfer baca juga selain messi the next iniesta juga bakal berstatus free transfer hal itu mengingat kontrak messi dengan barcelona akan berakhir pada juni dan kedua pihak belum ada tanda tanda perpanjangan kontrak messi juga sudah jauh jauh hari menyiapkan kepergiannya dari camp nou momen kekalahan dari bayern muenchen menjadi sumber keinginan kuat messi hengkang dari barcelona mengutip mundo deportivo pochettino memasukkan nama la pulga sebagai rekrutan pertamanya baca juga dari messi hingga pogba ini transfer musim dingin yang dapat terwujud keberadaan neymar jr di psg bisa juga menjadi pancingan sang pemain asal argentina itu berlabuh ke kota paris psg juga diprediksi mampu menarik perhatian messi dari segi finansial paris saint germain terkenal dengan sangat royal kepada pemain pemainnya yang memberikan gaji tinggi di sisi lain pochettino dibenak messi tidak begitu asing pasalnya messi pernah merekomendasikan mauricio pochettino ke dewan barcelona untuk menggantikan ernesto valverde januari baca juga pelatih terbaik dalam karier lionel messi di barcelona siapa saja andai kepindahan ini terjadi tentu akan menjadi sejarah dalam dunia sepak bola sebab status megabintang yang ada dalam diri lionel messi lahir berkat dan bersama barcelona \n",
            "\n",
            "Nilai Similaritas: 0.027594296633991232\n",
            " kompas com bintang juventus cristiano ronaldo dinobatkan sebagai pemain terbaik abad ke dalam acara globe soccer awards malam penganugerahaan diadakan di dubai uni emirat arab senin dini hari wib cristiano ronaldo berhak atas penghargaan tersebut setelah mengalahkan lionel messi barcelona dan mohamed salah liverpool pemain asal portugal itu diakui sebagai pemain terbaik periode berkat serangkaian prestasinya baik bersama klub maupun tim nasional baca juga sebut milan seperti rumah sinyal ibrahimovic bertahan lebih lama di san siro congratulations to cristiano ronaldo on winning the globe soccer award for the player of the century cristianoronaldo cr bvlgari globesoccer pic twitter com ybgzfapo dalam rentang waktu tersebut ronaldo meraih banyak trofi termasuk lima liga champions tiga liga inggris dua liga spanyol dua liga italia serta juara euro dan uefa nations league bersama timnas portugal cristiano ronaldo mengaku senang dan termotivasi setelah menerima penghargaan tersebut ini pencapaian yang luar biasa dan memberi saya motivasi untuk terus maju kata cristiano ronaldo dilansir dari marca dinobatkan sebagai yang terbaik adalah suatu kehormatan besar saya berharap situasi pandemi ini berakhir tahun depan dan kita bisa lebih bersenang senang terima kasih banyak saya berharap masih bisa bermain selama beberapa tahun mendatang ujarnya couldn t be happier with tonight s award as i m about to celebrate my th year as a professional footballer globe soccer player of the century is a recognition that i receive with so much joy and pride globesoccer pic twitter com sailvezz baca juga kalahkan henry dan mo salah ronaldo jadi transfer terbaik premier league jika cristiano ronaldo dinobatkan sebagai pemain terbaik abad ke pep guardiola terpilih sebagai pelatih terbaik abad ini di tingkat klub real madrid menjadi klub terbaik abad ke sementara itu bayern muenchen menyapu bersih penghargaan untuk tahun hansi flick menjadi pelatih terbaik bersamaan dengan robert lewandowski yang dilabeli sebagai pemain terbaik bayern muenchen pun dinobatkan sebagai klub terbaik \n",
            "\n",
            "Nilai Similaritas: 0.024740685532290668\n",
            "kompas com gelandang asal portugal milik manchester united bruno fernandes tercatat sebagai pemain andalan kedua oleh ole gunnar solskjaer melansir laman resmi man united pemain andalan pertama bagi solskjaer di klub berjuluk setan merah itu adalah bek harry maguire urutan tersebut berdasarkan jatah main yang didapat dalam kurun waktu satu tahun terakhir di tingkat dunia bruno fernandes dan harry maguire masuk dalam lima pesepak bola paling sibuk harry maguire mencatatkan menit main sebanyak menit jumlah tersebut menjadi durasi paling banyak atau menempati peringkat pertama dunia baca juga alasan solskjaer cadangkan cavani saat man united tertahan leicester sementara bruno fernandes berada di urutan keempat dengan catatan waktu main selama menit adapun posisi kedua di tingkat dunia ditempati oleh ruben dias man city yakni selama menit kemudian di posisi ketiga diisi oleh megabintang barcelona lionel messi menit sementara di urutan nomor lima ada pemain liga brasil bruno pacheco dari klub ceara dengan torehan waktu menit baca juga bruno fernandes bikin solskjaer ingin jambak rambut sendiri melihat nama bruno fernandes di urutan keempat dia tak senang bruno fernandes bahkan menantang pelatih man united ole gunnar solskjaer agar selalu memainkannya saya tak senang saya harus bilang kepada pelatih saya ingin berada di posisi pertama kata gelandang serang man united tersebut tentu ini sangat penting untuk bermain semakin banyak laga kian banyak pula menit main semakin percaya diri juga anda nantinya begitulah prinsipnya jelas dia dikutip laman resmi klub baca juga rating pemain man united vs leicester rapor ciamik bruno fernandes bruno fernandes pribadi kian percaya diri dengan posisinya di man united ini sangat penting bagi saya karena ini adalah bagian dari cara saya menenangkan diri saya merasakan kepercayaan dari pelatih saya membutuhkan anda dan saya ingin anda bermain saya akan memberi anda kesempatan ketika anda melihat menit menit yang saya miliki musim ini itu mempercayai saya dan saya harus memberikan sesuatu kepada klub tandasnya \n",
            "\n",
            "----------------------------------------------------------------------------------------------------\n",
            "query: gareth bale\n",
            "Berikut artikel dengan nilai cosine similarity tertinggi: \n",
            "----------------------------------------------------------------------------------------------------\n",
            "query: shin tae yong\n",
            "Berikut artikel dengan nilai cosine similarity tertinggi: \n",
            "query: indonesia\n",
            "Berikut artikel dengan nilai cosine similarity tertinggi: \n",
            "Nilai Similaritas: 0.15366193478128304\n",
            "kompas com pemain muda kelahiran magelang amiruddin bagus kahfi al fikri selangkah lagi merasakan karier di benua eropa bagus kahfi akan bergabung dengan klub belanda jong utrecht langkah tersebut bisa menjadi satu pijakan kuat menaiki tangga mimpinya sebagai pemain sepak bola profesional dia menjadi satu dari sedikit pemain muda yang bisa merasakan dinginnya udara eropa sebagai pemain sepak bola profesional baca juga dua pemain timnas indonesia pendahulu bagus kahfi di fc utrecht saat ini dirinya tengah menyelesaikan berkas berkas yang nantinya diperlukan agar bisa bermain di belanda meski belum melakoni debut bersama jong utrecht namun bagus justru sudah mamasang target baru target itu tak lain adalah mimpinya sendiri sebagai pemain bermain untuk manchester united adalah impian terbesar saya ujar bagus kahfi dikutip warta kota baca juga jack brown dan timnas u indonesia yang belum berakhir bagus sudah mengenal klub berjuluk setan merah sejak belia awal saya menyukai manchester united sejak saat itu mereka menjuarai liga champions setelah mengalahkan chelsea kata dia melanjutkan mimpi terbesarnya mulai terasa dekat namun masih terlihat jauh ketika bagus kahfi bergabung dalam garuda select ii saat itu dia bisa merasakan gaya main tim tim asal inggris secara langsung dia juga mampu tampil produktif dengan mencetak gol ke gawang klub klub inggris saat itu baca juga sebut kurnia meiga ini alasan andritany enggan gunakan nomor di timnas indonesia sebanyak di antaranya dicatatkan pemain tahun hanya dalam lima laga jadi saya sudah tau bagamaina standar permainan di sana dan apa apa saja yang mesti saya siapkan memang tak mudah namun saya akan berjuang meraih impian saya ujarnya \n",
            "\n",
            "Nilai Similaritas: 0.13178022964536415\n",
            " kompas com bintang muda sepak bola indonesia amiruddin bagus kahfi al fikri masih tidak menyangka dirinya akan bermain di eropa bagus kahfi dipastikan berkarier di eropa setelah barito putera resmi melepasnya secara cuma cuma alias gratis ke tim asal belanda fc utrecht pada awal desember bagus kahfi yang kini masih berada di indonesia diperkirakan akan berangkat ke belanda pada awal setelah seluruh berkas transfer selesai di fc utrecht bagus kahfi mendapat kontrak selama bulan sampai bagus kahfi nantinya akan bergabung dengan tim muda fc utrecht yang kini bermain di kasta kedua liga belanda jong utrecht baca juga bela negara lewat sepak bola bagus kahfi terinspirasi john f kennedy menanggapi fakta itu bagus kahfi mengaku masih tidak menyangka dirinya akan melanjutkan karier di eropa saat masih berusia muda pastinya tuhan yang tahu jalan hambanya masing masing jika diingat saya dulu hanyalah anak kecil yang bermain bola dengan riang kata bagus kahfi dikutip dari situs warta kota sewaktu kecil saya setelah bermain bola sering dimarahi karena pulang terlambat saat maghrib atau dengan pakaian yang kotor tutur bagus kahfi menambahkan fc utrecht adalah fokus saya saat ini saya ingin berjuang di sana dan membuktikan diri ucap pemain asal magelang jawa tengah itu setelah dipastikan bergabung dengan fc utrecht bagus kahfi langsung memasang target terbaru baca juga dua pemain timnas indonesia pendahulu bagus kahfi di fc utrecht bagus kahfi berharap suatu saat bisa bermain untuk raksasa inggris manchester united yang merupakan tim idolanya bagus kahfi optimistis bisa mewujudkan mimpi itu karena sudah tahu bagaimana kualitas dan standar pemain muda di inggris pengetahuan itu didapatkan bagus kahfi setelah mengikuti pemusatan latihan di inggris bersama garuda select dalam dua tahun terakhir bermain di man united adalah impian terbesar saya saya sudah mengidolakan man united ketika mereka menjadi juara liga champions pada kata bagus kahfi saya tahu memang tidak mudah mewujudkan mimpi itu namun saya akan berjuang untuk mewujudkannya ucap bagus kahfi baca juga pesan sang ayah kepada bagus kahfi selama berkarier di fc utrecht nama amiruddin bagus kahfi mulai dikenal publik sepak bola indonesia setelah menjadi top skor piala aff u edisi bagus kahfi pada turnamen tersebut tampil gemilang dengan koleksi gol dari tujuh laga torehan itu tidak hanya membuat bagus kahfi menjadi top skor melainkan juga turut membantu timnas u indonesia meraih gelar juara piala aff u setelah tampil gemilang bersama timnas u indonesia bagus kahfi kemudian dipanggil untuk mengikuti program pembinaan garuda select dari situlah kesempatan bagus kahfi melanjutkan karier di eropa mulai terbuka kepastian bagus kahfi bergabung ke fc uterecht tidak lepas dari peran legenda chelsea yang kini menjadi direktur teknik garuda select dennis wise sebab dennis wise adalah orang yang memberi jaminan kepada fc utrecht bahwa bagus kahfi adalah pemain bertalenta dan layak dipertimbangkan sebelum resmi memberi kontrak fc utrecht juga sempat membantu pemulihan cedera pergelangan kaki yang didapat bagus kahfi awal tahun ini rafzanjani simanjorang \n",
            "\n",
            "----------------------------------------------------------------------------------------------------\n",
            "query: real madrid\n",
            "Berikut artikel dengan nilai cosine similarity tertinggi: \n",
            "Nilai Similaritas: 0.060990624917348656\n",
            " kompas com bintang juventus cristiano ronaldo dinobatkan sebagai pemain terbaik abad ke dalam acara globe soccer awards malam penganugerahaan diadakan di dubai uni emirat arab senin dini hari wib cristiano ronaldo berhak atas penghargaan tersebut setelah mengalahkan lionel messi barcelona dan mohamed salah liverpool pemain asal portugal itu diakui sebagai pemain terbaik periode berkat serangkaian prestasinya baik bersama klub maupun tim nasional baca juga sebut milan seperti rumah sinyal ibrahimovic bertahan lebih lama di san siro congratulations to cristiano ronaldo on winning the globe soccer award for the player of the century cristianoronaldo cr bvlgari globesoccer pic twitter com ybgzfapo dalam rentang waktu tersebut ronaldo meraih banyak trofi termasuk lima liga champions tiga liga inggris dua liga spanyol dua liga italia serta juara euro dan uefa nations league bersama timnas portugal cristiano ronaldo mengaku senang dan termotivasi setelah menerima penghargaan tersebut ini pencapaian yang luar biasa dan memberi saya motivasi untuk terus maju kata cristiano ronaldo dilansir dari marca dinobatkan sebagai yang terbaik adalah suatu kehormatan besar saya berharap situasi pandemi ini berakhir tahun depan dan kita bisa lebih bersenang senang terima kasih banyak saya berharap masih bisa bermain selama beberapa tahun mendatang ujarnya couldn t be happier with tonight s award as i m about to celebrate my th year as a professional footballer globe soccer player of the century is a recognition that i receive with so much joy and pride globesoccer pic twitter com sailvezz baca juga kalahkan henry dan mo salah ronaldo jadi transfer terbaik premier league jika cristiano ronaldo dinobatkan sebagai pemain terbaik abad ke pep guardiola terpilih sebagai pelatih terbaik abad ini di tingkat klub real madrid menjadi klub terbaik abad ke sementara itu bayern muenchen menyapu bersih penghargaan untuk tahun hansi flick menjadi pelatih terbaik bersamaan dengan robert lewandowski yang dilabeli sebagai pemain terbaik bayern muenchen pun dinobatkan sebagai klub terbaik \n",
            "\n",
            "Nilai Similaritas: 0.04401149329103597\n",
            " barcelona kompas com kapten barcelona lionel messi masih sakit hati saat mengingat transfer luis suarez ke atletico madrid awal musim ini secara spesifik lionel messi mengkritik cara barcelona memperlakukan luis suarez luis suarez terpaksa pindah ke atletico madrid setelah dirinya tidak masuk ke dalam rencana pelatih anyar barcelona ronald koeman pada awal kedatangannya ronald koeman secara terbuka memang sudah menyatakan ingin melakukan peremajaan skuad di barcelona tidak main main ronald koeman yang terkenal tegas langsung mendepak beberapa pemain senior barcelona beberapa hari setelah diresmikan baca juga luis suarez ungkap hal yang bisa bikin lionel messi bertahan di barcelona luis suarez yang menjadi salah satu korban perombakan skuad ala ronald koeman bisa dikatakan didepak barcelona secara tidak hormat sebab luis suarez yang masih memiliki sisa kontrak satu tahun di barcelona disingkirkan oleh ronald koeman melalui telepon luis suarez yang tidak terima dikabarkan sempat ingin membawa perselisihannya dengan ronald koeman ke jalur hukum perang dingin itu kemudian membuat luis suarez dicoret dari skuad pramusim barcelona dan harus berlatih sendiri ketika dirinya sedang mencari tim baru drama tersebut pada akhirnya selesai dengan keputusan luis suarez menerima kontrak dua tahun dari atletico madrid mengingat transfer luis suarez lionel messi mengaku masih sakit hati hingga saat ini baca juga gol lionel messi lampaui rekor pele santos tak terima lionel messi geram karena luis suarez yang merupakan sahabatnya dan juga legenda barcelona didepak secara tidak hormat messi juga heran karena barcelona melepas luis suarez ke tim rival saya sudah berencana meninggalkan barcelona sebelum luis suarez didepak kata lionel messi yang juga pernah ingin hengkang pada awal musim ini namun apa yang terjadi dengan luis suarez itu sangat gila ucap lionel messi menambahkan saya tidak suka dengan cara luis suarez meninggalkan barcelona saya pikir dia tidak pantas pergi dengan cara seperti itu tutur lionel messi tidak hanya itu barcelona juga melepas luis suarez secara cuma cuma ke tim pesaing kata lionel messi menambahkan baca juga curhat lionel messi kadang saya ingin menjadi orang yang tak dikenal dalam wawancara dengan la sexta lionel messi juga menjelaskan perihal terkait masa depannya lionel messi memastikan akan bertahan di barcelona sampai kontraknya berakhir pada juni meski demikian lionel messi tidak bisa menjamin dirinya akan tetap berseragam barcelona musim depan lionel messi mengaku baru akan menentukan masa depannya akhir musim ini setelah berbicara dengan presiden terpilih barcelona sebagai informasi barcelona akan menggelar pemilu presiden klub pada januari untuk mencari pengganti josep maria bartomeu yang mengundurkan diri akhir oktober terkini paris saint germain psg dikabarkan sedang memantau situasi lionel messi di barcelona rumor itu semakin kuat setelah mauricio pochettino dikabarkan akan menjadi pelatih anyar psg menggantikan thomas tuchel yang dipecat sebelumnya pemain termahal dunia milik psg yang juga merupakan sahabat lionel messi neymar jr juga sudah melempar kode neymar jr secara terbuka menyatakan ingin bermain bersama lionel messi sekali lagi banyak kalangan menilai pernyataan neymar jr itu adalah cerminan dari rencana transfer psg musim depan \n",
            "\n",
            "----------------------------------------------------------------------------------------------------\n",
            "query: liga inggris\n",
            "Berikut artikel dengan nilai cosine similarity tertinggi: \n",
            "Nilai Similaritas: 0.16395550396595035\n",
            " kompas com liverpool mempertahankan takhtanya di puncak klasemen sementara liga inggris liverpool masih bertahan di urutan teratas usai meraih hasil imbang saat melawan west bromich albion duel yang berlangsung di stadion anfield minggu malam wib berakhir imbang gol liverpool dicetak sadio mane sedangkan gol penyeimbang west brom dibukukan semi ajayi baca juga liverpool vs west brom sadio mane ukir pencapaian gemilang hasil imbang tersebut membuat liverpool hanya mampu menambah ekstra satu poin kendati demikian satu poin itu sudah cukup membuat liverpool mempertahankan kedudukannya di puncak klasemen tim berjulukan the reds tersebut sekarang mengoleksi poin alias hanya unggul tiga angka atas everton yang membayangi di urutan kedua di bawah liverpool dan everton ada leicester city serta manchester united yang membayangi di posisi ketiga dan keempat sementara itu tottenham hotspur gagal tembus empat besar setelah hanya bermain imbang kontra wolverhampton bermain di markas wolverhampton di stadion molineux senin dini hari wib tottenham bermain imbang satu gol tottenham hotspur dicetak tanguy ndombele sedangkan gol wolves diciptakan lewat aksi romain saiss baca juga hasil liga inggris liverpool dan tottenham kompak raih hasil imbang alhasil tottenham hotspur cuma naik satu tingkat ke posisi lima dan menggeser posisi manchester city sehari sebelumnya man city sempat menghuni peringkat kelima setelah menaklukkan newcastle united dengan skor adapun tottenham hotspur kini mengoleksi poin dari pertandingan klik tautan berikut untuk melihat klasemen liga inggris hingga senin pagi wib klasemen liga inggris \n",
            "\n",
            "Nilai Similaritas: 0.14495134233394819\n",
            "kompas com mohamed salah mencatatkan rekor buruk ketika liverpool ditahan imbang oleh west bromwich albion pada pekan ke premier league atau kompetisi teratas liga inggris duel liverpool vs west brom pada gameweek liga inggris yang digelar di stadion anfield minggu malam wib berakhir dengan skor sama kuat the reds julukan liverpool lebih dulu unggul melalui gol sadio mane pada menit ke namun west brom yang kini dilatih oleh sam allardyce bisa memaksakan hasil imbang lewat gol balasan semi ajayi pada menit ke baca juga hasil liverpool vs west brom imbang alisson sempat nganggur hasil liga inggris tersebut membuat liverpool gagal melebarkan jarak dengan para pesaingnya di tabel klasemen pasukan juergen klopp memang masih menguasai puncak klasemen liga inggris dengan nilai dari pertandingan namun mereka kini hanya berjarak tiga angka dari everton yang berada di peringkat kedua sementara leicester city posisi tiga poin dan manchester united empat juga berpotensi mengancam the reds baca juga hasil liga inggris liverpool dan tottenham kompak raih hasil imbang hasil imbang kontra west brom juga membuat bintang liverpool mohamed salah mencatatkan rekor buruk menghadapi west brom winger asal mesir itu tak bisa berbuat banyak mo salah yang bermain penuh selama menit tercatat melepaskan tiga tembakan namun semuanya tidak ada yang tepat sasaran berdasarkan data squawka salah untuk kali pertama gagal mencetak tembakan tepat sasaran dalam sebuah pertandingan premier league di anfield sejak liverpool bersua everton desember mohamed salah failed to produce a shot on target in a premier league game at anfield for the first time since th december against everton no way through the west brom wall pic twitter com nvolctqvs baca juga liverpool vs west brom sadio mane ukir pencapaian gemilang menanggapi hasil imbang yang diraih liverpool juergen klopp mengatakan bahwa west brom memang layak mendapatkan poin pada laga ini masalah yang saya pikirkan adalah west brom layak mendapatkan poin itu adalah kesalahan kami dan mereka memang layak mendapatkan poin pada babak kedua ujar klopp dikutip dari laman resmi liverpool fc babak pertama adalah pertandingan yang cukup aneh saya tidak tahu statistiknya tetapi itu terlihat seperti penguasaan bola imbuh juru taktik asal jerman itu saya tidak bisa mengingat serangan balik atau apa pun kami hanya bermain di sekitar pertahanan west brom dan itu adalah tantangan besar namun kami harus menerima hasil itu tentu saja ucap klopp mengakhiri \n",
            "\n",
            "Nilai Similaritas: 0.09327578951236691\n",
            "kompas com laga lanjutan boxing day akan mempertandingkan partai beda nasib liverpool vs west bromwich albion di anfield minggu malam wib adapun link live streaming laga liverpool vs west brom akan tersedia pada akhir artikel ini liverpool merupakan pemuncak klasemen sementara liga inggris the anfield gank menjadi yang teratas seusai mengoleksi poin dari laga sementara itu the baggies julukan west brom memiliki beda nasib derajat dengan menempati peringkat ke karena baru menorehkan tujuh poin catatan tersebut pun membuat the reds di atas kertas akan menang mudah atas west brom baca juga liverpool vs west brom kembalinya allardyce penakluk terakhir anfield motivasi liverpool untuk memenangi laga juga semakin meninggi seusai pesaing terdekatnya yakni manchester united dan leicester city harus berbagai poin ketika saling bentrok dengan fakta tersebut jelas pasukan juergen klopp enggan menyia nyiakan kesempatan untuk memperlebar jarak terlebih sadio mane dkk akan bermain di kandang sendiri mohamed salah yang saat ini bertengger sebagai pemuncak top skor premier league dengan torehan gol diprediksi akan kembali menggila pada laga malam nanti terlebih lagi winger asal mesir tersebut sangat gemar menjebol gawag gawang tim promosi tercatat dua tim promosi di liga inggris musim ini yakni leeds united dan fulham telah menjadi korban dari keganasannya saat bertanding melawan leeds pada pekan pembuka mo salah tampil trengginas dengan mencetak trigol atau hattrick baca juga bukan mo salah ini eksekutor penalti utama liverpool kata klopp kemoncerannya melawan tim promosi pun berlanjut kala the reds bersua fulham pada desember silam meski liverpool hanya bermain imbang ia sukses mencetak satu gol yang membuat the reds terhindar dari kekalahan west brom yang menjadi tim dengan pertahanan terburuk kedua pun dapat menjadi mangsa empuk bagi mo salah dkk untuk membawa liverpool semakin meroket namun misi tersebut bisa saja tersendat pasalnya the baggies saat ini ditangani oleh pelatih sarat pengalaman di liga inggris sam allardyce big sam julukkan allardyce sendiri merupakan pelatih klub premier league terakhir yang sukses memetik kemenangan di anfield torehan tersebut terjadi pada april kala itu allardyce tengah menukangi crystal palace dan sukses mengalahkan liverpool di kandangnya sendiri baca juga liverpool vs west brom fabinho tatap laga ke bersama the reds fakta tersebut pun menjadi sinyal kuat bagi west brom untuk setidaknya meraih satu poin dari liverpool bahkan bisa saja big sam dapat kembali mengulangi kesuksesannya ketika menjadi manajer palace pasalnya pria asal inggris tersebut tercatat sebagai pelatih yang kerap membawa tim tim yang dibelanya selamat dari jurang degradasi seperti bolton blackburn rovers sundeland hingga palace pun ia selamatkan mengingat catatan apik allardyce bukan tidak mungkin liverpool dapat menjadi korban pertamanya untuk menyelamatkan the baggies pertandingan liverpool vs west brom dapat disaksikan secara streaming melalui molatv dengan jadwal kickoff pukul wib anda harus mempunyai paket premium molatv baik bulanan atau tahunan terlebih dahulu untuk bisa menyaksikan laga tersebut berikut adalah link live streaming liverpool vs west brom link\n",
            "\n",
            "Nilai Similaritas: 0.07180668412417038\n",
            " kompas com bintang juventus cristiano ronaldo dinobatkan sebagai pemain terbaik abad ke dalam acara globe soccer awards malam penganugerahaan diadakan di dubai uni emirat arab senin dini hari wib cristiano ronaldo berhak atas penghargaan tersebut setelah mengalahkan lionel messi barcelona dan mohamed salah liverpool pemain asal portugal itu diakui sebagai pemain terbaik periode berkat serangkaian prestasinya baik bersama klub maupun tim nasional baca juga sebut milan seperti rumah sinyal ibrahimovic bertahan lebih lama di san siro congratulations to cristiano ronaldo on winning the globe soccer award for the player of the century cristianoronaldo cr bvlgari globesoccer pic twitter com ybgzfapo dalam rentang waktu tersebut ronaldo meraih banyak trofi termasuk lima liga champions tiga liga inggris dua liga spanyol dua liga italia serta juara euro dan uefa nations league bersama timnas portugal cristiano ronaldo mengaku senang dan termotivasi setelah menerima penghargaan tersebut ini pencapaian yang luar biasa dan memberi saya motivasi untuk terus maju kata cristiano ronaldo dilansir dari marca dinobatkan sebagai yang terbaik adalah suatu kehormatan besar saya berharap situasi pandemi ini berakhir tahun depan dan kita bisa lebih bersenang senang terima kasih banyak saya berharap masih bisa bermain selama beberapa tahun mendatang ujarnya couldn t be happier with tonight s award as i m about to celebrate my th year as a professional footballer globe soccer player of the century is a recognition that i receive with so much joy and pride globesoccer pic twitter com sailvezz baca juga kalahkan henry dan mo salah ronaldo jadi transfer terbaik premier league jika cristiano ronaldo dinobatkan sebagai pemain terbaik abad ke pep guardiola terpilih sebagai pelatih terbaik abad ini di tingkat klub real madrid menjadi klub terbaik abad ke sementara itu bayern muenchen menyapu bersih penghargaan untuk tahun hansi flick menjadi pelatih terbaik bersamaan dengan robert lewandowski yang dilabeli sebagai pemain terbaik bayern muenchen pun dinobatkan sebagai klub terbaik \n",
            "\n",
            "Nilai Similaritas: 0.06689896360852883\n",
            "kompas com pemain muda kelahiran magelang amiruddin bagus kahfi al fikri selangkah lagi merasakan karier di benua eropa bagus kahfi akan bergabung dengan klub belanda jong utrecht langkah tersebut bisa menjadi satu pijakan kuat menaiki tangga mimpinya sebagai pemain sepak bola profesional dia menjadi satu dari sedikit pemain muda yang bisa merasakan dinginnya udara eropa sebagai pemain sepak bola profesional baca juga dua pemain timnas indonesia pendahulu bagus kahfi di fc utrecht saat ini dirinya tengah menyelesaikan berkas berkas yang nantinya diperlukan agar bisa bermain di belanda meski belum melakoni debut bersama jong utrecht namun bagus justru sudah mamasang target baru target itu tak lain adalah mimpinya sendiri sebagai pemain bermain untuk manchester united adalah impian terbesar saya ujar bagus kahfi dikutip warta kota baca juga jack brown dan timnas u indonesia yang belum berakhir bagus sudah mengenal klub berjuluk setan merah sejak belia awal saya menyukai manchester united sejak saat itu mereka menjuarai liga champions setelah mengalahkan chelsea kata dia melanjutkan mimpi terbesarnya mulai terasa dekat namun masih terlihat jauh ketika bagus kahfi bergabung dalam garuda select ii saat itu dia bisa merasakan gaya main tim tim asal inggris secara langsung dia juga mampu tampil produktif dengan mencetak gol ke gawang klub klub inggris saat itu baca juga sebut kurnia meiga ini alasan andritany enggan gunakan nomor di timnas indonesia sebanyak di antaranya dicatatkan pemain tahun hanya dalam lima laga jadi saya sudah tau bagamaina standar permainan di sana dan apa apa saja yang mesti saya siapkan memang tak mudah namun saya akan berjuang meraih impian saya ujarnya \n",
            "\n",
            "Nilai Similaritas: 0.04668375042246145\n",
            " kompas com bintang muda sepak bola indonesia amiruddin bagus kahfi al fikri masih tidak menyangka dirinya akan bermain di eropa bagus kahfi dipastikan berkarier di eropa setelah barito putera resmi melepasnya secara cuma cuma alias gratis ke tim asal belanda fc utrecht pada awal desember bagus kahfi yang kini masih berada di indonesia diperkirakan akan berangkat ke belanda pada awal setelah seluruh berkas transfer selesai di fc utrecht bagus kahfi mendapat kontrak selama bulan sampai bagus kahfi nantinya akan bergabung dengan tim muda fc utrecht yang kini bermain di kasta kedua liga belanda jong utrecht baca juga bela negara lewat sepak bola bagus kahfi terinspirasi john f kennedy menanggapi fakta itu bagus kahfi mengaku masih tidak menyangka dirinya akan melanjutkan karier di eropa saat masih berusia muda pastinya tuhan yang tahu jalan hambanya masing masing jika diingat saya dulu hanyalah anak kecil yang bermain bola dengan riang kata bagus kahfi dikutip dari situs warta kota sewaktu kecil saya setelah bermain bola sering dimarahi karena pulang terlambat saat maghrib atau dengan pakaian yang kotor tutur bagus kahfi menambahkan fc utrecht adalah fokus saya saat ini saya ingin berjuang di sana dan membuktikan diri ucap pemain asal magelang jawa tengah itu setelah dipastikan bergabung dengan fc utrecht bagus kahfi langsung memasang target terbaru baca juga dua pemain timnas indonesia pendahulu bagus kahfi di fc utrecht bagus kahfi berharap suatu saat bisa bermain untuk raksasa inggris manchester united yang merupakan tim idolanya bagus kahfi optimistis bisa mewujudkan mimpi itu karena sudah tahu bagaimana kualitas dan standar pemain muda di inggris pengetahuan itu didapatkan bagus kahfi setelah mengikuti pemusatan latihan di inggris bersama garuda select dalam dua tahun terakhir bermain di man united adalah impian terbesar saya saya sudah mengidolakan man united ketika mereka menjadi juara liga champions pada kata bagus kahfi saya tahu memang tidak mudah mewujudkan mimpi itu namun saya akan berjuang untuk mewujudkannya ucap bagus kahfi baca juga pesan sang ayah kepada bagus kahfi selama berkarier di fc utrecht nama amiruddin bagus kahfi mulai dikenal publik sepak bola indonesia setelah menjadi top skor piala aff u edisi bagus kahfi pada turnamen tersebut tampil gemilang dengan koleksi gol dari tujuh laga torehan itu tidak hanya membuat bagus kahfi menjadi top skor melainkan juga turut membantu timnas u indonesia meraih gelar juara piala aff u setelah tampil gemilang bersama timnas u indonesia bagus kahfi kemudian dipanggil untuk mengikuti program pembinaan garuda select dari situlah kesempatan bagus kahfi melanjutkan karier di eropa mulai terbuka kepastian bagus kahfi bergabung ke fc uterecht tidak lepas dari peran legenda chelsea yang kini menjadi direktur teknik garuda select dennis wise sebab dennis wise adalah orang yang memberi jaminan kepada fc utrecht bahwa bagus kahfi adalah pemain bertalenta dan layak dipertimbangkan sebelum resmi memberi kontrak fc utrecht juga sempat membantu pemulihan cedera pergelangan kaki yang didapat bagus kahfi awal tahun ini rafzanjani simanjorang \n",
            "\n",
            "Nilai Similaritas: 0.03719908002216938\n",
            "kompas com lionel messi mengaku belum memikirkan apa yang akan ia lakukan pada akhir tahun ini kapten barcelona itu mengatakan bahwa ia lebih memilih untuk menunggu hingga kompetisi musim ini selesai saat ini messi sedang melakoni periode terakhir dalam kontraknya bersama barcelona kontrak megabintang asal argentina itu bakal habis pada juni jika messi tak meneken kontrak baru di barcelona penyerang berusia tahun itu akan berstatus bebas transfer pada bursa transfer musim panas tahun depan selain itu karena kontraknya habis akhir juni messi bebas melakukan negosiasi dengan klub lain pada januari mendatang terkait situasi tersebut lionel messi yang pulang ke argentina untuk merayakan natal bersama keluarga mengungkapkan bahwa saat ini fokusnya masih tertuju kepada barcelona baca juga selain messi the next iniesta juga bakal berstatus free transfer saya belum memikirkan secara jelas sampai akhir tahun ini saya akan menunggu hingga akhir musim ungkap messi dalam wawancara dengan jurnalis spanyol jordi evole sebagaimana dilansir mundo deportivo senin saya tidak ingin melanggar apa yang saya katakan sekarang yang terpenting adalah memikirkan tim menyelesaikan musim imbuh messi pemilik enam trofi ballon d or itu menambahkan ia juga tidak ingin terganggu oleh hal hal di luar kepentingan tim termasuk negosiasi dengan klub lain saya berpikir untuk mencoba mendapatkan gelar dan tidak terganggu oleh hal lain tandasnya baca juga klub milik david beckham pantau situasi messi di barcelona lionel messi memang masih memiliki tugas berat untuk mengangkat performa barcelona yang belum stabil di pentas laliga kompetisi teratas liga spanyol hingga liga spanyol bergulir pekan barcelona masih tertahan di peringkat kelima dengan koleksi poin dari pertandingan messi pun mengakui bahwa musim ini sangatlah sulit baginya ini sulit bagi saya karena saya tidak berada di tempat yang saya inginkan sulit bagi saya untuk beradaptasi di ruang ganti karena banyak orang baru ujarnya kami berasal dari budaya yang berbeda dan ini membuat kami lebih sulit bersatu di ruang ganti namun sedikit demi sedikit kami coba mengatasi itu kata messi baca juga jelang barcelona vs eibar messi dapat bonus libur barcelona dijadwalkan menjamu eibar pada pertandingan terakhir tahun laga barcelona vs eibar pada jornada ke liga spanyol bakal digelar di stadion camp nou selasa malam waktu setempat atau rabu dini hari wib messi dikabarkan tidak akan tampil pada laga melawan eibar karena mendapatkan libur tambahan dari barcelona \n",
            "\n",
            "Nilai Similaritas: 0.011786124033254944\n",
            "kompas com gelandang asal portugal milik manchester united bruno fernandes tercatat sebagai pemain andalan kedua oleh ole gunnar solskjaer melansir laman resmi man united pemain andalan pertama bagi solskjaer di klub berjuluk setan merah itu adalah bek harry maguire urutan tersebut berdasarkan jatah main yang didapat dalam kurun waktu satu tahun terakhir di tingkat dunia bruno fernandes dan harry maguire masuk dalam lima pesepak bola paling sibuk harry maguire mencatatkan menit main sebanyak menit jumlah tersebut menjadi durasi paling banyak atau menempati peringkat pertama dunia baca juga alasan solskjaer cadangkan cavani saat man united tertahan leicester sementara bruno fernandes berada di urutan keempat dengan catatan waktu main selama menit adapun posisi kedua di tingkat dunia ditempati oleh ruben dias man city yakni selama menit kemudian di posisi ketiga diisi oleh megabintang barcelona lionel messi menit sementara di urutan nomor lima ada pemain liga brasil bruno pacheco dari klub ceara dengan torehan waktu menit baca juga bruno fernandes bikin solskjaer ingin jambak rambut sendiri melihat nama bruno fernandes di urutan keempat dia tak senang bruno fernandes bahkan menantang pelatih man united ole gunnar solskjaer agar selalu memainkannya saya tak senang saya harus bilang kepada pelatih saya ingin berada di posisi pertama kata gelandang serang man united tersebut tentu ini sangat penting untuk bermain semakin banyak laga kian banyak pula menit main semakin percaya diri juga anda nantinya begitulah prinsipnya jelas dia dikutip laman resmi klub baca juga rating pemain man united vs leicester rapor ciamik bruno fernandes bruno fernandes pribadi kian percaya diri dengan posisinya di man united ini sangat penting bagi saya karena ini adalah bagian dari cara saya menenangkan diri saya merasakan kepercayaan dari pelatih saya membutuhkan anda dan saya ingin anda bermain saya akan memberi anda kesempatan ketika anda melihat menit menit yang saya miliki musim ini itu mempercayai saya dan saya harus memberikan sesuatu kepada klub tandasnya \n",
            "\n",
            "query: liga indondesia\n",
            "Berikut artikel dengan nilai cosine similarity tertinggi: \n",
            "Nilai Similaritas: 0.10448251808460118\n",
            " kompas com liverpool mempertahankan takhtanya di puncak klasemen sementara liga inggris liverpool masih bertahan di urutan teratas usai meraih hasil imbang saat melawan west bromich albion duel yang berlangsung di stadion anfield minggu malam wib berakhir imbang gol liverpool dicetak sadio mane sedangkan gol penyeimbang west brom dibukukan semi ajayi baca juga liverpool vs west brom sadio mane ukir pencapaian gemilang hasil imbang tersebut membuat liverpool hanya mampu menambah ekstra satu poin kendati demikian satu poin itu sudah cukup membuat liverpool mempertahankan kedudukannya di puncak klasemen tim berjulukan the reds tersebut sekarang mengoleksi poin alias hanya unggul tiga angka atas everton yang membayangi di urutan kedua di bawah liverpool dan everton ada leicester city serta manchester united yang membayangi di posisi ketiga dan keempat sementara itu tottenham hotspur gagal tembus empat besar setelah hanya bermain imbang kontra wolverhampton bermain di markas wolverhampton di stadion molineux senin dini hari wib tottenham bermain imbang satu gol tottenham hotspur dicetak tanguy ndombele sedangkan gol wolves diciptakan lewat aksi romain saiss baca juga hasil liga inggris liverpool dan tottenham kompak raih hasil imbang alhasil tottenham hotspur cuma naik satu tingkat ke posisi lima dan menggeser posisi manchester city sehari sebelumnya man city sempat menghuni peringkat kelima setelah menaklukkan newcastle united dengan skor adapun tottenham hotspur kini mengoleksi poin dari pertandingan klik tautan berikut untuk melihat klasemen liga inggris hingga senin pagi wib klasemen liga inggris \n",
            "\n",
            "Nilai Similaritas: 0.09237189896314299\n",
            "kompas com mohamed salah mencatatkan rekor buruk ketika liverpool ditahan imbang oleh west bromwich albion pada pekan ke premier league atau kompetisi teratas liga inggris duel liverpool vs west brom pada gameweek liga inggris yang digelar di stadion anfield minggu malam wib berakhir dengan skor sama kuat the reds julukan liverpool lebih dulu unggul melalui gol sadio mane pada menit ke namun west brom yang kini dilatih oleh sam allardyce bisa memaksakan hasil imbang lewat gol balasan semi ajayi pada menit ke baca juga hasil liverpool vs west brom imbang alisson sempat nganggur hasil liga inggris tersebut membuat liverpool gagal melebarkan jarak dengan para pesaingnya di tabel klasemen pasukan juergen klopp memang masih menguasai puncak klasemen liga inggris dengan nilai dari pertandingan namun mereka kini hanya berjarak tiga angka dari everton yang berada di peringkat kedua sementara leicester city posisi tiga poin dan manchester united empat juga berpotensi mengancam the reds baca juga hasil liga inggris liverpool dan tottenham kompak raih hasil imbang hasil imbang kontra west brom juga membuat bintang liverpool mohamed salah mencatatkan rekor buruk menghadapi west brom winger asal mesir itu tak bisa berbuat banyak mo salah yang bermain penuh selama menit tercatat melepaskan tiga tembakan namun semuanya tidak ada yang tepat sasaran berdasarkan data squawka salah untuk kali pertama gagal mencetak tembakan tepat sasaran dalam sebuah pertandingan premier league di anfield sejak liverpool bersua everton desember mohamed salah failed to produce a shot on target in a premier league game at anfield for the first time since th december against everton no way through the west brom wall pic twitter com nvolctqvs baca juga liverpool vs west brom sadio mane ukir pencapaian gemilang menanggapi hasil imbang yang diraih liverpool juergen klopp mengatakan bahwa west brom memang layak mendapatkan poin pada laga ini masalah yang saya pikirkan adalah west brom layak mendapatkan poin itu adalah kesalahan kami dan mereka memang layak mendapatkan poin pada babak kedua ujar klopp dikutip dari laman resmi liverpool fc babak pertama adalah pertandingan yang cukup aneh saya tidak tahu statistiknya tetapi itu terlihat seperti penguasaan bola imbuh juru taktik asal jerman itu saya tidak bisa mengingat serangan balik atau apa pun kami hanya bermain di sekitar pertahanan west brom dan itu adalah tantangan besar namun kami harus menerima hasil itu tentu saja ucap klopp mengakhiri \n",
            "\n",
            "Nilai Similaritas: 0.08251273212806547\n",
            " kompas com bintang juventus cristiano ronaldo dinobatkan sebagai pemain terbaik abad ke dalam acara globe soccer awards malam penganugerahaan diadakan di dubai uni emirat arab senin dini hari wib cristiano ronaldo berhak atas penghargaan tersebut setelah mengalahkan lionel messi barcelona dan mohamed salah liverpool pemain asal portugal itu diakui sebagai pemain terbaik periode berkat serangkaian prestasinya baik bersama klub maupun tim nasional baca juga sebut milan seperti rumah sinyal ibrahimovic bertahan lebih lama di san siro congratulations to cristiano ronaldo on winning the globe soccer award for the player of the century cristianoronaldo cr bvlgari globesoccer pic twitter com ybgzfapo dalam rentang waktu tersebut ronaldo meraih banyak trofi termasuk lima liga champions tiga liga inggris dua liga spanyol dua liga italia serta juara euro dan uefa nations league bersama timnas portugal cristiano ronaldo mengaku senang dan termotivasi setelah menerima penghargaan tersebut ini pencapaian yang luar biasa dan memberi saya motivasi untuk terus maju kata cristiano ronaldo dilansir dari marca dinobatkan sebagai yang terbaik adalah suatu kehormatan besar saya berharap situasi pandemi ini berakhir tahun depan dan kita bisa lebih bersenang senang terima kasih banyak saya berharap masih bisa bermain selama beberapa tahun mendatang ujarnya couldn t be happier with tonight s award as i m about to celebrate my th year as a professional footballer globe soccer player of the century is a recognition that i receive with so much joy and pride globesoccer pic twitter com sailvezz baca juga kalahkan henry dan mo salah ronaldo jadi transfer terbaik premier league jika cristiano ronaldo dinobatkan sebagai pemain terbaik abad ke pep guardiola terpilih sebagai pelatih terbaik abad ini di tingkat klub real madrid menjadi klub terbaik abad ke sementara itu bayern muenchen menyapu bersih penghargaan untuk tahun hansi flick menjadi pelatih terbaik bersamaan dengan robert lewandowski yang dilabeli sebagai pemain terbaik bayern muenchen pun dinobatkan sebagai klub terbaik \n",
            "\n",
            "Nilai Similaritas: 0.0583733434445564\n",
            "kompas com lionel messi mengaku belum memikirkan apa yang akan ia lakukan pada akhir tahun ini kapten barcelona itu mengatakan bahwa ia lebih memilih untuk menunggu hingga kompetisi musim ini selesai saat ini messi sedang melakoni periode terakhir dalam kontraknya bersama barcelona kontrak megabintang asal argentina itu bakal habis pada juni jika messi tak meneken kontrak baru di barcelona penyerang berusia tahun itu akan berstatus bebas transfer pada bursa transfer musim panas tahun depan selain itu karena kontraknya habis akhir juni messi bebas melakukan negosiasi dengan klub lain pada januari mendatang terkait situasi tersebut lionel messi yang pulang ke argentina untuk merayakan natal bersama keluarga mengungkapkan bahwa saat ini fokusnya masih tertuju kepada barcelona baca juga selain messi the next iniesta juga bakal berstatus free transfer saya belum memikirkan secara jelas sampai akhir tahun ini saya akan menunggu hingga akhir musim ungkap messi dalam wawancara dengan jurnalis spanyol jordi evole sebagaimana dilansir mundo deportivo senin saya tidak ingin melanggar apa yang saya katakan sekarang yang terpenting adalah memikirkan tim menyelesaikan musim imbuh messi pemilik enam trofi ballon d or itu menambahkan ia juga tidak ingin terganggu oleh hal hal di luar kepentingan tim termasuk negosiasi dengan klub lain saya berpikir untuk mencoba mendapatkan gelar dan tidak terganggu oleh hal lain tandasnya baca juga klub milik david beckham pantau situasi messi di barcelona lionel messi memang masih memiliki tugas berat untuk mengangkat performa barcelona yang belum stabil di pentas laliga kompetisi teratas liga spanyol hingga liga spanyol bergulir pekan barcelona masih tertahan di peringkat kelima dengan koleksi poin dari pertandingan messi pun mengakui bahwa musim ini sangatlah sulit baginya ini sulit bagi saya karena saya tidak berada di tempat yang saya inginkan sulit bagi saya untuk beradaptasi di ruang ganti karena banyak orang baru ujarnya kami berasal dari budaya yang berbeda dan ini membuat kami lebih sulit bersatu di ruang ganti namun sedikit demi sedikit kami coba mengatasi itu kata messi baca juga jelang barcelona vs eibar messi dapat bonus libur barcelona dijadwalkan menjamu eibar pada pertandingan terakhir tahun laga barcelona vs eibar pada jornada ke liga spanyol bakal digelar di stadion camp nou selasa malam waktu setempat atau rabu dini hari wib messi dikabarkan tidak akan tampil pada laga melawan eibar karena mendapatkan libur tambahan dari barcelona \n",
            "\n",
            "Nilai Similaritas: 0.049618323544748856\n",
            "kompas com laga lanjutan boxing day akan mempertandingkan partai beda nasib liverpool vs west bromwich albion di anfield minggu malam wib adapun link live streaming laga liverpool vs west brom akan tersedia pada akhir artikel ini liverpool merupakan pemuncak klasemen sementara liga inggris the anfield gank menjadi yang teratas seusai mengoleksi poin dari laga sementara itu the baggies julukan west brom memiliki beda nasib derajat dengan menempati peringkat ke karena baru menorehkan tujuh poin catatan tersebut pun membuat the reds di atas kertas akan menang mudah atas west brom baca juga liverpool vs west brom kembalinya allardyce penakluk terakhir anfield motivasi liverpool untuk memenangi laga juga semakin meninggi seusai pesaing terdekatnya yakni manchester united dan leicester city harus berbagai poin ketika saling bentrok dengan fakta tersebut jelas pasukan juergen klopp enggan menyia nyiakan kesempatan untuk memperlebar jarak terlebih sadio mane dkk akan bermain di kandang sendiri mohamed salah yang saat ini bertengger sebagai pemuncak top skor premier league dengan torehan gol diprediksi akan kembali menggila pada laga malam nanti terlebih lagi winger asal mesir tersebut sangat gemar menjebol gawag gawang tim promosi tercatat dua tim promosi di liga inggris musim ini yakni leeds united dan fulham telah menjadi korban dari keganasannya saat bertanding melawan leeds pada pekan pembuka mo salah tampil trengginas dengan mencetak trigol atau hattrick baca juga bukan mo salah ini eksekutor penalti utama liverpool kata klopp kemoncerannya melawan tim promosi pun berlanjut kala the reds bersua fulham pada desember silam meski liverpool hanya bermain imbang ia sukses mencetak satu gol yang membuat the reds terhindar dari kekalahan west brom yang menjadi tim dengan pertahanan terburuk kedua pun dapat menjadi mangsa empuk bagi mo salah dkk untuk membawa liverpool semakin meroket namun misi tersebut bisa saja tersendat pasalnya the baggies saat ini ditangani oleh pelatih sarat pengalaman di liga inggris sam allardyce big sam julukkan allardyce sendiri merupakan pelatih klub premier league terakhir yang sukses memetik kemenangan di anfield torehan tersebut terjadi pada april kala itu allardyce tengah menukangi crystal palace dan sukses mengalahkan liverpool di kandangnya sendiri baca juga liverpool vs west brom fabinho tatap laga ke bersama the reds fakta tersebut pun menjadi sinyal kuat bagi west brom untuk setidaknya meraih satu poin dari liverpool bahkan bisa saja big sam dapat kembali mengulangi kesuksesannya ketika menjadi manajer palace pasalnya pria asal inggris tersebut tercatat sebagai pelatih yang kerap membawa tim tim yang dibelanya selamat dari jurang degradasi seperti bolton blackburn rovers sundeland hingga palace pun ia selamatkan mengingat catatan apik allardyce bukan tidak mungkin liverpool dapat menjadi korban pertamanya untuk menyelamatkan the baggies pertandingan liverpool vs west brom dapat disaksikan secara streaming melalui molatv dengan jadwal kickoff pukul wib anda harus mempunyai paket premium molatv baik bulanan atau tahunan terlebih dahulu untuk bisa menyaksikan laga tersebut berikut adalah link live streaming liverpool vs west brom link\n",
            "\n",
            "Nilai Similaritas: 0.026747089327892052\n",
            "kompas com pemain muda kelahiran magelang amiruddin bagus kahfi al fikri selangkah lagi merasakan karier di benua eropa bagus kahfi akan bergabung dengan klub belanda jong utrecht langkah tersebut bisa menjadi satu pijakan kuat menaiki tangga mimpinya sebagai pemain sepak bola profesional dia menjadi satu dari sedikit pemain muda yang bisa merasakan dinginnya udara eropa sebagai pemain sepak bola profesional baca juga dua pemain timnas indonesia pendahulu bagus kahfi di fc utrecht saat ini dirinya tengah menyelesaikan berkas berkas yang nantinya diperlukan agar bisa bermain di belanda meski belum melakoni debut bersama jong utrecht namun bagus justru sudah mamasang target baru target itu tak lain adalah mimpinya sendiri sebagai pemain bermain untuk manchester united adalah impian terbesar saya ujar bagus kahfi dikutip warta kota baca juga jack brown dan timnas u indonesia yang belum berakhir bagus sudah mengenal klub berjuluk setan merah sejak belia awal saya menyukai manchester united sejak saat itu mereka menjuarai liga champions setelah mengalahkan chelsea kata dia melanjutkan mimpi terbesarnya mulai terasa dekat namun masih terlihat jauh ketika bagus kahfi bergabung dalam garuda select ii saat itu dia bisa merasakan gaya main tim tim asal inggris secara langsung dia juga mampu tampil produktif dengan mencetak gol ke gawang klub klub inggris saat itu baca juga sebut kurnia meiga ini alasan andritany enggan gunakan nomor di timnas indonesia sebanyak di antaranya dicatatkan pemain tahun hanya dalam lima laga jadi saya sudah tau bagamaina standar permainan di sana dan apa apa saja yang mesti saya siapkan memang tak mudah namun saya akan berjuang meraih impian saya ujarnya \n",
            "\n",
            "Nilai Similaritas: 0.022938261053342002\n",
            " kompas com bintang muda sepak bola indonesia amiruddin bagus kahfi al fikri masih tidak menyangka dirinya akan bermain di eropa bagus kahfi dipastikan berkarier di eropa setelah barito putera resmi melepasnya secara cuma cuma alias gratis ke tim asal belanda fc utrecht pada awal desember bagus kahfi yang kini masih berada di indonesia diperkirakan akan berangkat ke belanda pada awal setelah seluruh berkas transfer selesai di fc utrecht bagus kahfi mendapat kontrak selama bulan sampai bagus kahfi nantinya akan bergabung dengan tim muda fc utrecht yang kini bermain di kasta kedua liga belanda jong utrecht baca juga bela negara lewat sepak bola bagus kahfi terinspirasi john f kennedy menanggapi fakta itu bagus kahfi mengaku masih tidak menyangka dirinya akan melanjutkan karier di eropa saat masih berusia muda pastinya tuhan yang tahu jalan hambanya masing masing jika diingat saya dulu hanyalah anak kecil yang bermain bola dengan riang kata bagus kahfi dikutip dari situs warta kota sewaktu kecil saya setelah bermain bola sering dimarahi karena pulang terlambat saat maghrib atau dengan pakaian yang kotor tutur bagus kahfi menambahkan fc utrecht adalah fokus saya saat ini saya ingin berjuang di sana dan membuktikan diri ucap pemain asal magelang jawa tengah itu setelah dipastikan bergabung dengan fc utrecht bagus kahfi langsung memasang target terbaru baca juga dua pemain timnas indonesia pendahulu bagus kahfi di fc utrecht bagus kahfi berharap suatu saat bisa bermain untuk raksasa inggris manchester united yang merupakan tim idolanya bagus kahfi optimistis bisa mewujudkan mimpi itu karena sudah tahu bagaimana kualitas dan standar pemain muda di inggris pengetahuan itu didapatkan bagus kahfi setelah mengikuti pemusatan latihan di inggris bersama garuda select dalam dua tahun terakhir bermain di man united adalah impian terbesar saya saya sudah mengidolakan man united ketika mereka menjadi juara liga champions pada kata bagus kahfi saya tahu memang tidak mudah mewujudkan mimpi itu namun saya akan berjuang untuk mewujudkannya ucap bagus kahfi baca juga pesan sang ayah kepada bagus kahfi selama berkarier di fc utrecht nama amiruddin bagus kahfi mulai dikenal publik sepak bola indonesia setelah menjadi top skor piala aff u edisi bagus kahfi pada turnamen tersebut tampil gemilang dengan koleksi gol dari tujuh laga torehan itu tidak hanya membuat bagus kahfi menjadi top skor melainkan juga turut membantu timnas u indonesia meraih gelar juara piala aff u setelah tampil gemilang bersama timnas u indonesia bagus kahfi kemudian dipanggil untuk mengikuti program pembinaan garuda select dari situlah kesempatan bagus kahfi melanjutkan karier di eropa mulai terbuka kepastian bagus kahfi bergabung ke fc uterecht tidak lepas dari peran legenda chelsea yang kini menjadi direktur teknik garuda select dennis wise sebab dennis wise adalah orang yang memberi jaminan kepada fc utrecht bahwa bagus kahfi adalah pemain bertalenta dan layak dipertimbangkan sebelum resmi memberi kontrak fc utrecht juga sempat membantu pemulihan cedera pergelangan kaki yang didapat bagus kahfi awal tahun ini rafzanjani simanjorang \n",
            "\n",
            "Nilai Similaritas: 0.01849495916735869\n",
            "kompas com gelandang asal portugal milik manchester united bruno fernandes tercatat sebagai pemain andalan kedua oleh ole gunnar solskjaer melansir laman resmi man united pemain andalan pertama bagi solskjaer di klub berjuluk setan merah itu adalah bek harry maguire urutan tersebut berdasarkan jatah main yang didapat dalam kurun waktu satu tahun terakhir di tingkat dunia bruno fernandes dan harry maguire masuk dalam lima pesepak bola paling sibuk harry maguire mencatatkan menit main sebanyak menit jumlah tersebut menjadi durasi paling banyak atau menempati peringkat pertama dunia baca juga alasan solskjaer cadangkan cavani saat man united tertahan leicester sementara bruno fernandes berada di urutan keempat dengan catatan waktu main selama menit adapun posisi kedua di tingkat dunia ditempati oleh ruben dias man city yakni selama menit kemudian di posisi ketiga diisi oleh megabintang barcelona lionel messi menit sementara di urutan nomor lima ada pemain liga brasil bruno pacheco dari klub ceara dengan torehan waktu menit baca juga bruno fernandes bikin solskjaer ingin jambak rambut sendiri melihat nama bruno fernandes di urutan keempat dia tak senang bruno fernandes bahkan menantang pelatih man united ole gunnar solskjaer agar selalu memainkannya saya tak senang saya harus bilang kepada pelatih saya ingin berada di posisi pertama kata gelandang serang man united tersebut tentu ini sangat penting untuk bermain semakin banyak laga kian banyak pula menit main semakin percaya diri juga anda nantinya begitulah prinsipnya jelas dia dikutip laman resmi klub baca juga rating pemain man united vs leicester rapor ciamik bruno fernandes bruno fernandes pribadi kian percaya diri dengan posisinya di man united ini sangat penting bagi saya karena ini adalah bagian dari cara saya menenangkan diri saya merasakan kepercayaan dari pelatih saya membutuhkan anda dan saya ingin anda bermain saya akan memberi anda kesempatan ketika anda melihat menit menit yang saya miliki musim ini itu mempercayai saya dan saya harus memberikan sesuatu kepada klub tandasnya \n",
            "\n",
            "----------------------------------------------------------------------------------------------------\n",
            "query: messi\n",
            "Berikut artikel dengan nilai cosine similarity tertinggi: \n",
            "Nilai Similaritas: 0.4582824228258222\n",
            "kompas com keberadaan pelatih mauricio pochettino menggantikan thomas tuchel di paris saint germain psg memberi harapan baru kedatangan pochettino menyeret nama megabintang barcelona lionel messi ke dalam daftar perekrutan anyar psg laporan le parisien menyebutkan messi menjadi incaran utama ketika jendela bursa transfer mulai terbuka pada januari mendatang status la pulga julukan messi akan berubah menjadi free transfer baca juga selain messi the next iniesta juga bakal berstatus free transfer hal itu mengingat kontrak messi dengan barcelona akan berakhir pada juni dan kedua pihak belum ada tanda tanda perpanjangan kontrak messi juga sudah jauh jauh hari menyiapkan kepergiannya dari camp nou momen kekalahan dari bayern muenchen menjadi sumber keinginan kuat messi hengkang dari barcelona mengutip mundo deportivo pochettino memasukkan nama la pulga sebagai rekrutan pertamanya baca juga dari messi hingga pogba ini transfer musim dingin yang dapat terwujud keberadaan neymar jr di psg bisa juga menjadi pancingan sang pemain asal argentina itu berlabuh ke kota paris psg juga diprediksi mampu menarik perhatian messi dari segi finansial paris saint germain terkenal dengan sangat royal kepada pemain pemainnya yang memberikan gaji tinggi di sisi lain pochettino dibenak messi tidak begitu asing pasalnya messi pernah merekomendasikan mauricio pochettino ke dewan barcelona untuk menggantikan ernesto valverde januari baca juga pelatih terbaik dalam karier lionel messi di barcelona siapa saja andai kepindahan ini terjadi tentu akan menjadi sejarah dalam dunia sepak bola sebab status megabintang yang ada dalam diri lionel messi lahir berkat dan bersama barcelona \n",
            "\n",
            "Nilai Similaritas: 0.3644011193872757\n",
            "kompas com lionel messi mengaku belum memikirkan apa yang akan ia lakukan pada akhir tahun ini kapten barcelona itu mengatakan bahwa ia lebih memilih untuk menunggu hingga kompetisi musim ini selesai saat ini messi sedang melakoni periode terakhir dalam kontraknya bersama barcelona kontrak megabintang asal argentina itu bakal habis pada juni jika messi tak meneken kontrak baru di barcelona penyerang berusia tahun itu akan berstatus bebas transfer pada bursa transfer musim panas tahun depan selain itu karena kontraknya habis akhir juni messi bebas melakukan negosiasi dengan klub lain pada januari mendatang terkait situasi tersebut lionel messi yang pulang ke argentina untuk merayakan natal bersama keluarga mengungkapkan bahwa saat ini fokusnya masih tertuju kepada barcelona baca juga selain messi the next iniesta juga bakal berstatus free transfer saya belum memikirkan secara jelas sampai akhir tahun ini saya akan menunggu hingga akhir musim ungkap messi dalam wawancara dengan jurnalis spanyol jordi evole sebagaimana dilansir mundo deportivo senin saya tidak ingin melanggar apa yang saya katakan sekarang yang terpenting adalah memikirkan tim menyelesaikan musim imbuh messi pemilik enam trofi ballon d or itu menambahkan ia juga tidak ingin terganggu oleh hal hal di luar kepentingan tim termasuk negosiasi dengan klub lain saya berpikir untuk mencoba mendapatkan gelar dan tidak terganggu oleh hal lain tandasnya baca juga klub milik david beckham pantau situasi messi di barcelona lionel messi memang masih memiliki tugas berat untuk mengangkat performa barcelona yang belum stabil di pentas laliga kompetisi teratas liga spanyol hingga liga spanyol bergulir pekan barcelona masih tertahan di peringkat kelima dengan koleksi poin dari pertandingan messi pun mengakui bahwa musim ini sangatlah sulit baginya ini sulit bagi saya karena saya tidak berada di tempat yang saya inginkan sulit bagi saya untuk beradaptasi di ruang ganti karena banyak orang baru ujarnya kami berasal dari budaya yang berbeda dan ini membuat kami lebih sulit bersatu di ruang ganti namun sedikit demi sedikit kami coba mengatasi itu kata messi baca juga jelang barcelona vs eibar messi dapat bonus libur barcelona dijadwalkan menjamu eibar pada pertandingan terakhir tahun laga barcelona vs eibar pada jornada ke liga spanyol bakal digelar di stadion camp nou selasa malam waktu setempat atau rabu dini hari wib messi dikabarkan tidak akan tampil pada laga melawan eibar karena mendapatkan libur tambahan dari barcelona \n",
            "\n",
            "Nilai Similaritas: 0.30062277627696493\n",
            " barcelona kompas com kapten barcelona lionel messi masih sakit hati saat mengingat transfer luis suarez ke atletico madrid awal musim ini secara spesifik lionel messi mengkritik cara barcelona memperlakukan luis suarez luis suarez terpaksa pindah ke atletico madrid setelah dirinya tidak masuk ke dalam rencana pelatih anyar barcelona ronald koeman pada awal kedatangannya ronald koeman secara terbuka memang sudah menyatakan ingin melakukan peremajaan skuad di barcelona tidak main main ronald koeman yang terkenal tegas langsung mendepak beberapa pemain senior barcelona beberapa hari setelah diresmikan baca juga luis suarez ungkap hal yang bisa bikin lionel messi bertahan di barcelona luis suarez yang menjadi salah satu korban perombakan skuad ala ronald koeman bisa dikatakan didepak barcelona secara tidak hormat sebab luis suarez yang masih memiliki sisa kontrak satu tahun di barcelona disingkirkan oleh ronald koeman melalui telepon luis suarez yang tidak terima dikabarkan sempat ingin membawa perselisihannya dengan ronald koeman ke jalur hukum perang dingin itu kemudian membuat luis suarez dicoret dari skuad pramusim barcelona dan harus berlatih sendiri ketika dirinya sedang mencari tim baru drama tersebut pada akhirnya selesai dengan keputusan luis suarez menerima kontrak dua tahun dari atletico madrid mengingat transfer luis suarez lionel messi mengaku masih sakit hati hingga saat ini baca juga gol lionel messi lampaui rekor pele santos tak terima lionel messi geram karena luis suarez yang merupakan sahabatnya dan juga legenda barcelona didepak secara tidak hormat messi juga heran karena barcelona melepas luis suarez ke tim rival saya sudah berencana meninggalkan barcelona sebelum luis suarez didepak kata lionel messi yang juga pernah ingin hengkang pada awal musim ini namun apa yang terjadi dengan luis suarez itu sangat gila ucap lionel messi menambahkan saya tidak suka dengan cara luis suarez meninggalkan barcelona saya pikir dia tidak pantas pergi dengan cara seperti itu tutur lionel messi tidak hanya itu barcelona juga melepas luis suarez secara cuma cuma ke tim pesaing kata lionel messi menambahkan baca juga curhat lionel messi kadang saya ingin menjadi orang yang tak dikenal dalam wawancara dengan la sexta lionel messi juga menjelaskan perihal terkait masa depannya lionel messi memastikan akan bertahan di barcelona sampai kontraknya berakhir pada juni meski demikian lionel messi tidak bisa menjamin dirinya akan tetap berseragam barcelona musim depan lionel messi mengaku baru akan menentukan masa depannya akhir musim ini setelah berbicara dengan presiden terpilih barcelona sebagai informasi barcelona akan menggelar pemilu presiden klub pada januari untuk mencari pengganti josep maria bartomeu yang mengundurkan diri akhir oktober terkini paris saint germain psg dikabarkan sedang memantau situasi lionel messi di barcelona rumor itu semakin kuat setelah mauricio pochettino dikabarkan akan menjadi pelatih anyar psg menggantikan thomas tuchel yang dipecat sebelumnya pemain termahal dunia milik psg yang juga merupakan sahabat lionel messi neymar jr juga sudah melempar kode neymar jr secara terbuka menyatakan ingin bermain bersama lionel messi sekali lagi banyak kalangan menilai pernyataan neymar jr itu adalah cerminan dari rencana transfer psg musim depan \n",
            "\n",
            "Nilai Similaritas: 0.027594296633991232\n",
            " kompas com bintang juventus cristiano ronaldo dinobatkan sebagai pemain terbaik abad ke dalam acara globe soccer awards malam penganugerahaan diadakan di dubai uni emirat arab senin dini hari wib cristiano ronaldo berhak atas penghargaan tersebut setelah mengalahkan lionel messi barcelona dan mohamed salah liverpool pemain asal portugal itu diakui sebagai pemain terbaik periode berkat serangkaian prestasinya baik bersama klub maupun tim nasional baca juga sebut milan seperti rumah sinyal ibrahimovic bertahan lebih lama di san siro congratulations to cristiano ronaldo on winning the globe soccer award for the player of the century cristianoronaldo cr bvlgari globesoccer pic twitter com ybgzfapo dalam rentang waktu tersebut ronaldo meraih banyak trofi termasuk lima liga champions tiga liga inggris dua liga spanyol dua liga italia serta juara euro dan uefa nations league bersama timnas portugal cristiano ronaldo mengaku senang dan termotivasi setelah menerima penghargaan tersebut ini pencapaian yang luar biasa dan memberi saya motivasi untuk terus maju kata cristiano ronaldo dilansir dari marca dinobatkan sebagai yang terbaik adalah suatu kehormatan besar saya berharap situasi pandemi ini berakhir tahun depan dan kita bisa lebih bersenang senang terima kasih banyak saya berharap masih bisa bermain selama beberapa tahun mendatang ujarnya couldn t be happier with tonight s award as i m about to celebrate my th year as a professional footballer globe soccer player of the century is a recognition that i receive with so much joy and pride globesoccer pic twitter com sailvezz baca juga kalahkan henry dan mo salah ronaldo jadi transfer terbaik premier league jika cristiano ronaldo dinobatkan sebagai pemain terbaik abad ke pep guardiola terpilih sebagai pelatih terbaik abad ini di tingkat klub real madrid menjadi klub terbaik abad ke sementara itu bayern muenchen menyapu bersih penghargaan untuk tahun hansi flick menjadi pelatih terbaik bersamaan dengan robert lewandowski yang dilabeli sebagai pemain terbaik bayern muenchen pun dinobatkan sebagai klub terbaik \n",
            "\n",
            "Nilai Similaritas: 0.024740685532290668\n",
            "kompas com gelandang asal portugal milik manchester united bruno fernandes tercatat sebagai pemain andalan kedua oleh ole gunnar solskjaer melansir laman resmi man united pemain andalan pertama bagi solskjaer di klub berjuluk setan merah itu adalah bek harry maguire urutan tersebut berdasarkan jatah main yang didapat dalam kurun waktu satu tahun terakhir di tingkat dunia bruno fernandes dan harry maguire masuk dalam lima pesepak bola paling sibuk harry maguire mencatatkan menit main sebanyak menit jumlah tersebut menjadi durasi paling banyak atau menempati peringkat pertama dunia baca juga alasan solskjaer cadangkan cavani saat man united tertahan leicester sementara bruno fernandes berada di urutan keempat dengan catatan waktu main selama menit adapun posisi kedua di tingkat dunia ditempati oleh ruben dias man city yakni selama menit kemudian di posisi ketiga diisi oleh megabintang barcelona lionel messi menit sementara di urutan nomor lima ada pemain liga brasil bruno pacheco dari klub ceara dengan torehan waktu menit baca juga bruno fernandes bikin solskjaer ingin jambak rambut sendiri melihat nama bruno fernandes di urutan keempat dia tak senang bruno fernandes bahkan menantang pelatih man united ole gunnar solskjaer agar selalu memainkannya saya tak senang saya harus bilang kepada pelatih saya ingin berada di posisi pertama kata gelandang serang man united tersebut tentu ini sangat penting untuk bermain semakin banyak laga kian banyak pula menit main semakin percaya diri juga anda nantinya begitulah prinsipnya jelas dia dikutip laman resmi klub baca juga rating pemain man united vs leicester rapor ciamik bruno fernandes bruno fernandes pribadi kian percaya diri dengan posisinya di man united ini sangat penting bagi saya karena ini adalah bagian dari cara saya menenangkan diri saya merasakan kepercayaan dari pelatih saya membutuhkan anda dan saya ingin anda bermain saya akan memberi anda kesempatan ketika anda melihat menit menit yang saya miliki musim ini itu mempercayai saya dan saya harus memberikan sesuatu kepada klub tandasnya \n",
            "\n",
            "----------------------------------------------------------------------------------------------------\n",
            "query: moh salah\n",
            "Berikut artikel dengan nilai cosine similarity tertinggi: \n",
            "Nilai Similaritas: 0.13759243330900922\n",
            "kompas com mohamed salah mencatatkan rekor buruk ketika liverpool ditahan imbang oleh west bromwich albion pada pekan ke premier league atau kompetisi teratas liga inggris duel liverpool vs west brom pada gameweek liga inggris yang digelar di stadion anfield minggu malam wib berakhir dengan skor sama kuat the reds julukan liverpool lebih dulu unggul melalui gol sadio mane pada menit ke namun west brom yang kini dilatih oleh sam allardyce bisa memaksakan hasil imbang lewat gol balasan semi ajayi pada menit ke baca juga hasil liverpool vs west brom imbang alisson sempat nganggur hasil liga inggris tersebut membuat liverpool gagal melebarkan jarak dengan para pesaingnya di tabel klasemen pasukan juergen klopp memang masih menguasai puncak klasemen liga inggris dengan nilai dari pertandingan namun mereka kini hanya berjarak tiga angka dari everton yang berada di peringkat kedua sementara leicester city posisi tiga poin dan manchester united empat juga berpotensi mengancam the reds baca juga hasil liga inggris liverpool dan tottenham kompak raih hasil imbang hasil imbang kontra west brom juga membuat bintang liverpool mohamed salah mencatatkan rekor buruk menghadapi west brom winger asal mesir itu tak bisa berbuat banyak mo salah yang bermain penuh selama menit tercatat melepaskan tiga tembakan namun semuanya tidak ada yang tepat sasaran berdasarkan data squawka salah untuk kali pertama gagal mencetak tembakan tepat sasaran dalam sebuah pertandingan premier league di anfield sejak liverpool bersua everton desember mohamed salah failed to produce a shot on target in a premier league game at anfield for the first time since th december against everton no way through the west brom wall pic twitter com nvolctqvs baca juga liverpool vs west brom sadio mane ukir pencapaian gemilang menanggapi hasil imbang yang diraih liverpool juergen klopp mengatakan bahwa west brom memang layak mendapatkan poin pada laga ini masalah yang saya pikirkan adalah west brom layak mendapatkan poin itu adalah kesalahan kami dan mereka memang layak mendapatkan poin pada babak kedua ujar klopp dikutip dari laman resmi liverpool fc babak pertama adalah pertandingan yang cukup aneh saya tidak tahu statistiknya tetapi itu terlihat seperti penguasaan bola imbuh juru taktik asal jerman itu saya tidak bisa mengingat serangan balik atau apa pun kami hanya bermain di sekitar pertahanan west brom dan itu adalah tantangan besar namun kami harus menerima hasil itu tentu saja ucap klopp mengakhiri \n",
            "\n",
            "Nilai Similaritas: 0.09854520620619713\n",
            "kompas com laga lanjutan boxing day akan mempertandingkan partai beda nasib liverpool vs west bromwich albion di anfield minggu malam wib adapun link live streaming laga liverpool vs west brom akan tersedia pada akhir artikel ini liverpool merupakan pemuncak klasemen sementara liga inggris the anfield gank menjadi yang teratas seusai mengoleksi poin dari laga sementara itu the baggies julukan west brom memiliki beda nasib derajat dengan menempati peringkat ke karena baru menorehkan tujuh poin catatan tersebut pun membuat the reds di atas kertas akan menang mudah atas west brom baca juga liverpool vs west brom kembalinya allardyce penakluk terakhir anfield motivasi liverpool untuk memenangi laga juga semakin meninggi seusai pesaing terdekatnya yakni manchester united dan leicester city harus berbagai poin ketika saling bentrok dengan fakta tersebut jelas pasukan juergen klopp enggan menyia nyiakan kesempatan untuk memperlebar jarak terlebih sadio mane dkk akan bermain di kandang sendiri mohamed salah yang saat ini bertengger sebagai pemuncak top skor premier league dengan torehan gol diprediksi akan kembali menggila pada laga malam nanti terlebih lagi winger asal mesir tersebut sangat gemar menjebol gawag gawang tim promosi tercatat dua tim promosi di liga inggris musim ini yakni leeds united dan fulham telah menjadi korban dari keganasannya saat bertanding melawan leeds pada pekan pembuka mo salah tampil trengginas dengan mencetak trigol atau hattrick baca juga bukan mo salah ini eksekutor penalti utama liverpool kata klopp kemoncerannya melawan tim promosi pun berlanjut kala the reds bersua fulham pada desember silam meski liverpool hanya bermain imbang ia sukses mencetak satu gol yang membuat the reds terhindar dari kekalahan west brom yang menjadi tim dengan pertahanan terburuk kedua pun dapat menjadi mangsa empuk bagi mo salah dkk untuk membawa liverpool semakin meroket namun misi tersebut bisa saja tersendat pasalnya the baggies saat ini ditangani oleh pelatih sarat pengalaman di liga inggris sam allardyce big sam julukkan allardyce sendiri merupakan pelatih klub premier league terakhir yang sukses memetik kemenangan di anfield torehan tersebut terjadi pada april kala itu allardyce tengah menukangi crystal palace dan sukses mengalahkan liverpool di kandangnya sendiri baca juga liverpool vs west brom fabinho tatap laga ke bersama the reds fakta tersebut pun menjadi sinyal kuat bagi west brom untuk setidaknya meraih satu poin dari liverpool bahkan bisa saja big sam dapat kembali mengulangi kesuksesannya ketika menjadi manajer palace pasalnya pria asal inggris tersebut tercatat sebagai pelatih yang kerap membawa tim tim yang dibelanya selamat dari jurang degradasi seperti bolton blackburn rovers sundeland hingga palace pun ia selamatkan mengingat catatan apik allardyce bukan tidak mungkin liverpool dapat menjadi korban pertamanya untuk menyelamatkan the baggies pertandingan liverpool vs west brom dapat disaksikan secara streaming melalui molatv dengan jadwal kickoff pukul wib anda harus mempunyai paket premium molatv baik bulanan atau tahunan terlebih dahulu untuk bisa menyaksikan laga tersebut berikut adalah link live streaming liverpool vs west brom link\n",
            "\n",
            "Nilai Similaritas: 0.06145336254808925\n",
            " kompas com bintang juventus cristiano ronaldo dinobatkan sebagai pemain terbaik abad ke dalam acara globe soccer awards malam penganugerahaan diadakan di dubai uni emirat arab senin dini hari wib cristiano ronaldo berhak atas penghargaan tersebut setelah mengalahkan lionel messi barcelona dan mohamed salah liverpool pemain asal portugal itu diakui sebagai pemain terbaik periode berkat serangkaian prestasinya baik bersama klub maupun tim nasional baca juga sebut milan seperti rumah sinyal ibrahimovic bertahan lebih lama di san siro congratulations to cristiano ronaldo on winning the globe soccer award for the player of the century cristianoronaldo cr bvlgari globesoccer pic twitter com ybgzfapo dalam rentang waktu tersebut ronaldo meraih banyak trofi termasuk lima liga champions tiga liga inggris dua liga spanyol dua liga italia serta juara euro dan uefa nations league bersama timnas portugal cristiano ronaldo mengaku senang dan termotivasi setelah menerima penghargaan tersebut ini pencapaian yang luar biasa dan memberi saya motivasi untuk terus maju kata cristiano ronaldo dilansir dari marca dinobatkan sebagai yang terbaik adalah suatu kehormatan besar saya berharap situasi pandemi ini berakhir tahun depan dan kita bisa lebih bersenang senang terima kasih banyak saya berharap masih bisa bermain selama beberapa tahun mendatang ujarnya couldn t be happier with tonight s award as i m about to celebrate my th year as a professional footballer globe soccer player of the century is a recognition that i receive with so much joy and pride globesoccer pic twitter com sailvezz baca juga kalahkan henry dan mo salah ronaldo jadi transfer terbaik premier league jika cristiano ronaldo dinobatkan sebagai pemain terbaik abad ke pep guardiola terpilih sebagai pelatih terbaik abad ini di tingkat klub real madrid menjadi klub terbaik abad ke sementara itu bayern muenchen menyapu bersih penghargaan untuk tahun hansi flick menjadi pelatih terbaik bersamaan dengan robert lewandowski yang dilabeli sebagai pemain terbaik bayern muenchen pun dinobatkan sebagai klub terbaik \n",
            "\n",
            "Nilai Similaritas: 0.017618324602785035\n",
            " barcelona kompas com kapten barcelona lionel messi masih sakit hati saat mengingat transfer luis suarez ke atletico madrid awal musim ini secara spesifik lionel messi mengkritik cara barcelona memperlakukan luis suarez luis suarez terpaksa pindah ke atletico madrid setelah dirinya tidak masuk ke dalam rencana pelatih anyar barcelona ronald koeman pada awal kedatangannya ronald koeman secara terbuka memang sudah menyatakan ingin melakukan peremajaan skuad di barcelona tidak main main ronald koeman yang terkenal tegas langsung mendepak beberapa pemain senior barcelona beberapa hari setelah diresmikan baca juga luis suarez ungkap hal yang bisa bikin lionel messi bertahan di barcelona luis suarez yang menjadi salah satu korban perombakan skuad ala ronald koeman bisa dikatakan didepak barcelona secara tidak hormat sebab luis suarez yang masih memiliki sisa kontrak satu tahun di barcelona disingkirkan oleh ronald koeman melalui telepon luis suarez yang tidak terima dikabarkan sempat ingin membawa perselisihannya dengan ronald koeman ke jalur hukum perang dingin itu kemudian membuat luis suarez dicoret dari skuad pramusim barcelona dan harus berlatih sendiri ketika dirinya sedang mencari tim baru drama tersebut pada akhirnya selesai dengan keputusan luis suarez menerima kontrak dua tahun dari atletico madrid mengingat transfer luis suarez lionel messi mengaku masih sakit hati hingga saat ini baca juga gol lionel messi lampaui rekor pele santos tak terima lionel messi geram karena luis suarez yang merupakan sahabatnya dan juga legenda barcelona didepak secara tidak hormat messi juga heran karena barcelona melepas luis suarez ke tim rival saya sudah berencana meninggalkan barcelona sebelum luis suarez didepak kata lionel messi yang juga pernah ingin hengkang pada awal musim ini namun apa yang terjadi dengan luis suarez itu sangat gila ucap lionel messi menambahkan saya tidak suka dengan cara luis suarez meninggalkan barcelona saya pikir dia tidak pantas pergi dengan cara seperti itu tutur lionel messi tidak hanya itu barcelona juga melepas luis suarez secara cuma cuma ke tim pesaing kata lionel messi menambahkan baca juga curhat lionel messi kadang saya ingin menjadi orang yang tak dikenal dalam wawancara dengan la sexta lionel messi juga menjelaskan perihal terkait masa depannya lionel messi memastikan akan bertahan di barcelona sampai kontraknya berakhir pada juni meski demikian lionel messi tidak bisa menjamin dirinya akan tetap berseragam barcelona musim depan lionel messi mengaku baru akan menentukan masa depannya akhir musim ini setelah berbicara dengan presiden terpilih barcelona sebagai informasi barcelona akan menggelar pemilu presiden klub pada januari untuk mencari pengganti josep maria bartomeu yang mengundurkan diri akhir oktober terkini paris saint germain psg dikabarkan sedang memantau situasi lionel messi di barcelona rumor itu semakin kuat setelah mauricio pochettino dikabarkan akan menjadi pelatih anyar psg menggantikan thomas tuchel yang dipecat sebelumnya pemain termahal dunia milik psg yang juga merupakan sahabat lionel messi neymar jr juga sudah melempar kode neymar jr secara terbuka menyatakan ingin bermain bersama lionel messi sekali lagi banyak kalangan menilai pernyataan neymar jr itu adalah cerminan dari rencana transfer psg musim depan \n",
            "\n",
            "----------------------------------------------------------------------------------------------------\n",
            "query: pemain terbaik\n",
            "Berikut artikel dengan nilai cosine similarity tertinggi: \n",
            "Nilai Similaritas: 0.40060406507601737\n",
            " kompas com bintang juventus cristiano ronaldo dinobatkan sebagai pemain terbaik abad ke dalam acara globe soccer awards malam penganugerahaan diadakan di dubai uni emirat arab senin dini hari wib cristiano ronaldo berhak atas penghargaan tersebut setelah mengalahkan lionel messi barcelona dan mohamed salah liverpool pemain asal portugal itu diakui sebagai pemain terbaik periode berkat serangkaian prestasinya baik bersama klub maupun tim nasional baca juga sebut milan seperti rumah sinyal ibrahimovic bertahan lebih lama di san siro congratulations to cristiano ronaldo on winning the globe soccer award for the player of the century cristianoronaldo cr bvlgari globesoccer pic twitter com ybgzfapo dalam rentang waktu tersebut ronaldo meraih banyak trofi termasuk lima liga champions tiga liga inggris dua liga spanyol dua liga italia serta juara euro dan uefa nations league bersama timnas portugal cristiano ronaldo mengaku senang dan termotivasi setelah menerima penghargaan tersebut ini pencapaian yang luar biasa dan memberi saya motivasi untuk terus maju kata cristiano ronaldo dilansir dari marca dinobatkan sebagai yang terbaik adalah suatu kehormatan besar saya berharap situasi pandemi ini berakhir tahun depan dan kita bisa lebih bersenang senang terima kasih banyak saya berharap masih bisa bermain selama beberapa tahun mendatang ujarnya couldn t be happier with tonight s award as i m about to celebrate my th year as a professional footballer globe soccer player of the century is a recognition that i receive with so much joy and pride globesoccer pic twitter com sailvezz baca juga kalahkan henry dan mo salah ronaldo jadi transfer terbaik premier league jika cristiano ronaldo dinobatkan sebagai pemain terbaik abad ke pep guardiola terpilih sebagai pelatih terbaik abad ini di tingkat klub real madrid menjadi klub terbaik abad ke sementara itu bayern muenchen menyapu bersih penghargaan untuk tahun hansi flick menjadi pelatih terbaik bersamaan dengan robert lewandowski yang dilabeli sebagai pemain terbaik bayern muenchen pun dinobatkan sebagai klub terbaik \n",
            "\n",
            "Nilai Similaritas: 0.1208946234537094\n",
            "kompas com pemain muda kelahiran magelang amiruddin bagus kahfi al fikri selangkah lagi merasakan karier di benua eropa bagus kahfi akan bergabung dengan klub belanda jong utrecht langkah tersebut bisa menjadi satu pijakan kuat menaiki tangga mimpinya sebagai pemain sepak bola profesional dia menjadi satu dari sedikit pemain muda yang bisa merasakan dinginnya udara eropa sebagai pemain sepak bola profesional baca juga dua pemain timnas indonesia pendahulu bagus kahfi di fc utrecht saat ini dirinya tengah menyelesaikan berkas berkas yang nantinya diperlukan agar bisa bermain di belanda meski belum melakoni debut bersama jong utrecht namun bagus justru sudah mamasang target baru target itu tak lain adalah mimpinya sendiri sebagai pemain bermain untuk manchester united adalah impian terbesar saya ujar bagus kahfi dikutip warta kota baca juga jack brown dan timnas u indonesia yang belum berakhir bagus sudah mengenal klub berjuluk setan merah sejak belia awal saya menyukai manchester united sejak saat itu mereka menjuarai liga champions setelah mengalahkan chelsea kata dia melanjutkan mimpi terbesarnya mulai terasa dekat namun masih terlihat jauh ketika bagus kahfi bergabung dalam garuda select ii saat itu dia bisa merasakan gaya main tim tim asal inggris secara langsung dia juga mampu tampil produktif dengan mencetak gol ke gawang klub klub inggris saat itu baca juga sebut kurnia meiga ini alasan andritany enggan gunakan nomor di timnas indonesia sebanyak di antaranya dicatatkan pemain tahun hanya dalam lima laga jadi saya sudah tau bagamaina standar permainan di sana dan apa apa saja yang mesti saya siapkan memang tak mudah namun saya akan berjuang meraih impian saya ujarnya \n",
            "\n",
            "Nilai Similaritas: 0.07670268020458844\n",
            "kompas com keberadaan pelatih mauricio pochettino menggantikan thomas tuchel di paris saint germain psg memberi harapan baru kedatangan pochettino menyeret nama megabintang barcelona lionel messi ke dalam daftar perekrutan anyar psg laporan le parisien menyebutkan messi menjadi incaran utama ketika jendela bursa transfer mulai terbuka pada januari mendatang status la pulga julukan messi akan berubah menjadi free transfer baca juga selain messi the next iniesta juga bakal berstatus free transfer hal itu mengingat kontrak messi dengan barcelona akan berakhir pada juni dan kedua pihak belum ada tanda tanda perpanjangan kontrak messi juga sudah jauh jauh hari menyiapkan kepergiannya dari camp nou momen kekalahan dari bayern muenchen menjadi sumber keinginan kuat messi hengkang dari barcelona mengutip mundo deportivo pochettino memasukkan nama la pulga sebagai rekrutan pertamanya baca juga dari messi hingga pogba ini transfer musim dingin yang dapat terwujud keberadaan neymar jr di psg bisa juga menjadi pancingan sang pemain asal argentina itu berlabuh ke kota paris psg juga diprediksi mampu menarik perhatian messi dari segi finansial paris saint germain terkenal dengan sangat royal kepada pemain pemainnya yang memberikan gaji tinggi di sisi lain pochettino dibenak messi tidak begitu asing pasalnya messi pernah merekomendasikan mauricio pochettino ke dewan barcelona untuk menggantikan ernesto valverde januari baca juga pelatih terbaik dalam karier lionel messi di barcelona siapa saja andai kepindahan ini terjadi tentu akan menjadi sejarah dalam dunia sepak bola sebab status megabintang yang ada dalam diri lionel messi lahir berkat dan bersama barcelona \n",
            "\n",
            "Nilai Similaritas: 0.04776896008425335\n",
            "kompas com gelandang asal portugal milik manchester united bruno fernandes tercatat sebagai pemain andalan kedua oleh ole gunnar solskjaer melansir laman resmi man united pemain andalan pertama bagi solskjaer di klub berjuluk setan merah itu adalah bek harry maguire urutan tersebut berdasarkan jatah main yang didapat dalam kurun waktu satu tahun terakhir di tingkat dunia bruno fernandes dan harry maguire masuk dalam lima pesepak bola paling sibuk harry maguire mencatatkan menit main sebanyak menit jumlah tersebut menjadi durasi paling banyak atau menempati peringkat pertama dunia baca juga alasan solskjaer cadangkan cavani saat man united tertahan leicester sementara bruno fernandes berada di urutan keempat dengan catatan waktu main selama menit adapun posisi kedua di tingkat dunia ditempati oleh ruben dias man city yakni selama menit kemudian di posisi ketiga diisi oleh megabintang barcelona lionel messi menit sementara di urutan nomor lima ada pemain liga brasil bruno pacheco dari klub ceara dengan torehan waktu menit baca juga bruno fernandes bikin solskjaer ingin jambak rambut sendiri melihat nama bruno fernandes di urutan keempat dia tak senang bruno fernandes bahkan menantang pelatih man united ole gunnar solskjaer agar selalu memainkannya saya tak senang saya harus bilang kepada pelatih saya ingin berada di posisi pertama kata gelandang serang man united tersebut tentu ini sangat penting untuk bermain semakin banyak laga kian banyak pula menit main semakin percaya diri juga anda nantinya begitulah prinsipnya jelas dia dikutip laman resmi klub baca juga rating pemain man united vs leicester rapor ciamik bruno fernandes bruno fernandes pribadi kian percaya diri dengan posisinya di man united ini sangat penting bagi saya karena ini adalah bagian dari cara saya menenangkan diri saya merasakan kepercayaan dari pelatih saya membutuhkan anda dan saya ingin anda bermain saya akan memberi anda kesempatan ketika anda melihat menit menit yang saya miliki musim ini itu mempercayai saya dan saya harus memberikan sesuatu kepada klub tandasnya \n",
            "\n",
            "Nilai Similaritas: 0.029622581665200886\n",
            " kompas com bintang muda sepak bola indonesia amiruddin bagus kahfi al fikri masih tidak menyangka dirinya akan bermain di eropa bagus kahfi dipastikan berkarier di eropa setelah barito putera resmi melepasnya secara cuma cuma alias gratis ke tim asal belanda fc utrecht pada awal desember bagus kahfi yang kini masih berada di indonesia diperkirakan akan berangkat ke belanda pada awal setelah seluruh berkas transfer selesai di fc utrecht bagus kahfi mendapat kontrak selama bulan sampai bagus kahfi nantinya akan bergabung dengan tim muda fc utrecht yang kini bermain di kasta kedua liga belanda jong utrecht baca juga bela negara lewat sepak bola bagus kahfi terinspirasi john f kennedy menanggapi fakta itu bagus kahfi mengaku masih tidak menyangka dirinya akan melanjutkan karier di eropa saat masih berusia muda pastinya tuhan yang tahu jalan hambanya masing masing jika diingat saya dulu hanyalah anak kecil yang bermain bola dengan riang kata bagus kahfi dikutip dari situs warta kota sewaktu kecil saya setelah bermain bola sering dimarahi karena pulang terlambat saat maghrib atau dengan pakaian yang kotor tutur bagus kahfi menambahkan fc utrecht adalah fokus saya saat ini saya ingin berjuang di sana dan membuktikan diri ucap pemain asal magelang jawa tengah itu setelah dipastikan bergabung dengan fc utrecht bagus kahfi langsung memasang target terbaru baca juga dua pemain timnas indonesia pendahulu bagus kahfi di fc utrecht bagus kahfi berharap suatu saat bisa bermain untuk raksasa inggris manchester united yang merupakan tim idolanya bagus kahfi optimistis bisa mewujudkan mimpi itu karena sudah tahu bagaimana kualitas dan standar pemain muda di inggris pengetahuan itu didapatkan bagus kahfi setelah mengikuti pemusatan latihan di inggris bersama garuda select dalam dua tahun terakhir bermain di man united adalah impian terbesar saya saya sudah mengidolakan man united ketika mereka menjadi juara liga champions pada kata bagus kahfi saya tahu memang tidak mudah mewujudkan mimpi itu namun saya akan berjuang untuk mewujudkannya ucap bagus kahfi baca juga pesan sang ayah kepada bagus kahfi selama berkarier di fc utrecht nama amiruddin bagus kahfi mulai dikenal publik sepak bola indonesia setelah menjadi top skor piala aff u edisi bagus kahfi pada turnamen tersebut tampil gemilang dengan koleksi gol dari tujuh laga torehan itu tidak hanya membuat bagus kahfi menjadi top skor melainkan juga turut membantu timnas u indonesia meraih gelar juara piala aff u setelah tampil gemilang bersama timnas u indonesia bagus kahfi kemudian dipanggil untuk mengikuti program pembinaan garuda select dari situlah kesempatan bagus kahfi melanjutkan karier di eropa mulai terbuka kepastian bagus kahfi bergabung ke fc uterecht tidak lepas dari peran legenda chelsea yang kini menjadi direktur teknik garuda select dennis wise sebab dennis wise adalah orang yang memberi jaminan kepada fc utrecht bahwa bagus kahfi adalah pemain bertalenta dan layak dipertimbangkan sebelum resmi memberi kontrak fc utrecht juga sempat membantu pemulihan cedera pergelangan kaki yang didapat bagus kahfi awal tahun ini rafzanjani simanjorang \n",
            "\n",
            "Nilai Similaritas: 0.01527468779656492\n",
            " barcelona kompas com kapten barcelona lionel messi masih sakit hati saat mengingat transfer luis suarez ke atletico madrid awal musim ini secara spesifik lionel messi mengkritik cara barcelona memperlakukan luis suarez luis suarez terpaksa pindah ke atletico madrid setelah dirinya tidak masuk ke dalam rencana pelatih anyar barcelona ronald koeman pada awal kedatangannya ronald koeman secara terbuka memang sudah menyatakan ingin melakukan peremajaan skuad di barcelona tidak main main ronald koeman yang terkenal tegas langsung mendepak beberapa pemain senior barcelona beberapa hari setelah diresmikan baca juga luis suarez ungkap hal yang bisa bikin lionel messi bertahan di barcelona luis suarez yang menjadi salah satu korban perombakan skuad ala ronald koeman bisa dikatakan didepak barcelona secara tidak hormat sebab luis suarez yang masih memiliki sisa kontrak satu tahun di barcelona disingkirkan oleh ronald koeman melalui telepon luis suarez yang tidak terima dikabarkan sempat ingin membawa perselisihannya dengan ronald koeman ke jalur hukum perang dingin itu kemudian membuat luis suarez dicoret dari skuad pramusim barcelona dan harus berlatih sendiri ketika dirinya sedang mencari tim baru drama tersebut pada akhirnya selesai dengan keputusan luis suarez menerima kontrak dua tahun dari atletico madrid mengingat transfer luis suarez lionel messi mengaku masih sakit hati hingga saat ini baca juga gol lionel messi lampaui rekor pele santos tak terima lionel messi geram karena luis suarez yang merupakan sahabatnya dan juga legenda barcelona didepak secara tidak hormat messi juga heran karena barcelona melepas luis suarez ke tim rival saya sudah berencana meninggalkan barcelona sebelum luis suarez didepak kata lionel messi yang juga pernah ingin hengkang pada awal musim ini namun apa yang terjadi dengan luis suarez itu sangat gila ucap lionel messi menambahkan saya tidak suka dengan cara luis suarez meninggalkan barcelona saya pikir dia tidak pantas pergi dengan cara seperti itu tutur lionel messi tidak hanya itu barcelona juga melepas luis suarez secara cuma cuma ke tim pesaing kata lionel messi menambahkan baca juga curhat lionel messi kadang saya ingin menjadi orang yang tak dikenal dalam wawancara dengan la sexta lionel messi juga menjelaskan perihal terkait masa depannya lionel messi memastikan akan bertahan di barcelona sampai kontraknya berakhir pada juni meski demikian lionel messi tidak bisa menjamin dirinya akan tetap berseragam barcelona musim depan lionel messi mengaku baru akan menentukan masa depannya akhir musim ini setelah berbicara dengan presiden terpilih barcelona sebagai informasi barcelona akan menggelar pemilu presiden klub pada januari untuk mencari pengganti josep maria bartomeu yang mengundurkan diri akhir oktober terkini paris saint germain psg dikabarkan sedang memantau situasi lionel messi di barcelona rumor itu semakin kuat setelah mauricio pochettino dikabarkan akan menjadi pelatih anyar psg menggantikan thomas tuchel yang dipecat sebelumnya pemain termahal dunia milik psg yang juga merupakan sahabat lionel messi neymar jr juga sudah melempar kode neymar jr secara terbuka menyatakan ingin bermain bersama lionel messi sekali lagi banyak kalangan menilai pernyataan neymar jr itu adalah cerminan dari rencana transfer psg musim depan \n",
            "\n",
            "----------------------------------------------------------------------------------------------------\n"
          ],
          "name": "stdout"
        }
      ]
    },
    {
      "cell_type": "code",
      "metadata": {
        "colab": {
          "base_uri": "https://localhost:8080/",
          "height": 137
        },
        "id": "VbxqrcGt_MlR",
        "outputId": "173629d0-2e26-4368-bea2-796c5f1c82b7"
      },
      "source": [
        "from newspaper import Article\n",
        "url = 'https://www.kompas.com/sports/read/2020/12/28/08000028/cristiano-ronaldo-pemain-terbaik-abad-21-kalahkan-messi-dan-mo-salah?_ga=2.156083451.176857041.1609131003-1130194177.1573745978'\n",
        "article = Article(url)\n",
        "article.download()\n",
        "article.parse()\n",
        "article.text"
      ],
      "execution_count": null,
      "outputs": [
        {
          "output_type": "execute_result",
          "data": {
            "application/vnd.google.colaboratory.intrinsic+json": {
              "type": "string"
            },
            "text/plain": [
              "'KOMPAS.com - Bintang Juventus, Cristiano Ronaldo, dinobatkan sebagai pemain terbaik abad ke-21 dalam acara Globe Soccer Awards 2020.\\n\\nMalam penganugerahaan diadakan di Dubai, Uni Emirat Arab, Senin (28/12/2020) dini hari WIB.\\n\\nCristiano Ronaldo berhak atas penghargaan tersebut setelah mengalahkan Lionel Messi (Barcelona) dan Mohamed Salah (Liverpool).\\n\\nPemain asal Portugal itu diakui sebagai pemain terbaik periode 2001-2020 berkat serangkaian prestasinya baik bersama klub maupun tim nasional.\\n\\nBaca juga: Sebut Milan seperti Rumah, Sinyal Ibrahimovic Bertahan Lebih Lama di San Siro?\\n\\n???? Congratulations to ???????? CRISTIANO RONALDO on winning the ?Globe Soccer Award for the? PLAYER OF THE CENTURY 2001-2020? ???? #CristianoRonaldo #CR7 #Bvlgari #GlobeSoccer pic.twitter.com/Y8Bg2ZfapO\\n\\nDalam rentang waktu tersebut, Ronaldo meraih banyak trofi termasuk lima Liga Champions, tiga Liga Inggris, dua Liga Spanyol, dua Liga Italia, serta juara Euro 2016 dan UEFA Nations League 2019 bersama timnas Portugal.\\n\\nCristiano Ronaldo mengaku senang dan termotivasi setelah menerima penghargaan tersebut.\\n\\n\"Ini pencapaian yang luar biasa dan memberi saya motivasi untuk terus maju,\" kata Cristiano Ronaldo dilansir dari Marca.\\n\\n\"Dinobatkan sebagai yang terbaik adalah suatu kehormatan besar. Saya berharap situasi pandemi ini berakhir tahun depan dan kita bisa lebih bersenang-senang, terima kasih banyak.\"\\n\\n\"Saya berharap masih bisa bermain selama beberapa tahun mendatang,\" ujarnya.\\n\\nCouldn’t be happier with tonight’s award! As I’m about to celebrate my 20th year as a professional footballer, Globe Soccer Player Of The Century is a recognition that I receive with so much joy and pride!@Globe_Soccer #globesoccer pic.twitter.com/sAIl3V8ezz'"
            ]
          },
          "metadata": {
            "tags": []
          },
          "execution_count": 9
        }
      ]
    },
    {
      "cell_type": "code",
      "metadata": {
        "colab": {
          "base_uri": "https://localhost:8080/"
        },
        "id": "BTSLzgogBfV-",
        "outputId": "98ffc308-8b6e-46f3-bd92-488239c090b4"
      },
      "source": [
        "article.authors"
      ],
      "execution_count": null,
      "outputs": [
        {
          "output_type": "execute_result",
          "data": {
            "text/plain": [
              "['Kompas Cyber Media', 'Farahdilla Puspa', 'Afp', 'Marco Bertorello']"
            ]
          },
          "metadata": {
            "tags": []
          },
          "execution_count": 10
        }
      ]
    },
    {
      "cell_type": "code",
      "metadata": {
        "colab": {
          "base_uri": "https://localhost:8080/"
        },
        "id": "w9jBnuGmB0op",
        "outputId": "de787301-6671-4313-8bee-2f0de2d12915"
      },
      "source": [
        "article.publish_date"
      ],
      "execution_count": null,
      "outputs": [
        {
          "output_type": "execute_result",
          "data": {
            "text/plain": [
              "datetime.datetime(2020, 12, 28, 0, 0)"
            ]
          },
          "metadata": {
            "tags": []
          },
          "execution_count": 11
        }
      ]
    },
    {
      "cell_type": "code",
      "metadata": {
        "colab": {
          "base_uri": "https://localhost:8080/",
          "height": 86
        },
        "id": "a_r0VsNG_6Od",
        "outputId": "272a8b23-2bfe-47cb-b194-03fde422b891"
      },
      "source": [
        "article.nlp()\n",
        "article.keywords\n",
        "article.summary"
      ],
      "execution_count": null,
      "outputs": [
        {
          "output_type": "execute_result",
          "data": {
            "application/vnd.google.colaboratory.intrinsic+json": {
              "type": "string"
            },
            "text/plain": [
              "'KOMPAS.com - Bintang Juventus, Cristiano Ronaldo, dinobatkan sebagai pemain terbaik abad ke-21 dalam acara Globe Soccer Awards 2020.\\nCristiano Ronaldo berhak atas penghargaan tersebut setelah mengalahkan Lionel Messi (Barcelona) dan Mohamed Salah (Liverpool).\\nCRISTIANO RONALDO on winning the ?Globe Soccer Award for the?\\n\"Ini pencapaian yang luar biasa dan memberi saya motivasi untuk terus maju,\" kata Cristiano Ronaldo dilansir dari Marca.\\n\"Dinobatkan sebagai yang terbaik adalah suatu kehormatan besar.'"
            ]
          },
          "metadata": {
            "tags": []
          },
          "execution_count": 13
        }
      ]
    },
    {
      "cell_type": "code",
      "metadata": {
        "id": "8etHB50cyFNM"
      },
      "source": [
        ""
      ],
      "execution_count": null,
      "outputs": []
    },
    {
      "cell_type": "code",
      "metadata": {
        "colab": {
          "base_uri": "https://localhost:8080/"
        },
        "id": "l0ZPzUdnH32W",
        "outputId": "f8850573-d6d4-4cfe-e29c-da19aa2ea1e0"
      },
      "source": [
        "pip install autocorrect"
      ],
      "execution_count": null,
      "outputs": [
        {
          "output_type": "stream",
          "text": [
            "Collecting autocorrect\n",
            "\u001b[?25l  Downloading https://files.pythonhosted.org/packages/a0/71/eb8c1f83439dfe6cbe1edb03be1f1110b242503b61950e7c292dd557c23e/autocorrect-2.2.2.tar.gz (621kB)\n",
            "\r\u001b[K     |▌                               | 10kB 16.5MB/s eta 0:00:01\r\u001b[K     |█                               | 20kB 13.2MB/s eta 0:00:01\r\u001b[K     |█▋                              | 30kB 8.7MB/s eta 0:00:01\r\u001b[K     |██                              | 40kB 8.2MB/s eta 0:00:01\r\u001b[K     |██▋                             | 51kB 5.6MB/s eta 0:00:01\r\u001b[K     |███▏                            | 61kB 5.6MB/s eta 0:00:01\r\u001b[K     |███▊                            | 71kB 6.2MB/s eta 0:00:01\r\u001b[K     |████▏                           | 81kB 6.2MB/s eta 0:00:01\r\u001b[K     |████▊                           | 92kB 6.6MB/s eta 0:00:01\r\u001b[K     |█████▎                          | 102kB 5.3MB/s eta 0:00:01\r\u001b[K     |█████▉                          | 112kB 5.3MB/s eta 0:00:01\r\u001b[K     |██████▎                         | 122kB 5.3MB/s eta 0:00:01\r\u001b[K     |██████▉                         | 133kB 5.3MB/s eta 0:00:01\r\u001b[K     |███████▍                        | 143kB 5.3MB/s eta 0:00:01\r\u001b[K     |████████                        | 153kB 5.3MB/s eta 0:00:01\r\u001b[K     |████████▍                       | 163kB 5.3MB/s eta 0:00:01\r\u001b[K     |█████████                       | 174kB 5.3MB/s eta 0:00:01\r\u001b[K     |█████████▌                      | 184kB 5.3MB/s eta 0:00:01\r\u001b[K     |██████████                      | 194kB 5.3MB/s eta 0:00:01\r\u001b[K     |██████████▌                     | 204kB 5.3MB/s eta 0:00:01\r\u001b[K     |███████████                     | 215kB 5.3MB/s eta 0:00:01\r\u001b[K     |███████████▋                    | 225kB 5.3MB/s eta 0:00:01\r\u001b[K     |████████████▏                   | 235kB 5.3MB/s eta 0:00:01\r\u001b[K     |████████████▋                   | 245kB 5.3MB/s eta 0:00:01\r\u001b[K     |█████████████▏                  | 256kB 5.3MB/s eta 0:00:01\r\u001b[K     |█████████████▊                  | 266kB 5.3MB/s eta 0:00:01\r\u001b[K     |██████████████▎                 | 276kB 5.3MB/s eta 0:00:01\r\u001b[K     |██████████████▊                 | 286kB 5.3MB/s eta 0:00:01\r\u001b[K     |███████████████▎                | 296kB 5.3MB/s eta 0:00:01\r\u001b[K     |███████████████▉                | 307kB 5.3MB/s eta 0:00:01\r\u001b[K     |████████████████▍               | 317kB 5.3MB/s eta 0:00:01\r\u001b[K     |████████████████▉               | 327kB 5.3MB/s eta 0:00:01\r\u001b[K     |█████████████████▍              | 337kB 5.3MB/s eta 0:00:01\r\u001b[K     |██████████████████              | 348kB 5.3MB/s eta 0:00:01\r\u001b[K     |██████████████████▌             | 358kB 5.3MB/s eta 0:00:01\r\u001b[K     |███████████████████             | 368kB 5.3MB/s eta 0:00:01\r\u001b[K     |███████████████████▌            | 378kB 5.3MB/s eta 0:00:01\r\u001b[K     |████████████████████            | 389kB 5.3MB/s eta 0:00:01\r\u001b[K     |████████████████████▌           | 399kB 5.3MB/s eta 0:00:01\r\u001b[K     |█████████████████████           | 409kB 5.3MB/s eta 0:00:01\r\u001b[K     |█████████████████████▋          | 419kB 5.3MB/s eta 0:00:01\r\u001b[K     |██████████████████████▏         | 430kB 5.3MB/s eta 0:00:01\r\u001b[K     |██████████████████████▋         | 440kB 5.3MB/s eta 0:00:01\r\u001b[K     |███████████████████████▏        | 450kB 5.3MB/s eta 0:00:01\r\u001b[K     |███████████████████████▊        | 460kB 5.3MB/s eta 0:00:01\r\u001b[K     |████████████████████████▎       | 471kB 5.3MB/s eta 0:00:01\r\u001b[K     |████████████████████████▊       | 481kB 5.3MB/s eta 0:00:01\r\u001b[K     |█████████████████████████▎      | 491kB 5.3MB/s eta 0:00:01\r\u001b[K     |█████████████████████████▉      | 501kB 5.3MB/s eta 0:00:01\r\u001b[K     |██████████████████████████▍     | 512kB 5.3MB/s eta 0:00:01\r\u001b[K     |██████████████████████████▉     | 522kB 5.3MB/s eta 0:00:01\r\u001b[K     |███████████████████████████▍    | 532kB 5.3MB/s eta 0:00:01\r\u001b[K     |████████████████████████████    | 542kB 5.3MB/s eta 0:00:01\r\u001b[K     |████████████████████████████▌   | 552kB 5.3MB/s eta 0:00:01\r\u001b[K     |█████████████████████████████   | 563kB 5.3MB/s eta 0:00:01\r\u001b[K     |█████████████████████████████▌  | 573kB 5.3MB/s eta 0:00:01\r\u001b[K     |██████████████████████████████  | 583kB 5.3MB/s eta 0:00:01\r\u001b[K     |██████████████████████████████▋ | 593kB 5.3MB/s eta 0:00:01\r\u001b[K     |███████████████████████████████ | 604kB 5.3MB/s eta 0:00:01\r\u001b[K     |███████████████████████████████▋| 614kB 5.3MB/s eta 0:00:01\r\u001b[K     |████████████████████████████████| 624kB 5.3MB/s \n",
            "\u001b[?25hBuilding wheels for collected packages: autocorrect\n",
            "  Building wheel for autocorrect (setup.py) ... \u001b[?25l\u001b[?25hdone\n",
            "  Created wheel for autocorrect: filename=autocorrect-2.2.2-cp36-none-any.whl size=621492 sha256=c51813acb64452f7a2c1e7a09406f952a1b45112a96e30e290dedfe3abd6cf3d\n",
            "  Stored in directory: /root/.cache/pip/wheels/b4/0b/7d/98268d64c8697425f712c897265394486542141bbe4de319d6\n",
            "Successfully built autocorrect\n",
            "Installing collected packages: autocorrect\n",
            "Successfully installed autocorrect-2.2.2\n"
          ],
          "name": "stdout"
        }
      ]
    },
    {
      "cell_type": "code",
      "metadata": {
        "colab": {
          "base_uri": "https://localhost:8080/"
        },
        "id": "BDzvAwG3exkW",
        "outputId": "5bda0803-8321-43fb-f41f-f9d577e279dd"
      },
      "source": [
        "pip install pyspellchecker"
      ],
      "execution_count": null,
      "outputs": [
        {
          "output_type": "stream",
          "text": [
            "Collecting pyspellchecker\n",
            "\u001b[?25l  Downloading https://files.pythonhosted.org/packages/f1/96/827c132397d0eb5731c1eda05dbfb019ede064ca8c7d0f329160ce0a4acd/pyspellchecker-0.5.5-py2.py3-none-any.whl (1.9MB)\n",
            "\u001b[K     |████████████████████████████████| 1.9MB 4.9MB/s \n",
            "\u001b[?25hInstalling collected packages: pyspellchecker\n",
            "Successfully installed pyspellchecker-0.5.5\n"
          ],
          "name": "stdout"
        }
      ]
    },
    {
      "cell_type": "code",
      "metadata": {
        "id": "N59Din4HIl7I"
      },
      "source": [
        "from spellchecker import SpellChecker\n",
        "\n",
        "spell = SpellChecker()\n",
        "words = spell.split_words(\"Bintang Juventus, Cristiano Ronaldo, dinbatkan sebgi pemain terbaik abad ke-21 dalam acara Globe Soccer Awards 2020.\\nCristiano Ronaldo berhak atas penghargaan tersebut setelah mengalahkan Lionel Messi (Barcelona) dan Mohamed Salah (Liverpool).\\nCRISTIANO RONALDO on winning the ?Globe Soccer Award for the?\\n Ini pencapaian yang luar biasa dan memberi saya motivasi untuk terus maju, kata Cristiano Ronaldo dilansir dari Marca.\\n Dinobatkan sebagai yang terbaik adalah suatu kehormatan besar.\")\n",
        "test = [spell.correction(word) for word in words]"
      ],
      "execution_count": null,
      "outputs": []
    }
  ]
}