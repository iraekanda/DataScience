{
  "nbformat": 4,
  "nbformat_minor": 0,
  "metadata": {
    "colab": {
      "name": "nlp-search-engine.ipynb",
      "provenance": []
    },
    "kernelspec": {
      "name": "python3",
      "display_name": "Python 3"
    }
  },
  "cells": [
    {
      "cell_type": "code",
      "metadata": {
        "colab": {
          "base_uri": "https://localhost:8080/"
        },
        "id": "fMYNsCd9po8Q",
        "outputId": "481b5eaf-5dab-4617-f498-ace4517ea1d6"
      },
      "source": [
        "import re\n",
        "import string\n",
        "import requests\n",
        "import numpy as np\n",
        "import pandas as pd\n",
        "from bs4 import BeautifulSoup\n",
        "import nltk\n",
        "nltk.download('stopwords')\n",
        "nltk.download('punkt')\n",
        "from nltk.tokenize import word_tokenize\n",
        "from nltk.corpus import stopwords\n",
        "from nltk.stem import PorterStemmer\n",
        "from sklearn.feature_extraction.text import TfidfVectorizer"
      ],
      "execution_count": null,
      "outputs": [
        {
          "output_type": "stream",
          "text": [
            "[nltk_data] Downloading package stopwords to /root/nltk_data...\n",
            "[nltk_data]   Package stopwords is already up-to-date!\n",
            "[nltk_data] Downloading package punkt to /root/nltk_data...\n",
            "[nltk_data]   Package punkt is already up-to-date!\n"
          ],
          "name": "stdout"
        }
      ]
    },
    {
      "cell_type": "markdown",
      "metadata": {
        "id": "ETnI-8rGPvKQ"
      },
      "source": [
        "## PART I: Preparing the documents/webpages"
      ]
    },
    {
      "cell_type": "code",
      "metadata": {
        "id": "GcLiWdij1kYR"
      },
      "source": [
        "urls = ['https://travel.kompas.com/',\n",
        "        'https://www.kompas.com/homey',\n",
        "        'https://properti.kompas.com/',\n",
        "        'https://lifestyle.kompas.com/',\n",
        "        'https://www.kompas.com/food',\n",
        "        'https://money.kompas.com/',\n",
        "        'https://tekno.kompas.com/',\n",
        "        'https://bola.kompas.com/',\n",
        "        'https://edukasi.kompas.com/',\n",
        "        'https://health.kompas.com/']\n",
        "\n",
        "url = []\n",
        "for url in urls:\n",
        "  response = requests.get(url)\n",
        "  soup = BeautifulSoup(response.content, \"html.parser\")"
      ],
      "execution_count": null,
      "outputs": []
    },
    {
      "cell_type": "code",
      "metadata": {
        "colab": {
          "base_uri": "https://localhost:8080/"
        },
        "id": "q-LlqO4yQHT0",
        "outputId": "b4d76a4f-36e8-4781-b8a8-bed2a996d98e"
      },
      "source": [
        "link = []\n",
        "for i in soup.find('div', {'class':'most__wrap'}).find_all('a'):\n",
        "    i['href'] = i['href'] + '?page=all'\n",
        "    link.append(i['href'])\n",
        "\n",
        "print(link)"
      ],
      "execution_count": null,
      "outputs": [
        {
          "output_type": "stream",
          "text": [
            "['https://health.kompas.com/read/2021/01/14/100200768/15-kondisi-orang-yang-tak-bisa-disuntik-vaksin-covid-19?page=all', 'https://health.kompas.com/read/2021/01/12/200800868/10-penyakit-yang-ditandai-dengan-kelelahan?page=all', 'https://health.kompas.com/read/2021/01/12/080400068/12-makanan-yang-mengandung-potasium-tinggi?page=all', 'https://health.kompas.com/read/2021/01/13/060600668/minum-kopi-sebelum-olahraga-bagaimana-baiknya-?page=all', 'https://health.kompas.com/read/2021/01/12/060600368/12-gejala-hipotiroid-yang-perlu-diwaspadai?page=all', 'https://health.kompas.com/read/2021/01/13/080700168/kapan-harus-ke-dokter-ketika-sakit-tenggorokan-?page=all', 'https://health.kompas.com/read/2021/01/14/140700468/3-reaksi-yang-mungkin-terjadi-setelah-divaksin-covid-19?page=all', 'https://health.kompas.com/read/2021/01/12/100800968/10-dampak-buruk-konsumsi-karbohidrat-berlebihan?page=all', 'https://health.kompas.com/read/2021/01/12/120200468/7-gejala-anemia-pada-wanita?page=all', 'https://health.kompas.com/read/2021/01/12/140400268/apa-penyebab-hernia-?page=all']\n"
          ],
          "name": "stdout"
        }
      ]
    },
    {
      "cell_type": "code",
      "metadata": {
        "id": "z0geBvAt5OQC"
      },
      "source": [
        "# Retrieve Paragraphs\n",
        "webpages = []\n",
        "for i in link:\n",
        "    r = requests.get(i)\n",
        "    soup = BeautifulSoup(r.content, 'html.parser')\n",
        "    content = []\n",
        "    for i in soup.find('div', {'class':'read__content'}).find_all('p'):\n",
        "        content.append(i.text)\n",
        "\n",
        "    webpages.append(' '.join(content))"
      ],
      "execution_count": null,
      "outputs": []
    },
    {
      "cell_type": "markdown",
      "metadata": {
        "id": "UrT1gLpyQsem"
      },
      "source": [
        "## PART II: Preprocessing the documents/webpages"
      ]
    },
    {
      "cell_type": "code",
      "metadata": {
        "id": "_4l5dooGp4Z-"
      },
      "source": [
        "steam = PorterStemmer()"
      ],
      "execution_count": null,
      "outputs": []
    },
    {
      "cell_type": "code",
      "metadata": {
        "id": "YAvLHXcsWWvX"
      },
      "source": [
        "word = []\n",
        "for d in webpages:\n",
        "    document_test = word_tokenize(d) #tokenizing\n",
        "    lowercase_sentence = re.sub(r'[^\\x00-\\x7F]+', ' ', d)  \n",
        "    document_test = lowercase_sentence.lower() #case folding\n",
        "    document_test = re.sub(r'[0-9]', '', document_test)\n",
        "    filtered_sentence = re.compile(r'\\b(' + r'|'.join(stopwords.words('english')) + r')\\b\\s*') #stopword\n",
        "    document_test = filtered_sentence.sub('', document_test)\n",
        "    document_test = document_test.split()\n",
        "    document_test = \" \".join([steam.stem(word) for word in document_test])#stem\n",
        "      \n",
        "    word.append(document_test)"
      ],
      "execution_count": null,
      "outputs": []
    },
    {
      "cell_type": "markdown",
      "metadata": {
        "id": "B2fhyxYakWln"
      },
      "source": [
        "# PART III: Indexing"
      ]
    },
    {
      "cell_type": "code",
      "metadata": {
        "id": "UMf76JakqH-d"
      },
      "source": [
        "X = TfidfVectorizer()\n",
        "Y = X.fit_transform(alldoclist)"
      ],
      "execution_count": null,
      "outputs": []
    },
    {
      "cell_type": "code",
      "metadata": {
        "colab": {
          "base_uri": "https://localhost:8080/"
        },
        "id": "G6g9mdOroNOT",
        "outputId": "c98a6354-fc70-4fa7-8a77-88b65874419e"
      },
      "source": [
        "print(Y)"
      ],
      "execution_count": null,
      "outputs": [
        {
          "output_type": "stream",
          "text": [
            "  (0, 514)\t0.040587517997996085\n",
            "  (0, 988)\t0.030186133947862858\n",
            "  (0, 739)\t0.040587517997996085\n",
            "  (0, 1007)\t0.040587517997996085\n",
            "  (0, 28)\t0.040587517997996085\n",
            "  (0, 595)\t0.034503098373069\n",
            "  (0, 346)\t0.034503098373069\n",
            "  (0, 10)\t0.021788525338776343\n",
            "  (0, 680)\t0.018017294698008706\n",
            "  (0, 518)\t0.016436252146278453\n",
            "  (0, 639)\t0.040587517997996085\n",
            "  (0, 1040)\t0.030186133947862858\n",
            "  (0, 1398)\t0.040587517997996085\n",
            "  (0, 1100)\t0.040587517997996085\n",
            "  (0, 74)\t0.02410171432293578\n",
            "  (0, 344)\t0.040587517997996085\n",
            "  (0, 913)\t0.040587517997996085\n",
            "  (0, 7)\t0.030186133947862858\n",
            "  (0, 141)\t0.040587517997996085\n",
            "  (0, 1321)\t0.040587517997996085\n",
            "  (0, 334)\t0.040587517997996085\n",
            "  (0, 679)\t0.016436252146278453\n",
            "  (0, 1239)\t0.034503098373069\n",
            "  (0, 1104)\t0.026837636196411673\n",
            "  (0, 87)\t0.034503098373069\n",
            "  :\t:\n",
            "  (9, 1363)\t0.0160920583200353\n",
            "  (9, 3)\t0.029383563883082164\n",
            "  (9, 61)\t0.19099316524003407\n",
            "  (9, 244)\t0.11753425553232866\n",
            "  (9, 990)\t0.019370434717604745\n",
            "  (9, 1401)\t0.029554001947785468\n",
            "  (9, 355)\t0.019370434717604745\n",
            "  (9, 1084)\t0.08046029160017648\n",
            "  (9, 240)\t0.029383563883082164\n",
            "  (9, 647)\t0.03874086943520949\n",
            "  (9, 261)\t0.014691781941541082\n",
            "  (9, 434)\t0.0321841166400706\n",
            "  (9, 92)\t0.08046029160017648\n",
            "  (9, 2)\t0.042664497640789084\n",
            "  (9, 1233)\t0.029554001947785468\n",
            "  (9, 1448)\t0.029383563883082164\n",
            "  (9, 528)\t0.10284247359078758\n",
            "  (9, 64)\t0.05876712776616433\n",
            "  (9, 243)\t0.1616096013569519\n",
            "  (9, 65)\t0.019370434717604745\n",
            "  (9, 488)\t0.029383563883082164\n",
            "  (9, 268)\t0.1616096013569519\n",
            "  (9, 1510)\t0.10284247359078758\n",
            "  (9, 228)\t0.014691781941541082\n",
            "  (9, 640)\t0.014691781941541082\n"
          ],
          "name": "stdout"
        }
      ]
    },
    {
      "cell_type": "code",
      "metadata": {
        "colab": {
          "base_uri": "https://localhost:8080/"
        },
        "id": "qsFRTJZJo1AQ",
        "outputId": "ca1f0526-0bc4-448d-ba7b-bd522b1efd15"
      },
      "source": [
        "df = pd.DataFrame(Y.T.toarray(), index=X.get_feature_names())\n",
        "print(df)"
      ],
      "execution_count": null,
      "outputs": [
        {
          "output_type": "stream",
          "text": [
            "                0         1         2  ...         7         8         9\n",
            "abnorm   0.000000  0.000000  0.000000  ...  0.000000  0.025068  0.000000\n",
            "academi  0.000000  0.000000  0.000000  ...  0.012049  0.000000  0.000000\n",
            "ada      0.021789  0.014517  0.000000  ...  0.007609  0.000000  0.042664\n",
            "adalah   0.015006  0.129972  0.036656  ...  0.026202  0.027805  0.029384\n",
            "adanya   0.000000  0.027042  0.000000  ...  0.000000  0.000000  0.000000\n",
            "...           ...       ...       ...  ...       ...       ...       ...\n",
            "yang     0.135054  0.249945  0.244375  ...  0.282983  0.120488  0.102842\n",
            "yoghurt  0.000000  0.000000  0.011016  ...  0.000000  0.000000  0.000000\n",
            "yogurt   0.000000  0.000000  0.077114  ...  0.000000  0.000000  0.000000\n",
            "york     0.000000  0.000000  0.000000  ...  0.000000  0.000000  0.000000\n",
            "zat      0.000000  0.032116  0.019625  ...  0.016834  0.119089  0.000000\n",
            "\n",
            "[1515 rows x 10 columns]\n"
          ],
          "name": "stdout"
        }
      ]
    },
    {
      "cell_type": "markdown",
      "metadata": {
        "id": "uC_BKa0Wkttt"
      },
      "source": [
        "# PART IV: Retrieval"
      ]
    },
    {
      "cell_type": "code",
      "metadata": {
        "id": "ZhdnQLAWqyx5"
      },
      "source": [
        "def getSimilarity(results, df):\n",
        "  results = [results]\n",
        "  results_vec = X.transform(results).toarray().reshape(df.shape[0],)\n",
        "  similarity = {}\n",
        "\n",
        "  for i in range(10):\n",
        "    similarity[i] = np.dot(df.loc[:, i].values, results_vec) / np.linalg.norm(df.loc[:, i]) * np.linalg.norm(results_vec)\n",
        "    similarity_sorted = sorted(similarity.items(), key=lambda x: x[1], reverse=True)\n",
        "\n",
        "  print()\n",
        "  print(\"Result :\")\n",
        "\n",
        "  for k, v in similarity_sorted:\n",
        "    if v != 0.0:\n",
        "      print(\"Nilai Similaritas:\", v)\n",
        "      print(alldoclist[k])\n",
        "      print(link[k])\n",
        "      print()"
      ],
      "execution_count": null,
      "outputs": []
    },
    {
      "cell_type": "markdown",
      "metadata": {
        "id": "eGRpVUwblJTB"
      },
      "source": [
        "# PART V: Search"
      ]
    },
    {
      "cell_type": "code",
      "metadata": {
        "colab": {
          "base_uri": "https://localhost:8080/"
        },
        "id": "HPYyz4lMlFdK",
        "outputId": "2509f86c-3381-4353-d5cc-5d570ba8b80f"
      },
      "source": [
        "term = input(\"search : \")\n",
        "getSimilarity(term, df)"
      ],
      "execution_count": null,
      "outputs": [
        {
          "output_type": "stream",
          "text": [
            "search : hidup sehat\n",
            "\n",
            "Result :\n",
            "Nilai Similaritas: 0.03955004340807893\n",
            "kompas.com - anemia adalah salah satu masalah kesehatan rentan menyerang wanita. anemia merupakan kondisi saat tubuh kekurangan sel darah merah yang sehat. sel darah merah bertuga membawa oksigen yang cukup ke jaringan tubuh. saat pasokan oksigen berkurang, fungsi tubuh dapat terganggu. baca juga: waspada, suka makan es batu berisiko rusak gigi dan tanda anemia dilansir dari women health, anemia yang banyak menyerang wanita adalah jeni anemia defisiensi zat besi. penyebab anemia defisiensi zat besi beras dari kekurangan zat besi. wanita rentan terkena anemia ini saat haid. zat besi dibutuhkan untuk memproduksi darah baru untuk menggantikan darah yang terbuang setiap period menstruasi. risiko wanita usia subur terkena anemia meningkat saat period haidnya lebih lama atau darah yang keluar cukup banyak. sejumlah wanita juga rentan mengalami anemia saat mengalami fibroid rahim (pertumbuhan sel abnorm di dalam rahim), atau dari pendarahan akibat penggunaan alat kontrasepsi iud. tak hanya itu, ibu hamil dan ibu melahirkan juga riskan terkena anemia saat asupan zat besinya tidak terpenuhi. baca juga: cara mencegah penyakit anemia berikut beberapa gejala anemia pada wanita yang perlu diwaspadai: dilansir dari healthgrades, ciri-ciri anemia pada wanita salah satunya adalah kelelahan tanpa sebab jelas, dengan kata lain kelelahan tidak beras dari aktivita fisik yang berat. kelelahan pada anemia tak jarang membuat penderitanya susah mengerjakan aktivita sehari-hari. hal yang perlu diingat, kelelahan bukan hanya gejala anemia. depresi, diabetes, kurang bergerak, pola makan tak sehat juga bisa menyebabkan masalah kesehatan ini. gejala anemia pada wanita dapat ditandai dari sakit atau nyeri pada bagian dada. saat kekurangan sel darah merah, jantung haru bekerja ekstra kera agar dapat memindahkan oksigen melalui darah. sakit dada disertai sesak napa muncul saat gejala anemia sudah parah. jika tidak segera diberi pertolongan medis, penderita bisa mengalami kondisi fatal seperti gagal jantung. baca juga: cara membuat ju buah bit untuk atasi anemia shutterstock ilustrasi anemia tanda anemia juga bisa terlihat dari perubahan tampilan kuku, kulit, dan rambut. kekurangan zat besi membuat kuku rapuh, rambut mudah rontok, dan kulit tampak lebih pucat dibandingkan kondisi normal. ciri-ciri anemia pada wanita lainnya yakni bagian mulut terasa sakit dan tak nyaman. kekurangan zat besi dapat menyebabkan lidah sedikit membengkak dan terasa sakit. selain itu, penderita anemia juga cenderung memiliki mulut kere dan rentan mengembangkan luka di sudut mulut. baca juga: anemia pada ibu hamil: penyebab, ciri-ciri, cara mengatasi gejala anemia pada wanita lainnya yakni perubahan nafsu makan. wanita yang sedang anemia biasanya tidak doyan makan. dalam kondisi tidak doyan makan, mereka justru mendambakan makanan yang tak lazim seperti ingin minum es, makan es batu, dll. shutterstock/solar ilustrasi sel darah merah normal dan anemia atau kekurangan sel darah merah.kaki gelisah juga dapat menjadi tanda anemia yang kerap tidak disadari. kekurangan zat besi membuat kaki dan tangan terasa lebih dingin. tak pelak, banyak penderita anemia terus-terusan menggerakkan kakinya atau mengalami sindrom kaki gelisah untuk menghangatkan tubuh. kaki gelisah tak jarang bisa mengganggu aktivita di siang hari, terkadang sampai mengganggu tidur di malam hari. baca juga: anemia aplastik: gejala, penyebab, cara mengatasi ciri-ciri anemia yang kha lainnya yakni sakit kepala. kekurangan sel darah merah untuk mengangkut oksigen ke seluruh tubuh membuat otak turut kekurangan oksigen. dampaknya, pembuluh darah di dekat otak jadi membengkak dan menyebabkan sakit kepala. selain sakit kepala, orang dengan anemia juga jadi sulit konsentrasi dan kehilangan foku berpikir. konsultasikan ke dokter jika muncul gejala anemia pada wanita di atas. dokter dapat meresepkan pengobatan dan merekomendasikan perubahan gaya hidup yang tepat untuk mengatasi anemia.\n",
            "https://health.kompas.com/read/2021/01/12/120200468/7-gejala-anemia-pada-wanita?page=all\n",
            "\n",
            "Nilai Similaritas: 0.023173556483115205\n",
            "kompas.com miner potasium atau kalium mungkin tidak sepopul kalsium maupun magnesium dalam kamu pemenuhan zat gizi sehari-hari. namun pada kenyataannya, setiap orang membutuhkan cukup asupan miner ini, sehingga perlu diasup secara teratur. manfaat potasium di antaranya, yakni: baca juga: makanan yang mengandung kalsium tinggi tak hanya itu, potasium juga dapat membantu menstabilkan tekanan darah, mencegah kerusakan ginjal, stroke, hingga penyakit jantung. mekanism kerja potasium dalam mencegah penyakit stroke adalah dengan menjaga dind pembuluh darah besar (arteri) tetap elasti dan mengoptimalkan fungsinya, sehingga tidak mudah rusak akibat tekanan darah yang tinggi. dengan menurunya risiko stroke, maka aktivita potasium juga akan berperan dalam pencegahan penyakit jantung, yang pada dasarnya akan berhubungan dengan optimalisasi fungsi pembuluh darah. kekurangan kalium atau potasium (hipokalemia) sendiri dapat menimbulkan berbagai masalah kesehatan, seperti: baca juga: buah yang bagu untuk kesehatan otak berdasarkan peraturan menteri kesehatan republik (pmk) indonesia . tahun tentang angka kecukupan gizi yang dianjurkan untuk masyarakat indonesia, nilai kebutuhan kalium atau postasium harian pada setiap orang dapat berbeda, tergantung usia dan faktor risiko. berikut ini angka kecukupan gizi (akg) potasium yang dianjurkan per orang per hari sesuai rentan usia dan faktor risiko: bayi/anak laki-laki perempuan menyusui baca juga: makanan yang mengandung magnesium tinggi potasium atau kalium adalah zat gizi yang masuk ke dalam golongan mineral, sehingga tidak diproduksi secara alami oleh tubuh, melainkan diperoleh melalui konsumsi beberapa jeni makanan. berikut ini ragam makanan yang mengandung potasium tinggi untuk diketahui: . kacang putih shutterstock ilustrasi kacang-kacangan, makanan murah ini dapat menjadi solusi mengatasi sembelit. kacang putih adalah salah satu makanan sumber kalium atau potasium terbaik. melansir health line, kacang putih dapat mengandung mg potasium dalam satu cangkir ( gram), atau persen dari jumlah kebutuhan potasium harian yang disarankan untuk orang dewasa. kacang putih juga mengandung tiamin, folat, besi, magnesium, dan mangan dalam jumlah yang baik. baca juga: makanan yang mengandung protein tinggi selain itu, dalam gram kacang putih dapat juga menyediakan , gram serat, yang hampir persen dari jumlah kebutuhan serat harian. kacang putih bahkan merupakan sumber protein nabati yang sangat baik. kandungan serat dan antioksidan yang tinggi dari kacang di antaranya dapat membantu mengurangi peradangan, meningkatkan kesehatan usu besar dan mengurangi risiko penyakit jantung dan diabetes. terlebih lagi, sebuah tinjauan besar termasuk hampir . orang menemukan bahwa peningkatan asupan potasium sebesar . mg (sekitar persen dari akg) per hari bisa menurunkan risiko stroke sebesar persen. baca juga: makanan yang mengandung kolesterol tinggi . kentang dan ubi jalar kentang tidak selalu dianggap sebagai sayuran padat nutrisi. tapi pada kenyataannya sayuran ini dalah salah satu sumber makanan potasium terbaik yang tersedia. kentang berukuran besar (, on atau gram) dapat menyediakan persen dari nilai kebutuhan potasium harian. sebagian besar potasium kentang ditemukan dalam daging, tetapi sekitar sepertiga dari kandungan potasium terkonsentrasi di bagian kulit. karena alasan ini, mengonsumsi kentang yang tidak dikupa akan lebih baik untuk bisa memperoleh asupan potasium lebih banyak. selain kentang, ubi jalar juga merupakan sumber potasium yang baik. ubi jalar besar (, on atau gram) sanggup menghasilkan persen dari nilai kebutuhan potasium harian. menariknya, tak hanya kaya akan potasium, kentang dan ubi jalar juga terbukti termasuk makanan tinggi vitamin c, vitamin b dan mangan. belum lagi, ubi jalar sanggup menyediakan hampir empat kali lipat dari jumlah kebutuhan vitamin harian hanya dalam gram (, ons) bahan. baca juga: makanan yang mengandung vitamin b tinggi . bit bit adalah sayuran akar merah tua dengan rasa mani alami. buah bit termasuk makanan yang mengandung potasium tinggi. satu cangkir ( gram) bit dapat mengandung mg potasium, atau persen dari jumlah kebutuhan potasium harian. bit juga kaya akan folat dan mangan. selain itu, pigmen yang memberi bit warna, dapat bertindak sebagai antioksidan, yang dapat membantu melawan kerusakan oksidatif dan peradangan. tak hanya itu, bit mengandung pula nitrat tinggi, yang dapat meningkatkan fungsi pembuluh darah, tekanan darah tinggi, dan kinerja olahraga. kandungan potasium bit juga dapat meningkatkan fungsi pembuluh darah serta mengurangi risiko penyakit jantung. baca juga: makanan penurun darah tinggi untuk atasi hipertensi . bayam banyak orang telah memahami, bahwa bayam adalah sayuran yang sangat bergizi. bayam juga termasuk makanan yang mengandung potasium tinggi. satu cangkir ( gram) bayam yang dimasak, dapat menyediakan persen dari jumlah kebutuhan potasium harian. tak hanya itu, bayam ( gram) juga sanggup menyediakan hampir empat kali lipat jumlah kebutuhan vitamin harian, sepuluh kali lipat jumlah kebutuhan vitamin k harian, sekitar persen dari jumlah kebutuhan kalsium harian, dan hampir persen dari jumlah kebutuhan mangan harian. berbagai nutrisi tersebut pent untuk metabolisme, kesehatan penglihatan, kesehatan tulang, dan sistem kekebalan tubuh. menariknya, sayuran hijau berdaun seperti bayam juga penuh antioksidan. dalam sebuah penelitian terhadap tujuh wanita, mengkonsumsi minuman yang mengandung gram (, ons) bayam meningkatkan kapasita antioksidan total hampir persen selama jam berikutnya. baca juga: benarkah sayur bayam bisa sebabkan asam urat? . tomat tomat dan produk tomat, seperti sau tomat, dapat menjadi makanan tinggi potasium. satu cangkir ( gram) sau tomat rata-rata dapat mengandung persen dari jumlah kebutuhan potasium harian. tak hanya itu, tomat juga kaya akan vitamin dan miner lain, termasuk vitamin , vitamin c, vitamin e, vitamin b dan tembaga. terlebih lagi, tomat mengandung senyawa tanaman bermanfaat seperti likopen, yang dapat membantu melawan peradangan dan mengurangi risiko kanker prostat. dalam sebuah penelitian kecil terhadap orang-orang dengan sindrom metabolik, minum sekitar on ( ml) ju tomat empat kali seminggu selama dua bulan, secara signifikan meningkatkan peradangan, disfungsi pembuluh darah dan resistensi insulin. orang-orang tersebut juga mengalami penurunan kadar kolesterol jahat (ldl) dan sedikit peningkatan kolesterol baik (hdl). efek menguntungkan dari potasium dan likopen pada faktor risiko penyakit jantung menjadikan tomat pilihan yang bagu untuk kesehatan jantung. baca juga: makanan yang mengandung vitamin tinggi . jeruk buah jeruk selama ini terken karena mengandung vitamin c tinggi. padahal, jeruk juga termasuk sumber potasium yang baik. satu cangkir ju jeruk dapat menyediakan persen dari jumlah kebutuhan potasium harian. jeruk juga kaya akan folat, vitamin , tiamin dan antioksidan yang jela baik untuk kesehatan. selain itu, antioksidan tingkat tinggi yang ditemukan dalam jeruk maupun ju jeruk dapat membantu meningkatkan kemampuan tubuh untuk melawan radik bebas, peradangan dan penyakit jantung. . pisang pisang sudah diken sebagai makanan sumber kalium atau potasium yang baik. anggapan tersebut memang benar. satu bua pisang berukuran sedang saja dapat mengandung mg potasium atau persen dari jumlah kebutuhan potasium harian.buah lezat ini juga kaya akan vitamin c, vitamin b, mangan, magnesium, serat, dan antioksidan yang jela baik untuk kesehatan tubuh. baca juga: makanan yang mengandung antioksidan tinggi namun, konsumsi pisang tetap perlu dibatasi teruntuk penderita diabet mellitus. pisang matang pasalnya cenderung mengandung gula lebih tinggi dari buah lainnya. sebagai solusi bagi penderita diabetes, konsumsilah pisang hijau yang cenderung rendah gula dan tinggi pati resisten, yang dapat membantu mengontrol gula darah dan meningkatkan kesehatan usus. pisang hijau juga bisa menjadi obat rumahan yang efektif untuk diare. . alpukat alpukat termasuk buah yang mengandung potasium tinggi. satu buah alpukat berukuran sedang dapat menyediakan persen dari jumlah kebutuhan potasium harian. baca juga: makanan yang mengandung vitamin k tinggi selain itu, alpukat termasuk makanan kaya akan lemak tak jenuh tunggal yang sehat untuk jantung, serta sangat kaya akan serat, antioksidan, vitamin c, vitamin k, vitamin b, asam folat, dan asam pantotenat. penelitian telah menunjukkan bahwa alpukat mungkin bermanfaat untuk kesehatan jantung, manajemen berat badan dan sindrom metabolik. makan alpukat di antaranya dikaitkan dengan kualita makanan yang lebih baik, serta berat badan, lingkar pinggang dan risiko sindrom metabolik yang jauh lebih rendah. . yogurt yogurt merupakan sumber kalsium, riboflavin, dan potasium yang baik. satu cangkir ( gram) yogurt dapat memberi persen dari jumlah kebutuhan harian. karena yogurt adalah makanan yang difermentasi, ia juga mengandung bakteri yang mungkin bermanfaat bagi kesehatan usus. beberapa bukti menunjukkan yoghurt juga bermanfaat untuk pemeliharaan berat badan atau pengendalian nafsu makan. saat memb yogurt, usahakan memilih variasi yang biasa, karena yogurt rasa buah cenderung memiliki banyak gula tambahan. jika anda merasa yogurt tawar terlalu asam, maniskan dengan buah segar, kacang, atau sedikit madu. baca juga: manfaat makanan fermentasi untuk kesehatan . kerang kerang adalah sumber potasium yang sangat baik. satu porsi gram (, ons) kerang dapat menyediakan persen dari jumlah kebutuhan potasium harian. kerang juga sangat kaya akan nutrisi lain, seperti selenium, zat besi, dan vitamin b yang baik untuk tubuh. tak hanya itu, kerang juga merupakan sumber protein yang tinggi lemak omega- sehat, yang dikaitkan dengan berbagai manfaat kesehatan, termasuk memerangi peradangan dan penyakit terkait. . salmon salmon adalah makanan yang sangat bergizi. salmon dikema dengan protein berkualita tinggi, lemak omega- sehat dan banyak vitamin dan mineral, termasuk potasium. baca juga: makanan yang mengandung vitamin b tinggi melansir food data, gram salmon dapat menyediakan mg potasium atau persen dari jumlah kebutuhan potasium harian. pola makan kaya akan ikan berlemak sehat ini telah dikaitkan dengan berbagai manfaat kesehatan, terutama penurunan risiko penyakit jantung. . air kelapa air kelapa telah menjadi minuman kesehatan yang populer. tak hanya memiliki rasa mani tetapi rendah gula, air kelapa juga mengandung elektrolit tinggi. tubuh membutuhkan elektrolit untuk menyeimbangkan ph, mendukung fungsi saraf dan otot, hingga mencegah dehidrasi. salah satu elektrolit yang dibutuhkan tubuh adalah potasium. meminum satu gela ( gram) air kelapa dapat memberikan mg potasium, atau persen dari jumlah kebutuhan potassium harian. kandungan elektrolit air kelapa yang tinggi menjadikannya minuman yang sangat baik untuk rehidrasi setelah berolahraga berat. baca juga: makanan yang mengandung elektrolit tinggi\n",
            "https://health.kompas.com/read/2021/01/12/080400068/12-makanan-yang-mengandung-potasium-tinggi?page=all\n",
            "\n",
            "Nilai Similaritas: 0.022362213432666863\n",
            "kompas.com karbohidrat adalah nutrisi pent yang diperlukan tubuh setiap hari. karbohidrat termasuk zat gizi utama yang dibutuhkan tubuh bersama dengan protein dan lemak. fungsi utama karbohidrat adalah sebagai sumber energi atau bahan bakar bagi tubuh. baca juga: tip diet rendah karbohidrat untuk bantu turunkan berat badan meski demikian, mengonsumsi terlalu banyak makanan yang mengandung karbohidrat tetap perlu dibatasi. konsumsi karbohidrat berlebihan dapat menimbulkan sejumlah efek buruk bagi kesehatan. berikut ini beberapa di antaranya: . lesu dan lelah kelelahan kroni atau rasa lesu setelah mengonsumsi karbohidrat sederhan bisa menjadi efek samp dari kebiasaan makan terlalu banyak karbohidrat, menurut nation sleep foundation. meskipun makan makanan tinggi karbohidrat dapat meningkatkan kadar gula darah untuk sementara dan memberi energi pada tubuh dan otak untuk bertindak, peningkatan tersebut sere kali diikuti dengan penurunan cepat gula darah, yang salah satunya dapat mengurangi aktivita neuron tertentu yang terlibat dalam siklu tidur-bangun dan menghabiskan energi. sebagai gambaran, ketika anda makan terlalu banyak karbohidrat di siang hari, anda mungkin akan menemukan gangguan tidur, membuat anda merasa lelah keesokan harinya. . penambahan berat badan melansir eat , makan terlalu banyak karbohidrat padat kalori, seperti keripik, makanan yang dipanggang, pizza, minuman manis, koktail, dan biskuit jela dapat membebani tubuh. tapi, ada lebih banyak hal yang terjadi di sini daripada kelebihan kalori. baca juga: cara mengukur obesitas, mana yang terbaik? untuk memahami caranya, anda perlu terlebih dahulu mengetahui cara kerja insulin. di mana, ketika makan terlalu banyak karbohidrat olahan, banyak orang mengalami lonjakan insulin, yakni pankrea membanjiri tubuh dengan hormon untuk membantu glukosa memasuki sel tubuh yang menurunkan kadar glukosa dalam aliran darah. padahal, ketika sel mendapatkan lebih banyak glukosa daripada yang mereka butuhkan karena anda makan terlalu banyak karbohidrat, tubuh dapat mengubah kelebihan glukosa tersebut menjadi lemak. dalam sebuah studi di jurnal clinic chemistry, para penel di harvard medic school menganalisi data pada lebih dari . orang yang mengalami insulin tinggi setelah mengonsumsi karbohidrat olahan dan menemukan hubungan yang kuat dengan massa tubuh yang lebih tinggi. . perut kembung dan begah makan makanan yang kaya karbohidrat dapat membuat anda merasa kembung. baca juga: cara mengatasi perut kembung secara alami dan dengan bantuan obat banyak jeni karbohidrat, mulai dari makanan olahan bergula hingga buah-buahan dan sayuran hingga minuman berkarbonasi seperti soda yang dapat menghasilkan ga perut. makanan yang pale banyak menghasilkan ga adalah makanan karbohidrat rantai pendek yang disebut makanan fodmap (ferment oligo, disakarida, monosakarida, serta poliol). beberapa makanan tinggi fodmap umum di antaranya, yakni: baca juga: alasan konsumsi gula berlebihan buruk untuk kesehatan . lapar lagi makan banyak karbohidrat bergula dapat mengaktifkan bagian otak dengan cara yang mirip dengan pola yang terlibat dalam ketergantungan zat seperti kecanduan narkoba dan alkohol, menurut penelitian di archiv gener psychiatry. di mana, mengonsumsi karbohidrat dilaporkan dapat memicu pelepasan dopamin, hormon kesenangan. para penel telah mengukur aktivasi yang meningkat dari sirkuit penghargaan ini sebagai respon terhadap isyarat karbohidrat, serta penonaktifan area otak yang menghambat makan berlebihan. . gigi berlubang apakah anda sadar bahwa obsesi terhadap kentang goreng dan pizza juga dapat menyebabkan gigi berlubang? american journal clinic nutrition, karbohidrat, terutama yang bertepung seperti keripik, pasta, dan roti akan dipecah oleh air liur menjadi gula sederhana. baca juga: cara mencegah penumpukan plak gigi yang bisa sebabkan gigi berlubang sementara, bakteri di mulut dapat memakan gula ini dan menghasilkan asam yang memengaruhi ph plak, menyebabkan demineralisasi gigi, dan memicu kerusakan. jadi, dengarkan dokter gigi: sikat gigi setiap habi makan, terutama yang tinggi karbohidrat. . otak yang lamban glukosa dari karbohidrat adalah sumber energi utama otak. tapi, kebiasaan makan terlalu banyak karbohidrat dan bahan bakar otak itu bisa menjadi bumerang. dalam sebuah studi yang didanai oleh nation institut aging, penel melacak . orang berusia tahun ke ata selama sekitar empat tahun dan menemukan bahwa mereka yang mengonsumsi makanan tinggi karbohidrat, termasuk diet tinggi gula, memiliki risiko hampir empat kali lipat untuk mengembangkan gangguan kognitif ringan. asupan karbohidrat yang tinggi bisa berdampak buruk karena karbohidrat dapat memengaruhi metabolism glukosa dan insulin. gula memang menjadi bahan bakar otak. asupan sedang itu baik. namun, kadar gula yang tinggi dapat mencegah otak menggunakan gula, mirip dengan yang bisa dilihat pada kasu diabet tipe . baca juga: buah yang bagu untuk kesehatan otak . jerawat studi pola makan yang diterbitkan dalam journal academi nutrit dietetics, menunjukkan bahwa orang muda yang makan lebih banyak makanan manis, terutama karbohidrat olahan dengan tambahan gula serta susu dan lemak jenuh, dapat memperburuk jerawat. para penel meminta ( laki-laki, perempuan) peserta berusia sampai tahun untuk mengisi kuesion yang mengukur keparahan jerawat yang dilaporkan dan kebiasaan makan. para ahli menemukan bahwa, dibandingkan dengan peserta dengan jerawat ringan, mereka yang berjerawat sedang hingga parah melaporkan konsumsi gula tambahan, susu, dan lemak jenuh yang lebih besar. persen dari semua respond menyalahkan diet mereka sebagai penyebab jerawat. baca juga: cara menghilangkan bopeng beka jerawat secara alami . picu obesita melansir live strong, terlalu banyak karbohidrat sama dengan terlalu banyak kalori. dalam setiap gram karbohidrat, terkandung kalori. kalori pada dasarnya tidaklah buruk. kalori benar-benar dapat memberikan energi yang dibutuhkan tubuh untuk tetap aktif sepanjang hari. tetapi, makan terlalu banyak kalori dapat menyebabkan kenaikan berat badan karena tubuh akan menyimpan energi ekstra sebagai lemak. jadi, anda perlu mengontrol porsi makanan yang mengandung karbohidrat jika ingin menghindari obesita akibat kelebihan asupan kalori. . picu diabet makan terlalu banyak karbohidrat juga dapat berdampak negatif terhadap kadar gula darah. biasanya, gula darah berfungsi sebagai sumber energi untuk sel-sel tubuh. di mana, jaringan tubuh dapat mengambil gula dalam aliran darah dan mengubahnya menjadi energi yang dapat digunakan untuk hidup aktif. tetapi karbohidrat olahan berupa gula atau karbohidrat \"putih\", seperti nasi putih, roti putih, dan pasta dapat dicerna dengan cepat dan dapat menyebabkan lonjakan kadar gula darah. baca juga: cara mencegah diabet tipe yang baik dilakukan tubuh sebenarnya dapat merespon dengan melepaskan hormon untuk menurunkan kadar gula darah, tetapi seringkali berakhir dengan kompensasi berlebihan. seir berjalannya waktu, makan terlalu banyak karbohidrat dapat memengaruhi kemampuan tubuh untuk mengontrol kadar gula darah secara negatif. orang-orang yang mengonsumsi makanan dengan indek glikemik tinggi, yaitu satu pori penuh makanan kaya karbohidrat dapat menyebabkan lonjakan gula darah hingga menghadapi risiko lebih tinggi terkena diabet tipe-, menurut harvard school public health. jadi, pilih sumber karbohidrat sehat (kompleks), seperti kacang-kacangan, biji-bijian utuh, buah-buahan dan sayuran, daripada yang diolah, seperti permen atau pasta putih. karbohidrat sehat tidak meningkatkan gula darah dan lebih baik untuk mencegah diabet tipe . . picu kolesterol tinggi seir waktu, makan makanan tinggi karbohidrat, terutama karbohidrat sederhana atau olahan dapat pula meningkatkan kadar kolesterol jahat (ldl) dalam tubuh, yang meningkatkan risiko penyakit jantung. baca juga: makanan yang mengandung lemak tinggi tapi justru menyehatkan seperti diketahui, setelah mengonsumsi karbohidrat olahan, dalam waktu cepat tubuh akan mengolahnya sehingga berubah menjadi gula di dalam darah yang dibutuhkan tubuh sebagai bahan bakar untuk aktivitas. tapi, jika tak semua gula di darah terpakai, maka sebagian gula yang tersisa di dalam darah akan diubah menjadi trigliserida, yakni salah satu komponen lemak di dalam darah. dengan begitu, mengonsumsi karbohidrat berlebih atau terlalu banyak secara terus-menerus, dapat menyebabkan trigliserida tinggi di dalam darah. akibatnya, risiko terkana kolesterol tinggi menjadi meningkat. lantas, berapa kebutuhan karbohidrat harian? melansir healht line, kebutuhan kabohidrat harian pada setiap orang bisa berbeda-beda, tergantung pada sejumlah faktor, seperti usia, metabolisme, dan tingkat aktivitas. tapi secara umum, tubuh membutuhkan antara - persen kalori dari karbohidrat, yang berarti hingga gram karbohidrat setiap hari dalam diet . kalori. baca juga: bahaya diet rendah karbohidrat untuk orang indonesia, pemerintah telah memberikan petunjuk mengenai angka kebutuhan gizi (akg) karbohidrat yang dianjurkan. menurut peraturan menteri kesehatan republik (pmk) indonesia . tahun tentang angka kecukupan gizi yang dianjurkan untuk masyarakat indonesia, berikut ini nilai kebutuhan karbohidrat harian yang disarankan: bayi/anak - bulan: g- bulan: g- tahun: g- tahun: g- tahun: g laki-laki - tahun: g- tahun: g- tahun: g- tahun: g- tahun: g- tahun: g- tahun: g+ tahun: g perempuan - tahun: g- tahun: g- tahun: g- tahun: g- tahun: g- tahun: g- tahun: g+ tahun: g hamil trimest : + gtrimest : + gtrimest : + g menyusui bulan pertama: + g bulan kedua: + g untuk diingat, pemenuhan kebutuhan gizi bayi usia - bulan haruslah bersumb dari pemberian asi eksklusif. sementara itu, sebagai gambaran, berikut ini adalah beberapa makanan sumber karbohidrat yang dapat menyediakan kurang lebih kalori dan gram karbohidrat ketika dikonsumsi: baca juga: makanan yang mengandung serat tinggi\n",
            "https://health.kompas.com/read/2021/01/12/100800968/10-dampak-buruk-konsumsi-karbohidrat-berlebihan?page=all\n",
            "\n",
            "Nilai Similaritas: 0.014221061834229996\n",
            "kompas.com - sere merasa lelah bisa menjadi tanda atau gejala dari suatu penyakit. faktanya, penyakit seriu apa pun, seperti kanker atau stroke, maupun prose pemulihan dari perawatan medi tertentu dapat membuat seseorang menjadi mudah merasa lelah. beberapa penyakit lain juga bisa membuat seseorang merasa terhanyut mengalami kelelahan. baca juga: penyebab tubuh selalu merasa lelah yang baik diantisipasi berikut ini adalah beragam kondisi medi yang diketahui dapat menyebabkan rasa lelah biasa maupun kelelahan, yakni rasa lelah yang sere kali membebani dan tidak bisa diatasi dengan tidur atau istirahat: . anemia melansir nhs, salah satu alasan medi pale umum untuk merasa terus-meneru lelah adalah anemia defisiensi besi. wanita dengan menstruasi berat dan wanita hamil sangat rentan terhadap anemia. tapi, anemia juga bisa menyerang pria dan wanita pascamenopause. penyebab anemia pada pria dan wanita pascamenopaus biasanya adalah adanya masalah dengan perut dan usus, seperti maag atau mengonsumsi obat antiinflamasi non steroid (nsaid). ketika mengalami anemia, seseorang sere kali merasa tidak bisa diganggu untuk melakukan apa pun, otot terasa berat, dan cepat lelah. di sisi lain, terlalu banyak zat besi juga dapat menyebabkan kelelahan, yang diken sebagai gangguan kelebihan zat besi (hemokromatosis). hemokromatosi adalah kondisi bawaan yang relatif jarang terjadi yang memengaruhi pria dan wanita berusia - tahun. baca juga: gejala anemia defisiensi besi yang perlu diketahui . sleep apnea sleep apnea adalah suatu kondisi di mana tenggorokan menyempit atau menutup saat tidur dan berulang kali mengganggu pernapasan. hal ini menyebabkan dengkuran kera dan penurunan kadar oksigen dalam darah. kesulitan bernafa berarti sere terbangun di malam hari dan merasa kelelahan keesokan harinya. sleep apnea pale umum terjadi pada pria paruh baya yang kelebihan berat badan. minum alkohol dan merokok memperburuk keadaan. baca juga: gejala sleep apnea, gangguan tidur yang bisa picu serangan jantung . kelenjar tiroid kurang aktif kelenjar tiroid yang kurang aktif berarti seseorang memiliki terlalu sedikit hormon tiroid (tiroksin) dalam tubuhnya. kondisi yang dapat disebut sebagai hipotirodism ini bisa membuat penderitanya merasa lelah. hipotirodism juga cenderung menambah berat badan dan mengalami nyeri otot serta kulit kering. kelenjar tiroid kurang aktif pale umum terjadi pada wanita dan lebih sere terjadi seir bertambahnya usia. dokter umum dapat mendiagnosi tiroid yang kurang aktif dengan melakukan te darah. . penyakit celiac penyakit celiac adalah penyakit seumur hidup yang disebabkan oleh reaksi sistem kekebalan terhadap gluten. gluten adalah protein yang ditemukan dalam roti, kue, dan sereal. gejala penyakit celiac selain mudah lelah atau kelelahan, yakni: baca juga: penyebab anemia defisiensi besi yang perlu diwaspadai dokter umum dapat melakukan te darah untuk memeriksa apakah anda menderita penyakit celiac atau tidak. . sindrom kelelahan kroni sindrom kelelahan kroni atau diken sebagai myalgic encephalomyel () adalah kelelahan parah dan melumpuhkan yang berlangsung setidaknya selama bulan. pada kondisi ini, mungkin ada gejala lain, seperti nyeri otot atau sendi. . diabet salah satu gejala utama diabet tipe dan tipe adalah perasaan sangat lelah. gejala utama lainnya adalah: bicaralah dengan dokter umum jika anda merasa memiliki gejala diabetes. baca juga: makanan penyebab diabet yang haru diwaspadai . demam kelenjar glandular fever atau demam kelenjar adalah infeksi viru umum yang menyebabkan kelelahan, bersamaan dengan demam, sakit tenggorokan, dan pembengkakan kelenjar. kebanyakan kasu demam kelenjar terjadi pada remaja dan dewasa muda. gejala biasanya hilang dalam waktu hingga minggu, tetapi kelelahan bisa berlangsung selama beberapa bulan lagi. . depresi melansir medic news today, selain membuat anda merasa sangat sedih, depresi juga bisa membuat anda merasa kehabisan energi. pasalnya, depresi bisa membuat anda berhenti tidur atau membuat anda bangun di pagi hari, yang membuat anda merasa lebih lelah di siang hari. . sindrom kaki gelisah sindrom kaki gelisah atau restless leg syndrom adalah kondisi ketika anda merasa sangat ingin menggerakkan kaki, yang dapat membuat anda tetap terjaga di malam hari. baca juga: penyebab telapak tangan gatal dan cara mengatasinya anda mungkin juga mengalami sensasi merangkak yang tidak menyenangkan atau sakit yang dalam di kaki anda. atau, kaki anda mungkin tersentak secara spontan sepanjang malam. apapun gejalanya, tidur anda akan terganggu dan kualitasnya buruk, sehingga anda akan merasa sangat lelah sepanjang hari. . kecemasan merasa cema terkadang sangat normal. tetapi, beberapa orang memiliki perasaan cema yang terus-meneru tak terkendali yang begitu kuat, sehingga memengaruhi kehidupan sehari-hari mereka. dokter menyebut ini gangguan kecemasan umum atau gener anxieti disord (gad). gad adalah kondisi yang umum, memengaruhi lebih banyak wanita daripada pria. selain merasa khawatir dan mudah tersinggung, penderita gad juga sere merasa lelah. baca juga: dampak buruk konsumsi karbohidrat berlebihan\n",
            "https://health.kompas.com/read/2021/01/12/200800868/10-penyakit-yang-ditandai-dengan-kelelahan?page=all\n",
            "\n"
          ],
          "name": "stdout"
        }
      ]
    }
  ]
}