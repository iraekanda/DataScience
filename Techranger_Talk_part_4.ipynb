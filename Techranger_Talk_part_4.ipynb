{
  "nbformat": 4,
  "nbformat_minor": 0,
  "metadata": {
    "colab": {
      "name": "Techranger Talk part 4.ipynb",
      "provenance": []
    },
    "kernelspec": {
      "name": "python3",
      "display_name": "Python 3"
    }
  },
  "cells": [
    {
      "cell_type": "markdown",
      "metadata": {
        "id": "x51VapqInBu4"
      },
      "source": [
        "#Part 4\n",
        "##An Image Classifier for Rock, Paper, Scissors\n",
        "Lawrence Oks\n",
        "\n",
        "---\n",
        "\n",
        "Remember this?\n",
        "\n",
        "![alt text](https://imgur.com/YZ9gjeG.png)\n",
        "\n",
        "Earlier we discussed how difficult it might be to write a program that could recognize hands of different shapes, sizes, ethnicities, and more for something as simple as rock, paper, scissors. \n",
        "\n",
        "But since then, we've becoming machine learning experts! Learned how to build neural networks, first to detect patterns in raw pixels and then detect features using convolutions. \n",
        "\n",
        "Let's put it all together and train a model that can detect and spot rock, paper, and scissors."
      ]
    },
    {
      "cell_type": "markdown",
      "metadata": {
        "id": "EMEz3X4RoPvB"
      },
      "source": [
        "##Let's get started!\n",
        "We'll start by downloading a rock, paper, scissors dataset to train  with (one for training and one for testing):"
      ]
    },
    {
      "cell_type": "code",
      "metadata": {
        "id": "4vZXbefroicE",
        "outputId": "fbf6a96f-4f74-47c6-da78-8353ad0137ba",
        "colab": {
          "base_uri": "https://localhost:8080/",
          "height": 386
        }
      },
      "source": [
        "!wget --no-check-certificate \\\n",
        "    https://storage.googleapis.com/laurencemoroney-blog.appspot.com/rps.zip \\\n",
        "    -O /tmp/rps.zip\n",
        "  \n",
        "!wget --no-check-certificate \\\n",
        "    https://storage.googleapis.com/laurencemoroney-blog.appspot.com/rps-test-set.zip \\\n",
        "    -O /tmp/rps-test-set.zip"
      ],
      "execution_count": null,
      "outputs": [
        {
          "output_type": "stream",
          "text": [
            "--2020-02-06 18:20:48--  https://storage.googleapis.com/laurencemoroney-blog.appspot.com/rps.zip\n",
            "Resolving storage.googleapis.com (storage.googleapis.com)... 74.125.20.128, 2607:f8b0:400e:c09::80\n",
            "Connecting to storage.googleapis.com (storage.googleapis.com)|74.125.20.128|:443... connected.\n",
            "HTTP request sent, awaiting response... 200 OK\n",
            "Length: 200682221 (191M) [application/zip]\n",
            "Saving to: ‘/tmp/rps.zip’\n",
            "\n",
            "/tmp/rps.zip        100%[===================>] 191.38M  62.5MB/s    in 3.1s    \n",
            "\n",
            "2020-02-06 18:20:51 (62.5 MB/s) - ‘/tmp/rps.zip’ saved [200682221/200682221]\n",
            "\n",
            "--2020-02-06 18:20:52--  https://storage.googleapis.com/laurencemoroney-blog.appspot.com/rps-test-set.zip\n",
            "Resolving storage.googleapis.com (storage.googleapis.com)... 74.125.20.128, 2607:f8b0:400e:c09::80\n",
            "Connecting to storage.googleapis.com (storage.googleapis.com)|74.125.20.128|:443... connected.\n",
            "HTTP request sent, awaiting response... 200 OK\n",
            "Length: 29516758 (28M) [application/zip]\n",
            "Saving to: ‘/tmp/rps-test-set.zip’\n",
            "\n",
            "/tmp/rps-test-set.z 100%[===================>]  28.15M   114MB/s    in 0.2s    \n",
            "\n",
            "2020-02-06 18:20:52 (114 MB/s) - ‘/tmp/rps-test-set.zip’ saved [29516758/29516758]\n",
            "\n"
          ],
          "name": "stdout"
        }
      ]
    },
    {
      "cell_type": "markdown",
      "metadata": {
        "id": "Yf9aynJOozUW"
      },
      "source": [
        "We'll use python's built in ```zipfile``` library to unzip them, and store them in a temp directory like this:"
      ]
    },
    {
      "cell_type": "code",
      "metadata": {
        "id": "bPPedZs6ovQs"
      },
      "source": [
        "import os\n",
        "import zipfile\n",
        "\n",
        "local_zip = '/tmp/rps.zip'\n",
        "zip_ref = zipfile.ZipFile(local_zip, 'r')\n",
        "zip_ref.extractall('/tmp/')\n",
        "zip_ref.close()\n",
        "\n",
        "local_zip = '/tmp/rps-test-set.zip'\n",
        "zip_ref = zipfile.ZipFile(local_zip, 'r')\n",
        "zip_ref.extractall('/tmp/')\n",
        "zip_ref.close()"
      ],
      "execution_count": null,
      "outputs": []
    },
    {
      "cell_type": "markdown",
      "metadata": {
        "id": "WSBGLJhzqN5o"
      },
      "source": [
        "It's important to make sure your dataset looks how you expected. Let's quickly print out some validation of that before we move on:"
      ]
    },
    {
      "cell_type": "code",
      "metadata": {
        "id": "5oDoVxadp6rs",
        "outputId": "e2bc6aa8-d630-400c-b5d5-3d26bab1427e",
        "colab": {
          "base_uri": "https://localhost:8080/",
          "height": 138
        }
      },
      "source": [
        "rock_dir = os.path.join('/tmp/rps/rock')\n",
        "paper_dir = os.path.join('/tmp/rps/paper')\n",
        "scissors_dir = os.path.join('/tmp/rps/scissors')\n",
        "\n",
        "print('total training rock images:', len(os.listdir(rock_dir)))\n",
        "print('total training paper images:', len(os.listdir(paper_dir)))\n",
        "print('total training scissors images:', len(os.listdir(scissors_dir)))\n",
        "\n",
        "rock_files = os.listdir(rock_dir)\n",
        "print(rock_files[:10])\n",
        "\n",
        "paper_files = os.listdir(paper_dir)\n",
        "print(paper_files[:10])\n",
        "\n",
        "scissors_files = os.listdir(scissors_dir)\n",
        "print(scissors_files[:10])"
      ],
      "execution_count": null,
      "outputs": [
        {
          "output_type": "stream",
          "text": [
            "total training rock images: 840\n",
            "total training paper images: 840\n",
            "total training scissors images: 840\n",
            "['rock02-072.png', 'rock07-k03-102.png', 'rock07-k03-089.png', 'rock02-030.png', 'rock03-035.png', 'rock07-k03-021.png', 'rock04-061.png', 'rock05ck01-066.png', 'rock06ck02-075.png', 'rock06ck02-031.png']\n",
            "['paper04-038.png', 'paper01-103.png', 'paper07-006.png', 'paper04-006.png', 'paper02-118.png', 'paper03-050.png', 'paper07-052.png', 'paper03-036.png', 'paper07-086.png', 'paper03-014.png']\n",
            "['scissors04-114.png', 'scissors02-022.png', 'scissors02-030.png', 'testscissors02-097.png', 'scissors02-024.png', 'scissors01-109.png', 'scissors04-051.png', 'scissors03-119.png', 'scissors04-039.png', 'testscissors01-051.png']\n"
          ],
          "name": "stdout"
        }
      ]
    },
    {
      "cell_type": "markdown",
      "metadata": {
        "id": "q3kvUrToo68X"
      },
      "source": [
        "Unzipping them creates folders and sub-folders of each of our categories. When training in TensorFlow using an image data generator, we will automatically label the images based on the name of their parent directory. So, we don't need to create labels for the images, a really nice shortcut.\n",
        "\n",
        "![alt text](https://imgur.com/75kf8Hq.png)\n",
        "\n",
        "We'll achieve that with this code. This creates an image data generator that generates images for the training from the directory that they were donloaded to. We can then set up a **training generator**, which creates training data from that. "
      ]
    },
    {
      "cell_type": "code",
      "metadata": {
        "id": "Ifmbh5Zwr1Li",
        "outputId": "fdfb3d44-e2d1-44ea-91ec-904aba68ec1a",
        "colab": {
          "base_uri": "https://localhost:8080/",
          "height": 79
        }
      },
      "source": [
        "import tensorflow as tf\n",
        "import keras_preprocessing\n",
        "from keras_preprocessing import image\n",
        "from keras_preprocessing.image import ImageDataGenerator\n",
        "\n",
        "TRAINING_DIR = \"/tmp/rps/\"\n",
        "training_datagen = ImageDataGenerator(\n",
        "      rescale = 1./255,\n",
        "\t    rotation_range=40,\n",
        "      width_shift_range=0.2,\n",
        "      height_shift_range=0.2,\n",
        "      shear_range=0.2,\n",
        "      zoom_range=0.2,\n",
        "      horizontal_flip=True,\n",
        "      fill_mode='nearest')\n",
        "\n",
        "train_generator = training_datagen.flow_from_directory(\n",
        "\tTRAINING_DIR,\n",
        "\ttarget_size=(150,150),\n",
        "\tclass_mode='categorical'\n",
        ")"
      ],
      "execution_count": null,
      "outputs": [
        {
          "output_type": "display_data",
          "data": {
            "text/html": [
              "<p style=\"color: red;\">\n",
              "The default version of TensorFlow in Colab will soon switch to TensorFlow 2.x.<br>\n",
              "We recommend you <a href=\"https://www.tensorflow.org/guide/migrate\" target=\"_blank\">upgrade</a> now \n",
              "or ensure your notebook will continue to use TensorFlow 1.x via the <code>%tensorflow_version 1.x</code> magic:\n",
              "<a href=\"https://colab.research.google.com/notebooks/tensorflow_version.ipynb\" target=\"_blank\">more info</a>.</p>\n"
            ],
            "text/plain": [
              "<IPython.core.display.HTML object>"
            ]
          },
          "metadata": {
            "tags": []
          }
        },
        {
          "output_type": "stream",
          "text": [
            "Found 2520 images belonging to 3 classes.\n"
          ],
          "name": "stdout"
        }
      ]
    },
    {
      "cell_type": "markdown",
      "metadata": {
        "id": "8dQfVbujr5A7"
      },
      "source": [
        "We can do exactly the same for the test data with this code:"
      ]
    },
    {
      "cell_type": "code",
      "metadata": {
        "id": "Bs-NE7cbr7mv",
        "outputId": "d7096261-25a4-4820-9830-638073205707",
        "colab": {
          "base_uri": "https://localhost:8080/",
          "height": 34
        }
      },
      "source": [
        "VALIDATION_DIR = \"/tmp/rps-test-set/\"\n",
        "validation_datagen = ImageDataGenerator(rescale = 1./255)\n",
        "\n",
        "validation_generator = validation_datagen.flow_from_directory(\n",
        "\tVALIDATION_DIR,\n",
        "\ttarget_size=(150,150),\n",
        "\tclass_mode='categorical'\n",
        ")"
      ],
      "execution_count": null,
      "outputs": [
        {
          "output_type": "stream",
          "text": [
            "Found 372 images belonging to 3 classes.\n"
          ],
          "name": "stdout"
        }
      ]
    },
    {
      "cell_type": "markdown",
      "metadata": {
        "id": "XXwDUr8hshXA"
      },
      "source": [
        "Now lets look at our neural network definition! It's like what we've seen previously, just with some more layers. \n",
        "\n",
        "One reason for this is that the images now are more complicated than the grayscale pictures we were using before. Another is that they're much bigger: 150 x 150, versus the 28 x 28 previously. \n",
        "\n",
        "And our output is a layer of 3 neurons. Why? \n",
        "\n",
        "Between that input and output is pretty similar to what we've already seen. No we have four layers of convolutions, each with Max-Pooling before feeding into a Dense Layer. "
      ]
    },
    {
      "cell_type": "code",
      "metadata": {
        "id": "9PfrXNlWtbBU",
        "outputId": "9f9b316b-dee2-4d8a-f16b-141e801d15b1",
        "colab": {
          "base_uri": "https://localhost:8080/",
          "height": 625
        }
      },
      "source": [
        "model = tf.keras.models.Sequential([\n",
        "    # Note the input shape is the desired size of the image 150x150 with 3 bytes color\n",
        "    # This is the first convolution\n",
        "    tf.keras.layers.Conv2D(64, (3,3), activation='relu', input_shape=(150, 150, 3)),\n",
        "    tf.keras.layers.MaxPooling2D(2, 2),\n",
        "    # The second convolution\n",
        "    tf.keras.layers.Conv2D(64, (3,3), activation='relu'),\n",
        "    tf.keras.layers.MaxPooling2D(2,2),\n",
        "    # The third convolution\n",
        "    tf.keras.layers.Conv2D(128, (3,3), activation='relu'),\n",
        "    tf.keras.layers.MaxPooling2D(2,2),\n",
        "    # The fourth convolution\n",
        "    tf.keras.layers.Conv2D(128, (3,3), activation='relu'),\n",
        "    tf.keras.layers.MaxPooling2D(2,2),\n",
        "    # Flatten the results to feed into a DNN\n",
        "    tf.keras.layers.Flatten(),\n",
        "    tf.keras.layers.Dropout(0.5),\n",
        "    # 512 neuron hidden layer\n",
        "    tf.keras.layers.Dense(512, activation='relu'),\n",
        "    tf.keras.layers.Dense(3, activation='softmax')\n",
        "])\n",
        "\n",
        "model.summary()"
      ],
      "execution_count": null,
      "outputs": [
        {
          "output_type": "stream",
          "text": [
            "WARNING:tensorflow:From /usr/local/lib/python3.6/dist-packages/tensorflow_core/python/ops/resource_variable_ops.py:1630: calling BaseResourceVariable.__init__ (from tensorflow.python.ops.resource_variable_ops) with constraint is deprecated and will be removed in a future version.\n",
            "Instructions for updating:\n",
            "If using Keras pass *_constraint arguments to layers.\n",
            "Model: \"sequential\"\n",
            "_________________________________________________________________\n",
            "Layer (type)                 Output Shape              Param #   \n",
            "=================================================================\n",
            "conv2d (Conv2D)              (None, 148, 148, 64)      1792      \n",
            "_________________________________________________________________\n",
            "max_pooling2d (MaxPooling2D) (None, 74, 74, 64)        0         \n",
            "_________________________________________________________________\n",
            "conv2d_1 (Conv2D)            (None, 72, 72, 64)        36928     \n",
            "_________________________________________________________________\n",
            "max_pooling2d_1 (MaxPooling2 (None, 36, 36, 64)        0         \n",
            "_________________________________________________________________\n",
            "conv2d_2 (Conv2D)            (None, 34, 34, 128)       73856     \n",
            "_________________________________________________________________\n",
            "max_pooling2d_2 (MaxPooling2 (None, 17, 17, 128)       0         \n",
            "_________________________________________________________________\n",
            "conv2d_3 (Conv2D)            (None, 15, 15, 128)       147584    \n",
            "_________________________________________________________________\n",
            "max_pooling2d_3 (MaxPooling2 (None, 7, 7, 128)         0         \n",
            "_________________________________________________________________\n",
            "flatten (Flatten)            (None, 6272)              0         \n",
            "_________________________________________________________________\n",
            "dropout (Dropout)            (None, 6272)              0         \n",
            "_________________________________________________________________\n",
            "dense (Dense)                (None, 512)               3211776   \n",
            "_________________________________________________________________\n",
            "dense_1 (Dense)              (None, 3)                 1539      \n",
            "=================================================================\n",
            "Total params: 3,473,475\n",
            "Trainable params: 3,473,475\n",
            "Non-trainable params: 0\n",
            "_________________________________________________________________\n"
          ],
          "name": "stdout"
        }
      ]
    },
    {
      "cell_type": "markdown",
      "metadata": {
        "id": "Ix4r7w7btfJ5"
      },
      "source": [
        "The **Dropout** is a little trick to improve the efficiency of a neural network by throwing away some of the neurons while training.\n",
        "\n",
        "We'll compile the neural network just like before: "
      ]
    },
    {
      "cell_type": "code",
      "metadata": {
        "id": "oeF_NIdptuOO"
      },
      "source": [
        "model.compile(loss = 'categorical_crossentropy', \n",
        "              optimizer='rmsprop', \n",
        "              metrics=['accuracy'])"
      ],
      "execution_count": null,
      "outputs": []
    },
    {
      "cell_type": "markdown",
      "metadata": {
        "id": "VDMINhqDt02m"
      },
      "source": [
        "Then we'll fit the data. Notice this one looks a little different: this time we don't have labels, because we're using the generator to infer the labels from the parent directories for both training and validation(testing). "
      ]
    },
    {
      "cell_type": "code",
      "metadata": {
        "id": "vkzB4XlnuwHj",
        "outputId": "9dce79ee-7b06-487a-f0e1-2d8a623973d2",
        "colab": {
          "base_uri": "https://localhost:8080/",
          "height": 1000
        }
      },
      "source": [
        "history = model.fit_generator(train_generator, epochs=20, validation_data = validation_generator, verbose = 1)"
      ],
      "execution_count": null,
      "outputs": [
        {
          "output_type": "stream",
          "text": [
            "Epoch 1/20\n",
            "78/79 [============================>.] - ETA: 2s - loss: 1.1718 - acc: 0.3774Epoch 1/20\n",
            "79/79 [==============================] - 191s 2s/step - loss: 1.1697 - acc: 0.3778 - val_loss: 0.9206 - val_acc: 0.4140\n",
            "Epoch 2/20\n",
            "78/79 [============================>.] - ETA: 2s - loss: 0.9038 - acc: 0.5796Epoch 1/20\n",
            "79/79 [==============================] - 189s 2s/step - loss: 0.9008 - acc: 0.5825 - val_loss: 0.3831 - val_acc: 0.7742\n",
            "Epoch 3/20\n",
            "78/79 [============================>.] - ETA: 2s - loss: 0.6130 - acc: 0.7464Epoch 1/20\n",
            "79/79 [==============================] - 188s 2s/step - loss: 0.6137 - acc: 0.7448 - val_loss: 0.1765 - val_acc: 0.9570\n",
            "Epoch 4/20\n",
            "78/79 [============================>.] - ETA: 2s - loss: 0.3716 - acc: 0.8517Epoch 1/20\n",
            "79/79 [==============================] - 189s 2s/step - loss: 0.3766 - acc: 0.8516 - val_loss: 0.2380 - val_acc: 0.9946\n",
            "Epoch 5/20\n",
            "78/79 [============================>.] - ETA: 2s - loss: 0.3187 - acc: 0.8834Epoch 1/20\n",
            "79/79 [==============================] - 189s 2s/step - loss: 0.3153 - acc: 0.8849 - val_loss: 0.0934 - val_acc: 0.9731\n",
            "Epoch 6/20\n",
            "78/79 [============================>.] - ETA: 2s - loss: 0.2390 - acc: 0.9176Epoch 1/20\n",
            "79/79 [==============================] - 189s 2s/step - loss: 0.2374 - acc: 0.9179 - val_loss: 0.0441 - val_acc: 0.9919\n",
            "Epoch 7/20\n",
            "78/79 [============================>.] - ETA: 2s - loss: 0.2037 - acc: 0.9277Epoch 1/20\n",
            "79/79 [==============================] - 188s 2s/step - loss: 0.2069 - acc: 0.9274 - val_loss: 0.1315 - val_acc: 0.9946\n",
            "Epoch 8/20\n",
            "78/79 [============================>.] - ETA: 2s - loss: 0.1666 - acc: 0.9413Epoch 1/20\n",
            "79/79 [==============================] - 186s 2s/step - loss: 0.1649 - acc: 0.9421 - val_loss: 0.0126 - val_acc: 1.0000\n",
            "Epoch 9/20\n",
            "78/79 [============================>.] - ETA: 2s - loss: 0.1758 - acc: 0.9433Epoch 1/20\n",
            "79/79 [==============================] - 188s 2s/step - loss: 0.1748 - acc: 0.9433 - val_loss: 0.0264 - val_acc: 0.9839\n",
            "Epoch 10/20\n",
            "78/79 [============================>.] - ETA: 2s - loss: 0.1466 - acc: 0.9453Epoch 1/20\n",
            "79/79 [==============================] - 188s 2s/step - loss: 0.1453 - acc: 0.9456 - val_loss: 0.0031 - val_acc: 1.0000\n",
            "Epoch 11/20\n",
            "78/79 [============================>.] - ETA: 2s - loss: 0.1387 - acc: 0.9482Epoch 1/20\n",
            "79/79 [==============================] - 189s 2s/step - loss: 0.1395 - acc: 0.9476 - val_loss: 0.2104 - val_acc: 0.8898\n",
            "Epoch 12/20\n",
            "78/79 [============================>.] - ETA: 2s - loss: 0.1393 - acc: 0.9510Epoch 1/20\n",
            "79/79 [==============================] - 188s 2s/step - loss: 0.1388 - acc: 0.9512 - val_loss: 0.0461 - val_acc: 0.9812\n",
            "Epoch 13/20\n",
            "78/79 [============================>.] - ETA: 2s - loss: 0.1207 - acc: 0.9546Epoch 1/20\n",
            "79/79 [==============================] - 188s 2s/step - loss: 0.1192 - acc: 0.9552 - val_loss: 0.0344 - val_acc: 0.9839\n",
            "Epoch 14/20\n",
            "78/79 [============================>.] - ETA: 2s - loss: 0.1288 - acc: 0.9534Epoch 1/20\n",
            "79/79 [==============================] - 188s 2s/step - loss: 0.1285 - acc: 0.9532 - val_loss: 0.0833 - val_acc: 0.9704\n",
            "Epoch 15/20\n",
            "78/79 [============================>.] - ETA: 2s - loss: 0.1199 - acc: 0.9618Epoch 1/20\n",
            "79/79 [==============================] - 188s 2s/step - loss: 0.1185 - acc: 0.9623 - val_loss: 0.0363 - val_acc: 0.9812\n",
            "Epoch 16/20\n",
            "78/79 [============================>.] - ETA: 2s - loss: 0.1089 - acc: 0.9670Epoch 1/20\n",
            "79/79 [==============================] - 187s 2s/step - loss: 0.1200 - acc: 0.9643 - val_loss: 0.0663 - val_acc: 1.0000\n",
            "Epoch 17/20\n",
            "78/79 [============================>.] - ETA: 2s - loss: 0.0872 - acc: 0.9682Epoch 1/20\n",
            "79/79 [==============================] - 190s 2s/step - loss: 0.0878 - acc: 0.9683 - val_loss: 0.0065 - val_acc: 1.0000\n",
            "Epoch 18/20\n",
            "78/79 [============================>.] - ETA: 2s - loss: 0.0864 - acc: 0.9699Epoch 1/20\n",
            "79/79 [==============================] - 190s 2s/step - loss: 0.0858 - acc: 0.9702 - val_loss: 0.0291 - val_acc: 0.9839\n",
            "Epoch 19/20\n",
            "78/79 [============================>.] - ETA: 2s - loss: 0.0889 - acc: 0.9735Epoch 1/20\n",
            "79/79 [==============================] - 189s 2s/step - loss: 0.0905 - acc: 0.9726 - val_loss: 0.0949 - val_acc: 0.9677\n",
            "Epoch 20/20\n",
            "78/79 [============================>.] - ETA: 2s - loss: 0.0707 - acc: 0.9807Epoch 1/20\n",
            "79/79 [==============================] - 188s 2s/step - loss: 0.0698 - acc: 0.9810 - val_loss: 0.0357 - val_acc: 0.9812\n"
          ],
          "name": "stdout"
        }
      ]
    },
    {
      "cell_type": "markdown",
      "metadata": {
        "id": "Wdv_X2qYuxUV"
      },
      "source": [
        "And we'll even save the model this time to a file, like this: "
      ]
    },
    {
      "cell_type": "code",
      "metadata": {
        "id": "qnAvAjeau0dE"
      },
      "source": [
        "model.save(\"rps.h5\")"
      ],
      "execution_count": null,
      "outputs": []
    },
    {
      "cell_type": "markdown",
      "metadata": {
        "id": "bNZmNbWQvU3H"
      },
      "source": [
        "##Overfitting"
      ]
    },
    {
      "cell_type": "markdown",
      "metadata": {
        "id": "6jlnvWiTu_6D"
      },
      "source": [
        "You'll notice if we run this that we will probably quickly get to an accuracy of about 100% on the training data, but only about 87% on the testing set. This is called **overfitting**, which happens when the model gets really good at spotting what it's seen before, but not good at generalizing for new data it has to predict. \n",
        "\n",
        "This is a really important topic in ML and depending on the type of problem you're trying to solve, there are many different ways to solve overfitting. "
      ]
    },
    {
      "cell_type": "markdown",
      "metadata": {
        "id": "BtgGZuCbw8Tm"
      },
      "source": [
        "Here's some math code to display how well our training and testing went over time:"
      ]
    },
    {
      "cell_type": "code",
      "metadata": {
        "id": "ONg1GW-_xDAP",
        "outputId": "c072811d-d4a4-4696-f93f-9a1393c82ab9",
        "colab": {
          "base_uri": "https://localhost:8080/",
          "height": 298
        }
      },
      "source": [
        "import matplotlib.pyplot as plt\n",
        "acc = history.history['acc']\n",
        "val_acc = history.history['val_acc']\n",
        "loss = history.history['loss']\n",
        "val_loss = history.history['val_loss']\n",
        "\n",
        "epochs = range(len(acc))\n",
        "\n",
        "plt.plot(epochs, acc, 'r', label='Training accuracy')\n",
        "plt.plot(epochs, val_acc, 'b', label='Validation accuracy')\n",
        "plt.title('Training and validation accuracy')\n",
        "plt.legend(loc=0)\n",
        "plt.figure()\n",
        "\n",
        "\n",
        "plt.show()"
      ],
      "execution_count": null,
      "outputs": [
        {
          "output_type": "display_data",
          "data": {
            "image/png": "[encoded data removed]",
            "text/plain": [
              "<Figure size 432x288 with 1 Axes>"
            ]
          },
          "metadata": {
            "tags": []
          }
        },
        {
          "output_type": "display_data",
          "data": {
            "text/plain": [
              "<Figure size 432x288 with 0 Axes>"
            ]
          },
          "metadata": {
            "tags": []
          }
        }
      ]
    },
    {
      "cell_type": "markdown",
      "metadata": {
        "id": "mgmT8pYAxMOc"
      },
      "source": [
        "##Let's see it in action"
      ]
    },
    {
      "cell_type": "markdown",
      "metadata": {
        "id": "w_IM5t1zxI0R"
      },
      "source": [
        "And if all has worked well, we'll be able to upload a picture of a rock, paper, or scissors and our model can predict what it is. "
      ]
    },
    {
      "cell_type": "code",
      "metadata": {
        "id": "3N_uwUFnxVIf",
        "outputId": "d17cf803-e9f0-4122-e6be-f573e575ca33",
        "colab": {
          "resources": {
            "http://localhost:8080/nbextensions/google.colab/files.js": {
              "data": "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",
              "ok": true,
              "headers": [
                [
                  "content-type",
                  "application/javascript"
                ]
              ],
              "status": 200,
              "status_text": ""
            }
          },
          "base_uri": "https://localhost:8080/",
          "height": 104
        }
      },
      "source": [
        "import numpy as np\n",
        "from google.colab import files\n",
        "from keras.preprocessing import image\n",
        "\n",
        "uploaded = files.upload()\n",
        "\n",
        "for fn in uploaded.keys():\n",
        " \n",
        "  # predicting images\n",
        "  path = fn\n",
        "  img = image.load_img(path, target_size=(150, 150))\n",
        "  x = image.img_to_array(img)\n",
        "  x = np.expand_dims(x, axis=0)\n",
        "\n",
        "  images = np.vstack([x])\n",
        "  classes = model.predict(images, batch_size=10)\n",
        "  print(fn)\n",
        "  print(classes)"
      ],
      "execution_count": null,
      "outputs": [
        {
          "output_type": "display_data",
          "data": {
            "text/html": [
              "\n",
              "     <input type=\"file\" id=\"files-731c5cd3-5ebd-4849-9e8b-be6fa133bda9\" name=\"files[]\" multiple disabled />\n",
              "     <output id=\"result-731c5cd3-5ebd-4849-9e8b-be6fa133bda9\">\n",
              "      Upload widget is only available when the cell has been executed in the\n",
              "      current browser session. Please rerun this cell to enable.\n",
              "      </output>\n",
              "      <script src=\"/nbextensions/google.colab/files.js\"></script> "
            ],
            "text/plain": [
              "<IPython.core.display.HTML object>"
            ]
          },
          "metadata": {
            "tags": []
          }
        },
        {
          "output_type": "stream",
          "text": [
            "Saving scissors.png to scissors (1).png\n",
            "scissors.png\n",
            "[[0. 0. 1.]]\n"
          ],
          "name": "stdout"
        }
      ]
    }
  ]
}